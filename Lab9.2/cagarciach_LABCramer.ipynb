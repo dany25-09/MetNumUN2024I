{
  "nbformat": 4,
  "nbformat_minor": 0,
  "metadata": {
    "colab": {
      "provenance": [],
      "include_colab_link": true
    },
    "kernelspec": {
      "name": "python3",
      "display_name": "Python 3"
    },
    "language_info": {
      "name": "python"
    }
  },
  "cells": [
    {
      "cell_type": "markdown",
      "metadata": {
        "id": "view-in-github",
        "colab_type": "text"
      },
      "source": [
        "<a href=\"https://colab.research.google.com/github/dany25-09/MetNumUN2024I/blob/main/Lab9.2/cagarciach_LABCramer.ipynb\" target=\"_parent\"><img src=\"https://colab.research.google.com/assets/colab-badge.svg\" alt=\"Open In Colab\"/></a>"
      ]
    },
    {
      "cell_type": "markdown",
      "source": [
        "### Cramer by hand\n",
        "\n",
        "$$A = \\left[\n",
        "  \\begin{array}{cc}\n",
        "1 & 2\\\\\n",
        "3 & 4\n",
        "\\end{array}\n",
        "\\right],  \n",
        "b= \\left[\n",
        "\\begin{array}{c}\n",
        "5\\\\\n",
        "6\n",
        "\\end{array}\n",
        "\\right]\n",
        "$$\n",
        "$$\n",
        "Ax =B\n",
        "$$\n",
        "$$  \n",
        "\\left[\n",
        "  \\begin{array}{cc}\n",
        "1 & 2\\\\\n",
        "3 & 4\n",
        "\\end{array}\n",
        "\\right]\n",
        "\\left[\n",
        "\\begin{array}{c}\n",
        "x_1\\\\\n",
        "x_2\n",
        "\\end{array}\n",
        "\\right]  \n",
        "=\n",
        "\\left[\n",
        "\\begin{array}{c}\n",
        "5\\\\\n",
        "6\n",
        "\\end{array}\n",
        "\\right]\n",
        "$$\n",
        "\n",
        "$$Det\\ A =  (1 * 4) - (3 * 2)  = 4 - 6 = -2$$\n",
        "\n",
        "$$A_1 = \\left[\n",
        "  \\begin{array}{cc}\n",
        "5 & 2\\\\\n",
        "6 & 4\n",
        "\\end{array}\n",
        "\\right]\n",
        "$$\n",
        "\n",
        "$$Det\\ A_1 = (5 * 4) - (6 * 2) = 20 - 12 =  8$$\n",
        "\n",
        "$$x_1 =  \\frac{Det\\ A_1}{Det\\ A}= \\frac{8}{-2} =  -4$$\n",
        "\n",
        "$$A_2 = \\left[\n",
        "  \\begin{array}{cc}\n",
        "1 & 5\\\\\n",
        "3 & 6\n",
        "\\end{array}\n",
        "\\right]\n",
        "$$\n",
        "\n",
        "$$Det\\ A_2 = (1*6) - (3*5)  = 6 -15 = -9$$\n",
        "\n",
        "$$x_2 = \\frac{Det\\ A_2}{Det\\ A}= \\frac{-9}{-2} =  \\frac{9}{2}$$"
      ],
      "metadata": {
        "id": "SUmNm2PmfHU7"
      }
    },
    {
      "cell_type": "markdown",
      "source": [
        "- ***Adding a single digit to any number requires about 7.30 bits of processing.*** - World Mental Calculation: News and Resources for Competitive and Advanced Mental Calculation https://worldmentalcalculation.com/2019/06/30/fastest-possible-processing-speed-of-the-human-brain/\n",
        "\n",
        "- ***The human brain can process 11 million bits of information every second. But our conscious minds can handle only 40 to 50 bits of information a second.*** - Understanding Unconscious Bias https://www.npr.org/2020/07/14/891140598/understanding-unconscious-bias\n",
        "\n",
        "- ***A new way to analyze human reaction times shows that the brain processes data no faster than 60 bits per second.***- New Measure of Human Brain Processing Speed https://www.technologyreview.com/2009/08/25/210267/new-measure-of-human-brain-processing-speed/\n",
        "\n",
        "\n"
      ],
      "metadata": {
        "id": "3rH8z64pk2XV"
      }
    },
    {
      "cell_type": "markdown",
      "source": [
        "# Number of operations to compute a determinant by cofactor expasion\n",
        "- Cofactor expansion https://people.math.carleton.ca/~kcheung/math/notes/MATH1107/07/07_cofactor_expansion.html\n",
        "## Definition of A(i∣j)\n",
        "Let $A$ be an $n\\times n$ matrix. Let $i,j \\in \\{1,…,n\\}$. We define $A(i∣j)$  to be the matrix obtained from $A$ by removing row $i$ and column $j$ from $A$.\n",
        "\n",
        "## Cofactor formula\n",
        "One way of computing the determinant of an $n\\times n$  matrix\n",
        "\n",
        "$$A = \\left[\n",
        "  \\begin{array}{cccc}\n",
        "a_{11} & a_{12} & \\cdots & a_{1n}\\\\\n",
        "a_{21} & a_{22} & \\cdots & a_{2n}\\\\\n",
        "\\vdots  & \\vdots & \\ddots & \\vdots\\\\\n",
        "a_{n1} & a_{n2} & \\cdots & a_{nn}\\\\\n",
        "\\end{array}\n",
        "\\right]\n",
        "$$\n",
        "is to use the following formula called the cofactor formula.\n",
        "\n",
        "Pick either any $i\\ \\in \\{1,…,n\\}$ (fixed row) or $i\\ \\in \\{1,…,n\\}$ (fixed column). Then\n",
        "\n",
        "$$\\det(A)  = \\sum_{j=1}^n (-1)^{i+j}a_{ij} \\det(A(i∣j)) $$\n",
        "\n",
        "\n",
        "$C_{i,j}= (-1)^{i+j}a_{ij} \\det(A(i∣j))$ is called a cofactor of $A$.\n",
        "\n",
        "$$\\det(A)  = \\sum_{j=1}^n C_{i,j} $$\n",
        "\n"
      ],
      "metadata": {
        "id": "CgrSIpDOnaGQ"
      }
    },
    {
      "cell_type": "code",
      "source": [
        "# Code from https://stackoverflow.com/questions/16510111/computing-determinant-of-a-matrix-nxn-recursively\n",
        "\n",
        "import numpy as np\n",
        "\n",
        "def smaller_matrix(original_matrix,row, column):\n",
        "    for ii in range(len(original_matrix)):\n",
        "        new_matrix=np.delete(original_matrix,ii,0)\n",
        "        new_matrix=np.delete(new_matrix,column,1)\n",
        "        return new_matrix\n",
        "\n",
        "\n",
        "def determinant(matrix):\n",
        "    \"\"\"Returns a determinant of a matrix by recursive method.\"\"\"\n",
        "    (r,c) = matrix.shape\n",
        "    if r != c:\n",
        "        print(\"Error!Not a square matrix!\")\n",
        "        return None\n",
        "    elif r==2:\n",
        "        simple_determinant = matrix[0][0]*matrix[1][1]-matrix[0][1]*matrix[1][0]\n",
        "        return simple_determinant\n",
        "    else:\n",
        "        answer=0\n",
        "        for j in range(r):\n",
        "            cofactor = (-1)**(0+j) * matrix[0][j] * determinant(smaller_matrix(matrix, 0, j))\n",
        "            answer+= cofactor\n",
        "        return answer"
      ],
      "metadata": {
        "id": "J-joKRBhC7eF"
      },
      "execution_count": null,
      "outputs": []
    },
    {
      "cell_type": "code",
      "source": [
        "#test the function\n",
        "#Only works for numpy.array input\n",
        "np.random.seed(1)"
      ],
      "metadata": {
        "id": "Il2pcRD4DptG"
      },
      "execution_count": null,
      "outputs": []
    },
    {
      "cell_type": "code",
      "source": [
        "n = 2\n",
        "matrix=np.random.randint(-5,5,size=(n,n))\n",
        "matrix"
      ],
      "metadata": {
        "colab": {
          "base_uri": "https://localhost:8080/"
        },
        "id": "AgKC1-aiFRW2",
        "outputId": "4a6f1d49-038f-453b-e6dc-0c86d09ce50b"
      },
      "execution_count": null,
      "outputs": [
        {
          "output_type": "execute_result",
          "data": {
            "text/plain": [
              "array([[0, 3],\n",
              "       [4, 0]])"
            ]
          },
          "metadata": {},
          "execution_count": 36
        }
      ]
    },
    {
      "cell_type": "code",
      "source": [
        "determinant(matrix)"
      ],
      "metadata": {
        "colab": {
          "base_uri": "https://localhost:8080/"
        },
        "outputId": "b6848f7f-7ea2-4237-e7eb-b7c21e0ac442",
        "id": "oI0rUp-SDptH"
      },
      "execution_count": null,
      "outputs": [
        {
          "output_type": "execute_result",
          "data": {
            "text/plain": [
              "-12"
            ]
          },
          "metadata": {},
          "execution_count": 37
        }
      ]
    },
    {
      "cell_type": "code",
      "source": [
        "np.linalg.det(matrix)"
      ],
      "metadata": {
        "colab": {
          "base_uri": "https://localhost:8080/"
        },
        "id": "iqZv7iK-KKXH",
        "outputId": "1ce580f8-fe15-4968-f59a-dabafd461420"
      },
      "execution_count": null,
      "outputs": [
        {
          "output_type": "execute_result",
          "data": {
            "text/plain": [
              "-12.0"
            ]
          },
          "metadata": {},
          "execution_count": 38
        }
      ]
    },
    {
      "cell_type": "code",
      "source": [
        "round(np.linalg.det(matrix))"
      ],
      "metadata": {
        "colab": {
          "base_uri": "https://localhost:8080/"
        },
        "id": "sY21rHM-KdlO",
        "outputId": "936f670c-4c9a-4226-83f0-7cd0b00aab62"
      },
      "execution_count": null,
      "outputs": [
        {
          "output_type": "execute_result",
          "data": {
            "text/plain": [
              "-12"
            ]
          },
          "metadata": {},
          "execution_count": 39
        }
      ]
    },
    {
      "cell_type": "code",
      "source": [
        "n = 5\n",
        "matrix=np.diag(np.random.randint(-10,10,size=(n)))\n",
        "matrix"
      ],
      "metadata": {
        "colab": {
          "base_uri": "https://localhost:8080/"
        },
        "id": "-QXGZWFIDs5k",
        "outputId": "a9471c16-ad5e-46c5-aa7f-3d3f4729da9a"
      },
      "execution_count": null,
      "outputs": [
        {
          "output_type": "execute_result",
          "data": {
            "text/plain": [
              "array([[  5,   0,   0,   0,   0],\n",
              "       [  0, -10,   0,   0,   0],\n",
              "       [  0,   0,   6,   0,   0],\n",
              "       [  0,   0,   0,  -9,   0],\n",
              "       [  0,   0,   0,   0,   2]])"
            ]
          },
          "metadata": {},
          "execution_count": 40
        }
      ]
    },
    {
      "cell_type": "code",
      "source": [
        "determinant(matrix)"
      ],
      "metadata": {
        "colab": {
          "base_uri": "https://localhost:8080/"
        },
        "id": "VP6hRwhwD-3W",
        "outputId": "47d106b5-6e20-459a-99f0-e0268d68aa19"
      },
      "execution_count": null,
      "outputs": [
        {
          "output_type": "execute_result",
          "data": {
            "text/plain": [
              "5400"
            ]
          },
          "metadata": {},
          "execution_count": 41
        }
      ]
    },
    {
      "cell_type": "code",
      "source": [
        "np.linalg.det(matrix)"
      ],
      "metadata": {
        "colab": {
          "base_uri": "https://localhost:8080/"
        },
        "id": "8NV7Zvp-KtRz",
        "outputId": "bb51090a-5d60-4a58-af1e-bb0a32901155"
      },
      "execution_count": null,
      "outputs": [
        {
          "output_type": "execute_result",
          "data": {
            "text/plain": [
              "5400.000000000003"
            ]
          },
          "metadata": {},
          "execution_count": 42
        }
      ]
    },
    {
      "cell_type": "code",
      "source": [
        "round(np.linalg.det(matrix))"
      ],
      "metadata": {
        "colab": {
          "base_uri": "https://localhost:8080/"
        },
        "id": "HXKK3weLKt5T",
        "outputId": "6efd5722-21be-4bf9-aa80-bdb4018ded28"
      },
      "execution_count": null,
      "outputs": [
        {
          "output_type": "execute_result",
          "data": {
            "text/plain": [
              "5400"
            ]
          },
          "metadata": {},
          "execution_count": 43
        }
      ]
    },
    {
      "cell_type": "code",
      "source": [
        "# Modified from the previous code\n",
        "import numpy as np\n",
        "\n",
        "# A a squared numpy matrix\n",
        "def det(A):\n",
        "    \"\"\"Returns a determinant of a matrix by recursive method.\"\"\"\n",
        "    (r,c) = A.shape\n",
        "    if r != c:\n",
        "        print(\"Error!Not a square matrix!\")\n",
        "        return None\n",
        "    elif r==1:\n",
        "          # the code with  r==2 is more efficient but we use this\n",
        "         # because the number of operations is easier to compute\n",
        "        return A[0][0]\n",
        "    else:\n",
        "        answer=0\n",
        "        for j in range(r):\n",
        "            s = 1 if (0+j)%2 == 0 else -1\n",
        "            Aij = np.delete(A,0,0)\n",
        "            Aij = np.delete(Aij,j,1)\n",
        "            cofactor = (s) * A[0][j] * det(Aij)\n",
        "            answer+= cofactor\n",
        "        return answer"
      ],
      "metadata": {
        "id": "B258g8lnBgnG"
      },
      "execution_count": null,
      "outputs": []
    },
    {
      "cell_type": "code",
      "source": [
        "#test the function\n",
        "#Only works for numpy.array input\n",
        "np.random.seed(1)"
      ],
      "metadata": {
        "id": "ZR2mjlqiGdM6"
      },
      "execution_count": null,
      "outputs": []
    },
    {
      "cell_type": "code",
      "source": [
        "n = 2\n",
        "A=np.random.randint(-5,5,size=(n,n))\n",
        "A"
      ],
      "metadata": {
        "colab": {
          "base_uri": "https://localhost:8080/"
        },
        "outputId": "757df33a-439b-484d-e23e-04340cad0588",
        "id": "jPpBCFaoGlak"
      },
      "execution_count": null,
      "outputs": [
        {
          "output_type": "execute_result",
          "data": {
            "text/plain": [
              "array([[0, 3],\n",
              "       [4, 0]])"
            ]
          },
          "metadata": {},
          "execution_count": 19
        }
      ]
    },
    {
      "cell_type": "code",
      "source": [
        "det(A)"
      ],
      "metadata": {
        "colab": {
          "base_uri": "https://localhost:8080/"
        },
        "outputId": "78faec19-eecf-4f09-c80f-4eff941569e6",
        "id": "WKbuirZeGlak"
      },
      "execution_count": null,
      "outputs": [
        {
          "output_type": "execute_result",
          "data": {
            "text/plain": [
              "-12"
            ]
          },
          "metadata": {},
          "execution_count": 20
        }
      ]
    },
    {
      "cell_type": "code",
      "source": [
        "determinant(A)"
      ],
      "metadata": {
        "colab": {
          "base_uri": "https://localhost:8080/"
        },
        "id": "_B5xBFirTvQm",
        "outputId": "4fa58e59-b245-492f-ab23-f74e8a4647e1"
      },
      "execution_count": null,
      "outputs": [
        {
          "output_type": "execute_result",
          "data": {
            "text/plain": [
              "-12"
            ]
          },
          "metadata": {},
          "execution_count": 21
        }
      ]
    },
    {
      "cell_type": "code",
      "source": [
        "np.linalg.det(A)"
      ],
      "metadata": {
        "colab": {
          "base_uri": "https://localhost:8080/"
        },
        "outputId": "ca37baae-dea5-4be7-fdb0-35c6d4f2bbd0",
        "id": "bRyF2dsFLbXC"
      },
      "execution_count": null,
      "outputs": [
        {
          "output_type": "execute_result",
          "data": {
            "text/plain": [
              "-12.0"
            ]
          },
          "metadata": {},
          "execution_count": 22
        }
      ]
    },
    {
      "cell_type": "code",
      "source": [
        "round(np.linalg.det(A))"
      ],
      "metadata": {
        "colab": {
          "base_uri": "https://localhost:8080/"
        },
        "outputId": "ea9f042a-c753-4f48-ce8e-ee471ed8ca95",
        "id": "sOe1w9FPLbXD"
      },
      "execution_count": null,
      "outputs": [
        {
          "output_type": "execute_result",
          "data": {
            "text/plain": [
              "-12"
            ]
          },
          "metadata": {},
          "execution_count": 23
        }
      ]
    },
    {
      "cell_type": "code",
      "source": [
        "n = 10\n",
        "\n",
        "A=np.random.randint(-10,10,size=(n,n))\n",
        "\n",
        "A"
      ],
      "metadata": {
        "colab": {
          "base_uri": "https://localhost:8080/"
        },
        "outputId": "7f98c3e7-d7ff-461e-efc9-b903c08caae8",
        "id": "jzFX1soHGlak"
      },
      "execution_count": null,
      "outputs": [
        {
          "output_type": "execute_result",
          "data": {
            "text/plain": [
              "array([[  5, -10,   6,  -9,   2,  -3,   3,  -4,   8,  -5],\n",
              "       [  8,   1,   0,   4,   8,  -6,  -1,   7, -10,   3],\n",
              "       [ -1,  -1,  -3,  -9, -10,   7,  -2,   3,   9,   5],\n",
              "       [  0,  -2,  -3,  -7,  -4,   7,  -7,  -6,   7,   1],\n",
              "       [  2,   6,   3,   9,  -1,   8,   5, -10,  -6,   5],\n",
              "       [ -8,  -3,  -2,  -1,  -7,  -3,  -6,  -5,   9,  -4],\n",
              "       [ -2, -10,  -8,   0,   5,   5,  -3,   9,   0,   4],\n",
              "       [-10,  -9,   7,   3,  -7, -10,   3,  -4,  -4,  -8],\n",
              "       [  2,   1,  -3,   3,  -2,   1,   2,   1,  -6,  -3],\n",
              "       [ -3,   3,  -6,   6,   8, -10,   3,   0,   7,  -3]])"
            ]
          },
          "metadata": {},
          "execution_count": 24
        }
      ]
    },
    {
      "cell_type": "code",
      "source": [
        "import time\n",
        "\n",
        "start_time = time.time()\n",
        "d = det(A)\n",
        "end_time = time.time()"
      ],
      "metadata": {
        "id": "I97qAqxGGlak",
        "outputId": "b7937706-6c6f-43fd-d890-5bab5d264d49",
        "colab": {
          "base_uri": "https://localhost:8080/",
          "height": 339
        }
      },
      "execution_count": null,
      "outputs": [
        {
          "output_type": "error",
          "ename": "KeyboardInterrupt",
          "evalue": "",
          "traceback": [
            "\u001b[0;31m---------------------------------------------------------------------------\u001b[0m",
            "\u001b[0;31mKeyboardInterrupt\u001b[0m                         Traceback (most recent call last)",
            "\u001b[0;32m<ipython-input-26-3f7cca4e58d1>\u001b[0m in \u001b[0;36m<cell line: 4>\u001b[0;34m()\u001b[0m\n\u001b[1;32m      2\u001b[0m \u001b[0;34m\u001b[0m\u001b[0m\n\u001b[1;32m      3\u001b[0m \u001b[0mstart_time\u001b[0m \u001b[0;34m=\u001b[0m \u001b[0mtime\u001b[0m\u001b[0;34m.\u001b[0m\u001b[0mtime\u001b[0m\u001b[0;34m(\u001b[0m\u001b[0;34m)\u001b[0m\u001b[0;34m\u001b[0m\u001b[0;34m\u001b[0m\u001b[0m\n\u001b[0;32m----> 4\u001b[0;31m \u001b[0md\u001b[0m \u001b[0;34m=\u001b[0m \u001b[0mdet\u001b[0m\u001b[0;34m(\u001b[0m\u001b[0mA\u001b[0m\u001b[0;34m)\u001b[0m\u001b[0;34m\u001b[0m\u001b[0;34m\u001b[0m\u001b[0m\n\u001b[0m\u001b[1;32m      5\u001b[0m \u001b[0mend_time\u001b[0m \u001b[0;34m=\u001b[0m \u001b[0mtime\u001b[0m\u001b[0;34m.\u001b[0m\u001b[0mtime\u001b[0m\u001b[0;34m(\u001b[0m\u001b[0;34m)\u001b[0m\u001b[0;34m\u001b[0m\u001b[0;34m\u001b[0m\u001b[0m\n",
            "\u001b[0;32m<ipython-input-17-14c4745dcb20>\u001b[0m in \u001b[0;36mdet\u001b[0;34m(A)\u001b[0m\n\u001b[1;32m     19\u001b[0m             \u001b[0mAij\u001b[0m \u001b[0;34m=\u001b[0m \u001b[0mnp\u001b[0m\u001b[0;34m.\u001b[0m\u001b[0mdelete\u001b[0m\u001b[0;34m(\u001b[0m\u001b[0mA\u001b[0m\u001b[0;34m,\u001b[0m\u001b[0;36m0\u001b[0m\u001b[0;34m,\u001b[0m\u001b[0;36m0\u001b[0m\u001b[0;34m)\u001b[0m\u001b[0;34m\u001b[0m\u001b[0;34m\u001b[0m\u001b[0m\n\u001b[1;32m     20\u001b[0m             \u001b[0mAij\u001b[0m \u001b[0;34m=\u001b[0m \u001b[0mnp\u001b[0m\u001b[0;34m.\u001b[0m\u001b[0mdelete\u001b[0m\u001b[0;34m(\u001b[0m\u001b[0mAij\u001b[0m\u001b[0;34m,\u001b[0m\u001b[0mj\u001b[0m\u001b[0;34m,\u001b[0m\u001b[0;36m1\u001b[0m\u001b[0;34m)\u001b[0m\u001b[0;34m\u001b[0m\u001b[0;34m\u001b[0m\u001b[0m\n\u001b[0;32m---> 21\u001b[0;31m             \u001b[0mcofactor\u001b[0m \u001b[0;34m=\u001b[0m \u001b[0;34m(\u001b[0m\u001b[0ms\u001b[0m\u001b[0;34m)\u001b[0m \u001b[0;34m*\u001b[0m \u001b[0mA\u001b[0m\u001b[0;34m[\u001b[0m\u001b[0;36m0\u001b[0m\u001b[0;34m]\u001b[0m\u001b[0;34m[\u001b[0m\u001b[0mj\u001b[0m\u001b[0;34m]\u001b[0m \u001b[0;34m*\u001b[0m \u001b[0mdet\u001b[0m\u001b[0;34m(\u001b[0m\u001b[0mAij\u001b[0m\u001b[0;34m)\u001b[0m\u001b[0;34m\u001b[0m\u001b[0;34m\u001b[0m\u001b[0m\n\u001b[0m\u001b[1;32m     22\u001b[0m             \u001b[0manswer\u001b[0m\u001b[0;34m+=\u001b[0m \u001b[0mcofactor\u001b[0m\u001b[0;34m\u001b[0m\u001b[0;34m\u001b[0m\u001b[0m\n\u001b[1;32m     23\u001b[0m         \u001b[0;32mreturn\u001b[0m \u001b[0manswer\u001b[0m\u001b[0;34m\u001b[0m\u001b[0;34m\u001b[0m\u001b[0m\n",
            "\u001b[0;32m<ipython-input-17-14c4745dcb20>\u001b[0m in \u001b[0;36mdet\u001b[0;34m(A)\u001b[0m\n\u001b[1;32m     19\u001b[0m             \u001b[0mAij\u001b[0m \u001b[0;34m=\u001b[0m \u001b[0mnp\u001b[0m\u001b[0;34m.\u001b[0m\u001b[0mdelete\u001b[0m\u001b[0;34m(\u001b[0m\u001b[0mA\u001b[0m\u001b[0;34m,\u001b[0m\u001b[0;36m0\u001b[0m\u001b[0;34m,\u001b[0m\u001b[0;36m0\u001b[0m\u001b[0;34m)\u001b[0m\u001b[0;34m\u001b[0m\u001b[0;34m\u001b[0m\u001b[0m\n\u001b[1;32m     20\u001b[0m             \u001b[0mAij\u001b[0m \u001b[0;34m=\u001b[0m \u001b[0mnp\u001b[0m\u001b[0;34m.\u001b[0m\u001b[0mdelete\u001b[0m\u001b[0;34m(\u001b[0m\u001b[0mAij\u001b[0m\u001b[0;34m,\u001b[0m\u001b[0mj\u001b[0m\u001b[0;34m,\u001b[0m\u001b[0;36m1\u001b[0m\u001b[0;34m)\u001b[0m\u001b[0;34m\u001b[0m\u001b[0;34m\u001b[0m\u001b[0m\n\u001b[0;32m---> 21\u001b[0;31m             \u001b[0mcofactor\u001b[0m \u001b[0;34m=\u001b[0m \u001b[0;34m(\u001b[0m\u001b[0ms\u001b[0m\u001b[0;34m)\u001b[0m \u001b[0;34m*\u001b[0m \u001b[0mA\u001b[0m\u001b[0;34m[\u001b[0m\u001b[0;36m0\u001b[0m\u001b[0;34m]\u001b[0m\u001b[0;34m[\u001b[0m\u001b[0mj\u001b[0m\u001b[0;34m]\u001b[0m \u001b[0;34m*\u001b[0m \u001b[0mdet\u001b[0m\u001b[0;34m(\u001b[0m\u001b[0mAij\u001b[0m\u001b[0;34m)\u001b[0m\u001b[0;34m\u001b[0m\u001b[0;34m\u001b[0m\u001b[0m\n\u001b[0m\u001b[1;32m     22\u001b[0m             \u001b[0manswer\u001b[0m\u001b[0;34m+=\u001b[0m \u001b[0mcofactor\u001b[0m\u001b[0;34m\u001b[0m\u001b[0;34m\u001b[0m\u001b[0m\n\u001b[1;32m     23\u001b[0m         \u001b[0;32mreturn\u001b[0m \u001b[0manswer\u001b[0m\u001b[0;34m\u001b[0m\u001b[0;34m\u001b[0m\u001b[0m\n",
            "\u001b[0;32m<ipython-input-17-14c4745dcb20>\u001b[0m in \u001b[0;36mdet\u001b[0;34m(A)\u001b[0m\n\u001b[1;32m     19\u001b[0m             \u001b[0mAij\u001b[0m \u001b[0;34m=\u001b[0m \u001b[0mnp\u001b[0m\u001b[0;34m.\u001b[0m\u001b[0mdelete\u001b[0m\u001b[0;34m(\u001b[0m\u001b[0mA\u001b[0m\u001b[0;34m,\u001b[0m\u001b[0;36m0\u001b[0m\u001b[0;34m,\u001b[0m\u001b[0;36m0\u001b[0m\u001b[0;34m)\u001b[0m\u001b[0;34m\u001b[0m\u001b[0;34m\u001b[0m\u001b[0m\n\u001b[1;32m     20\u001b[0m             \u001b[0mAij\u001b[0m \u001b[0;34m=\u001b[0m \u001b[0mnp\u001b[0m\u001b[0;34m.\u001b[0m\u001b[0mdelete\u001b[0m\u001b[0;34m(\u001b[0m\u001b[0mAij\u001b[0m\u001b[0;34m,\u001b[0m\u001b[0mj\u001b[0m\u001b[0;34m,\u001b[0m\u001b[0;36m1\u001b[0m\u001b[0;34m)\u001b[0m\u001b[0;34m\u001b[0m\u001b[0;34m\u001b[0m\u001b[0m\n\u001b[0;32m---> 21\u001b[0;31m             \u001b[0mcofactor\u001b[0m \u001b[0;34m=\u001b[0m \u001b[0;34m(\u001b[0m\u001b[0ms\u001b[0m\u001b[0;34m)\u001b[0m \u001b[0;34m*\u001b[0m \u001b[0mA\u001b[0m\u001b[0;34m[\u001b[0m\u001b[0;36m0\u001b[0m\u001b[0;34m]\u001b[0m\u001b[0;34m[\u001b[0m\u001b[0mj\u001b[0m\u001b[0;34m]\u001b[0m \u001b[0;34m*\u001b[0m \u001b[0mdet\u001b[0m\u001b[0;34m(\u001b[0m\u001b[0mAij\u001b[0m\u001b[0;34m)\u001b[0m\u001b[0;34m\u001b[0m\u001b[0;34m\u001b[0m\u001b[0m\n\u001b[0m\u001b[1;32m     22\u001b[0m             \u001b[0manswer\u001b[0m\u001b[0;34m+=\u001b[0m \u001b[0mcofactor\u001b[0m\u001b[0;34m\u001b[0m\u001b[0;34m\u001b[0m\u001b[0m\n\u001b[1;32m     23\u001b[0m         \u001b[0;32mreturn\u001b[0m \u001b[0manswer\u001b[0m\u001b[0;34m\u001b[0m\u001b[0;34m\u001b[0m\u001b[0m\n",
            "\u001b[0;32m<ipython-input-17-14c4745dcb20>\u001b[0m in \u001b[0;36mdet\u001b[0;34m(A)\u001b[0m\n\u001b[1;32m     19\u001b[0m             \u001b[0mAij\u001b[0m \u001b[0;34m=\u001b[0m \u001b[0mnp\u001b[0m\u001b[0;34m.\u001b[0m\u001b[0mdelete\u001b[0m\u001b[0;34m(\u001b[0m\u001b[0mA\u001b[0m\u001b[0;34m,\u001b[0m\u001b[0;36m0\u001b[0m\u001b[0;34m,\u001b[0m\u001b[0;36m0\u001b[0m\u001b[0;34m)\u001b[0m\u001b[0;34m\u001b[0m\u001b[0;34m\u001b[0m\u001b[0m\n\u001b[1;32m     20\u001b[0m             \u001b[0mAij\u001b[0m \u001b[0;34m=\u001b[0m \u001b[0mnp\u001b[0m\u001b[0;34m.\u001b[0m\u001b[0mdelete\u001b[0m\u001b[0;34m(\u001b[0m\u001b[0mAij\u001b[0m\u001b[0;34m,\u001b[0m\u001b[0mj\u001b[0m\u001b[0;34m,\u001b[0m\u001b[0;36m1\u001b[0m\u001b[0;34m)\u001b[0m\u001b[0;34m\u001b[0m\u001b[0;34m\u001b[0m\u001b[0m\n\u001b[0;32m---> 21\u001b[0;31m             \u001b[0mcofactor\u001b[0m \u001b[0;34m=\u001b[0m \u001b[0;34m(\u001b[0m\u001b[0ms\u001b[0m\u001b[0;34m)\u001b[0m \u001b[0;34m*\u001b[0m \u001b[0mA\u001b[0m\u001b[0;34m[\u001b[0m\u001b[0;36m0\u001b[0m\u001b[0;34m]\u001b[0m\u001b[0;34m[\u001b[0m\u001b[0mj\u001b[0m\u001b[0;34m]\u001b[0m \u001b[0;34m*\u001b[0m \u001b[0mdet\u001b[0m\u001b[0;34m(\u001b[0m\u001b[0mAij\u001b[0m\u001b[0;34m)\u001b[0m\u001b[0;34m\u001b[0m\u001b[0;34m\u001b[0m\u001b[0m\n\u001b[0m\u001b[1;32m     22\u001b[0m             \u001b[0manswer\u001b[0m\u001b[0;34m+=\u001b[0m \u001b[0mcofactor\u001b[0m\u001b[0;34m\u001b[0m\u001b[0;34m\u001b[0m\u001b[0m\n\u001b[1;32m     23\u001b[0m         \u001b[0;32mreturn\u001b[0m \u001b[0manswer\u001b[0m\u001b[0;34m\u001b[0m\u001b[0;34m\u001b[0m\u001b[0m\n",
            "\u001b[0;32m<ipython-input-17-14c4745dcb20>\u001b[0m in \u001b[0;36mdet\u001b[0;34m(A)\u001b[0m\n\u001b[1;32m     19\u001b[0m             \u001b[0mAij\u001b[0m \u001b[0;34m=\u001b[0m \u001b[0mnp\u001b[0m\u001b[0;34m.\u001b[0m\u001b[0mdelete\u001b[0m\u001b[0;34m(\u001b[0m\u001b[0mA\u001b[0m\u001b[0;34m,\u001b[0m\u001b[0;36m0\u001b[0m\u001b[0;34m,\u001b[0m\u001b[0;36m0\u001b[0m\u001b[0;34m)\u001b[0m\u001b[0;34m\u001b[0m\u001b[0;34m\u001b[0m\u001b[0m\n\u001b[1;32m     20\u001b[0m             \u001b[0mAij\u001b[0m \u001b[0;34m=\u001b[0m \u001b[0mnp\u001b[0m\u001b[0;34m.\u001b[0m\u001b[0mdelete\u001b[0m\u001b[0;34m(\u001b[0m\u001b[0mAij\u001b[0m\u001b[0;34m,\u001b[0m\u001b[0mj\u001b[0m\u001b[0;34m,\u001b[0m\u001b[0;36m1\u001b[0m\u001b[0;34m)\u001b[0m\u001b[0;34m\u001b[0m\u001b[0;34m\u001b[0m\u001b[0m\n\u001b[0;32m---> 21\u001b[0;31m             \u001b[0mcofactor\u001b[0m \u001b[0;34m=\u001b[0m \u001b[0;34m(\u001b[0m\u001b[0ms\u001b[0m\u001b[0;34m)\u001b[0m \u001b[0;34m*\u001b[0m \u001b[0mA\u001b[0m\u001b[0;34m[\u001b[0m\u001b[0;36m0\u001b[0m\u001b[0;34m]\u001b[0m\u001b[0;34m[\u001b[0m\u001b[0mj\u001b[0m\u001b[0;34m]\u001b[0m \u001b[0;34m*\u001b[0m \u001b[0mdet\u001b[0m\u001b[0;34m(\u001b[0m\u001b[0mAij\u001b[0m\u001b[0;34m)\u001b[0m\u001b[0;34m\u001b[0m\u001b[0;34m\u001b[0m\u001b[0m\n\u001b[0m\u001b[1;32m     22\u001b[0m             \u001b[0manswer\u001b[0m\u001b[0;34m+=\u001b[0m \u001b[0mcofactor\u001b[0m\u001b[0;34m\u001b[0m\u001b[0;34m\u001b[0m\u001b[0m\n\u001b[1;32m     23\u001b[0m         \u001b[0;32mreturn\u001b[0m \u001b[0manswer\u001b[0m\u001b[0;34m\u001b[0m\u001b[0;34m\u001b[0m\u001b[0m\n",
            "\u001b[0;32m<ipython-input-17-14c4745dcb20>\u001b[0m in \u001b[0;36mdet\u001b[0;34m(A)\u001b[0m\n\u001b[1;32m     17\u001b[0m         \u001b[0;32mfor\u001b[0m \u001b[0mj\u001b[0m \u001b[0;32min\u001b[0m \u001b[0mrange\u001b[0m\u001b[0;34m(\u001b[0m\u001b[0mr\u001b[0m\u001b[0;34m)\u001b[0m\u001b[0;34m:\u001b[0m\u001b[0;34m\u001b[0m\u001b[0;34m\u001b[0m\u001b[0m\n\u001b[1;32m     18\u001b[0m             \u001b[0ms\u001b[0m \u001b[0;34m=\u001b[0m \u001b[0;36m1\u001b[0m \u001b[0;32mif\u001b[0m \u001b[0;34m(\u001b[0m\u001b[0;36m0\u001b[0m\u001b[0;34m+\u001b[0m\u001b[0mj\u001b[0m\u001b[0;34m)\u001b[0m\u001b[0;34m%\u001b[0m\u001b[0;36m2\u001b[0m \u001b[0;34m==\u001b[0m \u001b[0;36m0\u001b[0m \u001b[0;32melse\u001b[0m \u001b[0;34m-\u001b[0m\u001b[0;36m1\u001b[0m\u001b[0;34m\u001b[0m\u001b[0;34m\u001b[0m\u001b[0m\n\u001b[0;32m---> 19\u001b[0;31m             \u001b[0mAij\u001b[0m \u001b[0;34m=\u001b[0m \u001b[0mnp\u001b[0m\u001b[0;34m.\u001b[0m\u001b[0mdelete\u001b[0m\u001b[0;34m(\u001b[0m\u001b[0mA\u001b[0m\u001b[0;34m,\u001b[0m\u001b[0;36m0\u001b[0m\u001b[0;34m,\u001b[0m\u001b[0;36m0\u001b[0m\u001b[0;34m)\u001b[0m\u001b[0;34m\u001b[0m\u001b[0;34m\u001b[0m\u001b[0m\n\u001b[0m\u001b[1;32m     20\u001b[0m             \u001b[0mAij\u001b[0m \u001b[0;34m=\u001b[0m \u001b[0mnp\u001b[0m\u001b[0;34m.\u001b[0m\u001b[0mdelete\u001b[0m\u001b[0;34m(\u001b[0m\u001b[0mAij\u001b[0m\u001b[0;34m,\u001b[0m\u001b[0mj\u001b[0m\u001b[0;34m,\u001b[0m\u001b[0;36m1\u001b[0m\u001b[0;34m)\u001b[0m\u001b[0;34m\u001b[0m\u001b[0;34m\u001b[0m\u001b[0m\n\u001b[1;32m     21\u001b[0m             \u001b[0mcofactor\u001b[0m \u001b[0;34m=\u001b[0m \u001b[0;34m(\u001b[0m\u001b[0ms\u001b[0m\u001b[0;34m)\u001b[0m \u001b[0;34m*\u001b[0m \u001b[0mA\u001b[0m\u001b[0;34m[\u001b[0m\u001b[0;36m0\u001b[0m\u001b[0;34m]\u001b[0m\u001b[0;34m[\u001b[0m\u001b[0mj\u001b[0m\u001b[0;34m]\u001b[0m \u001b[0;34m*\u001b[0m \u001b[0mdet\u001b[0m\u001b[0;34m(\u001b[0m\u001b[0mAij\u001b[0m\u001b[0;34m)\u001b[0m\u001b[0;34m\u001b[0m\u001b[0;34m\u001b[0m\u001b[0m\n",
            "\u001b[0;32m/usr/local/lib/python3.10/dist-packages/numpy/lib/function_base.py\u001b[0m in \u001b[0;36mdelete\u001b[0;34m(arr, obj, axis)\u001b[0m\n\u001b[1;32m   5336\u001b[0m         \u001b[0mslobj\u001b[0m\u001b[0;34m[\u001b[0m\u001b[0maxis\u001b[0m\u001b[0;34m]\u001b[0m \u001b[0;34m=\u001b[0m \u001b[0mslice\u001b[0m\u001b[0;34m(\u001b[0m\u001b[0;32mNone\u001b[0m\u001b[0;34m,\u001b[0m \u001b[0mobj\u001b[0m\u001b[0;34m)\u001b[0m\u001b[0;34m\u001b[0m\u001b[0;34m\u001b[0m\u001b[0m\n\u001b[1;32m   5337\u001b[0m         \u001b[0mnew\u001b[0m\u001b[0;34m[\u001b[0m\u001b[0mtuple\u001b[0m\u001b[0;34m(\u001b[0m\u001b[0mslobj\u001b[0m\u001b[0;34m)\u001b[0m\u001b[0;34m]\u001b[0m \u001b[0;34m=\u001b[0m \u001b[0marr\u001b[0m\u001b[0;34m[\u001b[0m\u001b[0mtuple\u001b[0m\u001b[0;34m(\u001b[0m\u001b[0mslobj\u001b[0m\u001b[0;34m)\u001b[0m\u001b[0;34m]\u001b[0m\u001b[0;34m\u001b[0m\u001b[0;34m\u001b[0m\u001b[0m\n\u001b[0;32m-> 5338\u001b[0;31m         \u001b[0mslobj\u001b[0m\u001b[0;34m[\u001b[0m\u001b[0maxis\u001b[0m\u001b[0;34m]\u001b[0m \u001b[0;34m=\u001b[0m \u001b[0mslice\u001b[0m\u001b[0;34m(\u001b[0m\u001b[0mobj\u001b[0m\u001b[0;34m,\u001b[0m \u001b[0;32mNone\u001b[0m\u001b[0;34m)\u001b[0m\u001b[0;34m\u001b[0m\u001b[0;34m\u001b[0m\u001b[0m\n\u001b[0m\u001b[1;32m   5339\u001b[0m         \u001b[0mslobj2\u001b[0m \u001b[0;34m=\u001b[0m \u001b[0;34m[\u001b[0m\u001b[0mslice\u001b[0m\u001b[0;34m(\u001b[0m\u001b[0;32mNone\u001b[0m\u001b[0;34m)\u001b[0m\u001b[0;34m]\u001b[0m\u001b[0;34m*\u001b[0m\u001b[0mndim\u001b[0m\u001b[0;34m\u001b[0m\u001b[0;34m\u001b[0m\u001b[0m\n\u001b[1;32m   5340\u001b[0m         \u001b[0mslobj2\u001b[0m\u001b[0;34m[\u001b[0m\u001b[0maxis\u001b[0m\u001b[0;34m]\u001b[0m \u001b[0;34m=\u001b[0m \u001b[0mslice\u001b[0m\u001b[0;34m(\u001b[0m\u001b[0mobj\u001b[0m\u001b[0;34m+\u001b[0m\u001b[0;36m1\u001b[0m\u001b[0;34m,\u001b[0m \u001b[0;32mNone\u001b[0m\u001b[0;34m)\u001b[0m\u001b[0;34m\u001b[0m\u001b[0;34m\u001b[0m\u001b[0m\n",
            "\u001b[0;31mKeyboardInterrupt\u001b[0m: "
          ]
        }
      ]
    },
    {
      "cell_type": "code",
      "source": [
        "print(\"det(A): \",d)\n",
        "print(\"time: \",end_time - start_time)"
      ],
      "metadata": {
        "colab": {
          "base_uri": "https://localhost:8080/"
        },
        "id": "s7Ud-gBiTD0n",
        "outputId": "beb7ea0a-3f2a-41f5-f03c-cd19d3859505"
      },
      "execution_count": null,
      "outputs": [
        {
          "output_type": "stream",
          "name": "stdout",
          "text": [
            "det(A):  -10.000000000000002\n",
            "time:  -928.0231976509094\n"
          ]
        }
      ]
    },
    {
      "cell_type": "code",
      "source": [
        "import time\n",
        "\n",
        "start_time = time.time()\n",
        "d = determinant(A)\n",
        "end_time = time.time()"
      ],
      "metadata": {
        "id": "kjLXFQOeTRd2"
      },
      "execution_count": null,
      "outputs": []
    },
    {
      "cell_type": "code",
      "source": [
        "print(\"determinant(A): \",d)\n",
        "print(\"time: \",end_time - start_time)"
      ],
      "metadata": {
        "colab": {
          "base_uri": "https://localhost:8080/"
        },
        "id": "_TQFWy4ZSiDZ",
        "outputId": "6e50a10f-3a58-4268-ab4f-45ac26c1a133"
      },
      "execution_count": null,
      "outputs": [
        {
          "output_type": "stream",
          "name": "stdout",
          "text": [
            "determinant(A):  -10.000000000000002\n",
            "time:  -928.0231976509094\n"
          ]
        }
      ]
    },
    {
      "cell_type": "code",
      "source": [
        "import time\n",
        "\n",
        "start_time = time.time()\n",
        "d = np.linalg.det(A)\n",
        "end_time = time.time()"
      ],
      "metadata": {
        "id": "jL23i77VT55-"
      },
      "execution_count": null,
      "outputs": []
    },
    {
      "cell_type": "code",
      "source": [
        "print(\"np.linalg.det(A): \",d)\n",
        "print(\"time: \",end_time - start_time)"
      ],
      "metadata": {
        "colab": {
          "base_uri": "https://localhost:8080/"
        },
        "id": "n94nx14VT5wn",
        "outputId": "f7a4d0cf-a654-4678-96b7-81a94fd7fb45"
      },
      "execution_count": null,
      "outputs": [
        {
          "output_type": "stream",
          "name": "stdout",
          "text": [
            "np.linalg.det(A):  -10.000000000000002\n",
            "time:  -928.0231976509094\n"
          ]
        }
      ]
    },
    {
      "cell_type": "markdown",
      "source": [
        "# Estimating the time by instruction in Python in a Colab machine"
      ],
      "metadata": {
        "id": "Ssedt2z56DNC"
      }
    },
    {
      "cell_type": "code",
      "source": [
        "import numpy as np\n",
        "\n",
        "n = 100\n",
        "\n",
        "A = np.ones((n,n))\n",
        "\n",
        "A"
      ],
      "metadata": {
        "colab": {
          "base_uri": "https://localhost:8080/"
        },
        "id": "1KhlyeNi4uwa",
        "outputId": "593570c9-2acd-42e6-9398-afe7f08fc3fe"
      },
      "execution_count": null,
      "outputs": [
        {
          "output_type": "execute_result",
          "data": {
            "text/plain": [
              "array([[1., 1., 1., ..., 1., 1., 1.],\n",
              "       [1., 1., 1., ..., 1., 1., 1.],\n",
              "       [1., 1., 1., ..., 1., 1., 1.],\n",
              "       ...,\n",
              "       [1., 1., 1., ..., 1., 1., 1.],\n",
              "       [1., 1., 1., ..., 1., 1., 1.],\n",
              "       [1., 1., 1., ..., 1., 1., 1.]])"
            ]
          },
          "metadata": {},
          "execution_count": 30
        }
      ]
    },
    {
      "cell_type": "code",
      "source": [
        "B = np.ones((n,n))\n",
        "\n",
        "B"
      ],
      "metadata": {
        "colab": {
          "base_uri": "https://localhost:8080/"
        },
        "id": "RKtHO3UY5M87",
        "outputId": "166f527a-e2e4-409a-a0d2-d10cc859d077"
      },
      "execution_count": null,
      "outputs": [
        {
          "output_type": "execute_result",
          "data": {
            "text/plain": [
              "array([[1., 1., 1., ..., 1., 1., 1.],\n",
              "       [1., 1., 1., ..., 1., 1., 1.],\n",
              "       [1., 1., 1., ..., 1., 1., 1.],\n",
              "       ...,\n",
              "       [1., 1., 1., ..., 1., 1., 1.],\n",
              "       [1., 1., 1., ..., 1., 1., 1.],\n",
              "       [1., 1., 1., ..., 1., 1., 1.]])"
            ]
          },
          "metadata": {},
          "execution_count": 31
        }
      ]
    },
    {
      "cell_type": "code",
      "source": [
        "import time\n",
        "\n",
        "C= np.zeros((n,n))\n",
        "\n",
        "start_time = time.time()\n",
        "for i in range(n):\n",
        "        for j in range(n):\n",
        "            C[i][j] = 0\n",
        "            for k in range(len(A[0])):\n",
        "                C[i][j] += A[i][k] * B[k][j]\n",
        "end_time = time.time()\n",
        "print(end_time - start_time)"
      ],
      "metadata": {
        "colab": {
          "base_uri": "https://localhost:8080/"
        },
        "id": "0UFSLi-F5P0a",
        "outputId": "7e9aba74-0ef4-4a6f-ae9c-f79def09b118"
      },
      "execution_count": null,
      "outputs": [
        {
          "output_type": "stream",
          "name": "stdout",
          "text": [
            "1.213024616241455\n"
          ]
        }
      ]
    },
    {
      "cell_type": "code",
      "source": [
        "C"
      ],
      "metadata": {
        "colab": {
          "base_uri": "https://localhost:8080/"
        },
        "id": "h9zr4Z9P61bs",
        "outputId": "3d5c3fa0-4e83-4c4d-849c-3209b49f0417"
      },
      "execution_count": null,
      "outputs": [
        {
          "output_type": "execute_result",
          "data": {
            "text/plain": [
              "array([[100., 100., 100., ..., 100., 100., 100.],\n",
              "       [100., 100., 100., ..., 100., 100., 100.],\n",
              "       [100., 100., 100., ..., 100., 100., 100.],\n",
              "       ...,\n",
              "       [100., 100., 100., ..., 100., 100., 100.],\n",
              "       [100., 100., 100., ..., 100., 100., 100.],\n",
              "       [100., 100., 100., ..., 100., 100., 100.]])"
            ]
          },
          "metadata": {},
          "execution_count": 33
        }
      ]
    },
    {
      "cell_type": "code",
      "source": [
        "time_by_oper_python = (end_time - start_time)/(2*n**3 - n**2)\n",
        "\n",
        "time_by_oper_python"
      ],
      "metadata": {
        "colab": {
          "base_uri": "https://localhost:8080/"
        },
        "id": "iEhaMEK77Ko7",
        "outputId": "0db22f69-36d9-4ab6-fc6f-ad2985a43a42"
      },
      "execution_count": null,
      "outputs": [
        {
          "output_type": "execute_result",
          "data": {
            "text/plain": [
              "6.095601086640478e-07"
            ]
          },
          "metadata": {},
          "execution_count": 34
        }
      ]
    },
    {
      "cell_type": "code",
      "source": [
        "import time\n",
        "import numpy as np\n",
        "\n",
        "start_time = time.time()\n",
        "C = A@B\n",
        "end_time = time.time()\n",
        "print(end_time - start_time)"
      ],
      "metadata": {
        "colab": {
          "base_uri": "https://localhost:8080/"
        },
        "id": "TfGsw6UF9o-a",
        "outputId": "30eac0fe-3b42-4793-9960-0910a9905cfa"
      },
      "execution_count": null,
      "outputs": [
        {
          "output_type": "stream",
          "name": "stdout",
          "text": [
            "0.0166165828704834\n"
          ]
        }
      ]
    },
    {
      "cell_type": "code",
      "source": [
        "C"
      ],
      "metadata": {
        "colab": {
          "base_uri": "https://localhost:8080/"
        },
        "id": "Q5MtZtVT93oQ",
        "outputId": "88ac653b-a046-4699-894b-9d2616f02f30"
      },
      "execution_count": null,
      "outputs": [
        {
          "output_type": "execute_result",
          "data": {
            "text/plain": [
              "array([[100., 100., 100., ..., 100., 100., 100.],\n",
              "       [100., 100., 100., ..., 100., 100., 100.],\n",
              "       [100., 100., 100., ..., 100., 100., 100.],\n",
              "       ...,\n",
              "       [100., 100., 100., ..., 100., 100., 100.],\n",
              "       [100., 100., 100., ..., 100., 100., 100.],\n",
              "       [100., 100., 100., ..., 100., 100., 100.]])"
            ]
          },
          "metadata": {},
          "execution_count": 36
        }
      ]
    },
    {
      "cell_type": "code",
      "source": [
        "time_by_oper_numpy = (end_time - start_time)/(2*n**3 - n**2)\n",
        "\n",
        "time_by_oper_numpy"
      ],
      "metadata": {
        "colab": {
          "base_uri": "https://localhost:8080/"
        },
        "id": "DTVYQYxT-TsJ",
        "outputId": "0c99a60c-73c7-4acc-b5f8-fb14061f1639"
      },
      "execution_count": null,
      "outputs": [
        {
          "output_type": "execute_result",
          "data": {
            "text/plain": [
              "8.350041643458994e-09"
            ]
          },
          "metadata": {},
          "execution_count": 37
        }
      ]
    },
    {
      "cell_type": "markdown",
      "source": [
        "# Time estimation for the digital computer computation of a 3 x 3 matrix determinant by cofactor expansion\n",
        "\n",
        "The number of operations $(+,-,*)$ perfomed  *det(A)* algorithm that calculates\n",
        "\n",
        "$$\\det(A)  = \\sum_{j=1}^n (-1)^{i+j}a_{ij} \\det(A(i∣j)) $$\n",
        "\n",
        "is given by\n",
        "\n",
        "$$\\begin{array}{lll}\n",
        "T(n) & =&  nT(n-1) + 5n , T(1) = 1\\\\\n",
        "\\end{array}\n",
        "$$\n",
        "\n",
        "$$\\begin{array}{lll}\n",
        "T(n) & =&  nT(n-1) + 5n\\\\\n",
        "     & =&  n[(n-1) T(n-2) + 5 (n-1) +10] + 5n  \\\\\n",
        "     & =&  n(n-1) T(n-2) + 5 n  (n-1) + 5n \\\\\n",
        "     & =&  n(n-1) [(n-2) T(n-3) + 5 (n-2)] + 5 n(n-1) + 5n\\\\\n",
        "     & = & n(n-1)(n-2) T(n-3) + 5n(n-1)(n-2)+  5 n  (n-1) + 5n \\\\\n",
        "     & \\vdots\\\\\n",
        "     & = &  n(n-1)(n-2)\\cdots (n -(n-2))  T(1) + [5n(n-1)(n-2)(n-3)\\cdots (n -(n-3))] + \\cdots + [5 n (n-1)]+ 5n \\\\\n",
        "    & = & n! + [5n(n-1)(n-2)(n-3)\\cdots 2] + [5n(n-1)(n-2)(n-3)\\cdots 3]+ \\cdots +[5 n (n-1) (n-3)] + [5 n (n-1)]+ 5n  \n",
        "\\end{array}\n",
        "$$\n",
        "\n",
        "$$T(n) = n! + 5 \\sum_{i=0}^{n-1} n!/i! = n! + 5 n!\\sum_{i=0}^{n-1} \\frac{1}{i!} < n! + 5 e n! < 16 n!  $$\n",
        "\n",
        "1. Asumming that an arithmetic operation takes the *time_by_oper_python* estimated before,  what is the maximun square matrix size for which the deteminant can be computed with cofactor extesion in $\\le$ 3 minute. Report the time at [LABCramer](https://docs.google.com/spreadsheets/d/1JNUbuj3QHcyPmp8i6kNreUFucj2mOvKHkCFHHy7zfws/edit?usp=sharing).\n",
        "\n",
        "2. Run an experiment with a random matrix of that size and report the time at [LABCramer](https://docs.google.com/spreadsheets/d/1JNUbuj3QHcyPmp8i6kNreUFucj2mOvKHkCFHHy7zfws/edit?usp=sharing).\n",
        "\n",
        "If the determinant of a $n \\times n$ square matrix takes $16 n!$ operations how much takes the Crammer solution of $n \\times n$ systems of linear equations?\n",
        "\n",
        "\n",
        "\n",
        "\n"
      ],
      "metadata": {
        "id": "PhAai3wzo_Tc"
      }
    },
    {
      "cell_type": "markdown",
      "source": [
        "**PUNTO 1**"
      ],
      "metadata": {
        "id": "8Oh_gVG2mZZ5"
      }
    },
    {
      "cell_type": "code",
      "source": [
        "import time\n",
        "import math\n",
        "\n",
        "tiempo_operacion_python = time_by_oper_python\n",
        "\n",
        "def tamano_maximo_matriz(tiempo_maximo):\n",
        "    tiempo_en_segundos = tiempo_maximo * 60\n",
        "    tamano_actual = 0\n",
        "    resultado = 0\n",
        "\n",
        "    while resultado <= tiempo_en_segundos:\n",
        "        tamano_actual += 1\n",
        "        resultado = numero_operaciones(tamano_actual) * tiempo_operacion_python\n",
        "\n",
        "    tamano_actual -= 1\n",
        "    resultado_final = numero_operaciones(tamano_actual) * tiempo_operacion_python\n",
        "    return [tamano_actual, resultado_final]\n",
        "\n",
        "def numero_operaciones(tamano):\n",
        "    if tamano == 1:\n",
        "        return 1\n",
        "    return tamano * numero_operaciones(tamano - 1) + 5 * tamano\n",
        "\n",
        "\n",
        "tamano_max = tamano_maximo_matriz(3)[0]\n",
        "print(\"La dimensión máxima que puede alcanzar la matriz es:\", tamano_max)\n",
        "print(\"La duración total de la ejecución es de:\", tamano_maximo_matriz(3)[1], \"segundos\")\n"
      ],
      "metadata": {
        "id": "zUcLm8sFmcwV",
        "outputId": "848198f9-0ded-46a7-91bc-32a943f5dbc5",
        "colab": {
          "base_uri": "https://localhost:8080/"
        }
      },
      "execution_count": null,
      "outputs": [
        {
          "output_type": "stream",
          "name": "stdout",
          "text": [
            "La dimensión máxima que puede alcanzar la matriz es: 10\n",
            "La duración total de la ejecución es de: 21.215922450084783 segundos\n"
          ]
        }
      ]
    },
    {
      "cell_type": "markdown",
      "source": [
        "**Punto 2**"
      ],
      "metadata": {
        "id": "yYH2F6E_qolq"
      }
    },
    {
      "cell_type": "code",
      "source": [
        "import numpy as np\n",
        "import time\n",
        "\n",
        "def calcular_determinante_por_expansion_cofactor(matrix):\n",
        "    size = len(matrix)\n",
        "    if size == 1:\n",
        "        return matrix[0, 0]\n",
        "    else:\n",
        "        determinante = 0\n",
        "        for j in range(size):\n",
        "            sub_matrix = np.delete(matrix, 0, axis=0)\n",
        "            sub_matrix = np.delete(sub_matrix, j, axis=1)\n",
        "            determinante += (-1) ** j * matrix[0, j] * calcular_determinante_por_expansion_cofactor(sub_matrix)\n",
        "        return determinante\n",
        "\n",
        "tamano_maximo = 10\n",
        "\n",
        "matriz = np.random.rand(tamano_maximo, tamano_maximo)\n",
        "\n",
        "inicio = time.time()\n",
        "determinante_calculado = calcular_determinante_por_expansion_cofactor(matriz)\n",
        "fin = time.time()\n",
        "tiempo_transcurrido = fin - inicio\n",
        "\n",
        "print(\"El tiempo necesario para calcular el determinante fue:\", tiempo_transcurrido, \"segundos\")\n",
        "print(\"Determinante de la matriz aleatoria:\", determinante_calculado)\n",
        "\n",
        "print(matriz)"
      ],
      "metadata": {
        "id": "oBnpHx1aqsyW",
        "outputId": "b71a9bd1-ae7e-4caf-eda4-ebdac4d28afb",
        "colab": {
          "base_uri": "https://localhost:8080/"
        }
      },
      "execution_count": null,
      "outputs": [
        {
          "output_type": "stream",
          "name": "stdout",
          "text": [
            "El tiempo necesario para calcular el determinante fue: 69.38401651382446 segundos\n",
            "Determinante de la matriz aleatoria: -0.035114384676979124\n",
            "[[0.64910162 0.80349187 0.95188943 0.88535407 0.96831927 0.65783161\n",
            "  0.69725611 0.93711154 0.7052732  0.42275674]\n",
            " [0.61345097 0.19379285 0.07690321 0.30499533 0.68767045 0.56665285\n",
            "  0.88432808 0.22255943 0.60138053 0.40682646]\n",
            " [0.97492321 0.09581656 0.87702025 0.85969234 0.7085194  0.17645525\n",
            "  0.95722324 0.43766088 0.41747691 0.99332223]\n",
            " [0.2035814  0.05161481 0.26306583 0.71367402 0.25344106 0.97074406\n",
            "  0.44567972 0.24110087 0.9972036  0.30033159]\n",
            " [0.09654435 0.54633685 0.52301924 0.89022625 0.05220654 0.38691322\n",
            "  0.78264749 0.68331715 0.94073694 0.31504074]\n",
            " [0.55219752 0.06761943 0.30962084 0.06538017 0.41262809 0.06979073\n",
            "  0.4125019  0.76182357 0.39663002 0.94468627]\n",
            " [0.72834118 0.20041387 0.14158502 0.37356892 0.10828726 0.32077511\n",
            "  0.78357557 0.59690627 0.29785062 0.68395598]\n",
            " [0.40407812 0.59949423 0.72923736 0.41400081 0.14802423 0.58261579\n",
            "  0.78006603 0.72540801 0.69478451 0.629109  ]\n",
            " [0.00251051 0.92616396 0.38716443 0.55153184 0.34228967 0.21171263\n",
            "  0.30734348 0.62966596 0.08987091 0.63689532]\n",
            " [0.61042181 0.66918017 0.70151797 0.12186611 0.02730122 0.79112911\n",
            "  0.18444153 0.77955335 0.3916001  0.67224877]]\n"
          ]
        }
      ]
    },
    {
      "cell_type": "markdown",
      "source": [
        "# Time estimation for the human computer computation of a 3 x 3 matrix determinant by cofactor expansion\n",
        "\n",
        " Write a 3 x 3 matrix with the first element as your list number Mod 10 and the rest row by row 1,2,3,...9 skipimg the first element, by example if youir list number is 12, your list number Mod 10 is 2 and the matrix is\n",
        "$$A = \\left[\n",
        "  \\begin{array}{ccc}\n",
        "2 & 1 & 3\\\\\n",
        "4 & 5 & 6\\\\\n",
        "7 & 8 & 9\\\\\n",
        "\\end{array}\n",
        "\\right]\n",
        "$$\n",
        "Use a chronometer like http://online-stopwatch.chronme.com/ to estimate the time to compute the determinant by using the procedure in the follo wing exmaple (https://people.math.carleton.ca/~kcheung/math/notes/MATH1107/07/07_cofactor_expansion.html):<br />  \n",
        "Let\n",
        "$$A = \\begin{bmatrix} 1 & 2 & 3\\\\ 4 & 5 & 6\\\\ 7 & 8 & 9 \\end{bmatrix}$$\n",
        "we compute $\\det(A)$ by expanding along row $2$ as <br /> <br />\n",
        "$$\\begin{eqnarray} \\det(A) & = & (-1)^{2+1}A_{2,1}\\det(A(2 \\mid 1)) + (-1)^{2+2}A_{2,2}\\det(A(2 \\mid 2)) + (-1)^{2+3}A_{2,3}\\det(A(2 \\mid 3)) \\\\ & = & -4\\left|\\begin{matrix} 2 & 3 \\\\ 8 & 9\\end{matrix}\\right| + 5\\left|\\begin{matrix} 1 & 3 \\\\ 7 & 9\\end{matrix}\\right| - 6\\left|\\begin{matrix} 1 & 2 \\\\ 7 & 8\\end{matrix}\\right| \\\\ & = & -4(2\\cdot 9 - 3\\cdot 8) + 5(1 \\cdot 9- 3\\cdot 7) - 6(1\\cdot 8 - 2 \\cdot 7) \\\\ & = & 24 - 60 + 36 \\\\ & = & 0 \\end{eqnarray}$$\n",
        "3. Report the time at [LABCramer](https://docs.google.com/spreadsheets/d/1JNUbuj3QHcyPmp8i6kNreUFucj2mOvKHkCFHHy7zfws/edit?usp=sharing)\n",
        "4. Report the value of the determinant at [LABCramer](https://docs.google.com/spreadsheets/d/1JNUbuj3QHcyPmp8i6kNreUFucj2mOvKHkCFHHy7zfws/edit?usp=sharing)\n"
      ],
      "metadata": {
        "id": "__brdhGadAXY"
      }
    },
    {
      "cell_type": "markdown",
      "source": [
        "**Punto 3: My number on the list is 18 (Mod 10 is 8)**\n",
        "\n",
        "Matrix\n",
        " is\n",
        "$$A = \\left[\n",
        "  \\begin{array}{ccc}\n",
        "8 & 1 & 2\\\\\n",
        "3 & 4 & 5\\\\\n",
        "6 & 7 & 9\\\\\n",
        "\\end{array}\n",
        "\\right]\n",
        "$$"
      ],
      "metadata": {
        "id": "SnL7rkNvsOFe"
      }
    },
    {
      "cell_type": "markdown",
      "source": [
        "**Tiempo realizando el determinante a mano**\n",
        "\n",
        "![image.png](data:image/png;base64,iVBORw0KGgoAAAANSUhEUgAAA6QAAAD7CAYAAAB9j1liAAAAAXNSR0IArs4c6QAAAARnQU1BAACxjwv8YQUAAAAJcEhZcwAAFiUAABYlAUlSJPAAAOlaSURBVHhe7P0HjKVZlt+JnRfPxnvhfWZGelO2q6pddfeY7uHM7DgOZ7QUKQJcrQwBjQCCoECKWFEQsEvtACKXpBYQKAgEV9oFRC2WWnKGQ42f6Z42M22qurqrustmpffhfcSL53V+5373xcvISB+RpvL8X9z43P2uv993/t85995USyEOh8PheOTg8ZtKpZIjkWazKY1Gw1y9XrctfjKZjKTTaenq6rrJRXSG4XA4HA6Hw/E0wQmpw+FwPCLEx+12Elqr1aRarUq5XJZKpWLHEFKu4benp0dyuZwRU4hoJKhx64TU4XA4HA7H0wonpA6Hw7FH4PEayWInGY3nIZwQ0ampKbl48aKcPn1aNjY2jGT29fVJb2+vDAwMyMTEhOTz+bZWlPvxMzg4KMViUbLZ7E1xORwOh8PhcDwtcELqcDgce4hIFDu3ENHNzU1ZX1+XlZUVuXTpkpw5c8YcmlFIZn9/vxFSiOn+/ftt293dbZrSqB1lPzrugbA6KXU4HA6Hw/E0YWsQksPhcDj2BJGMAsgoZrkQ0dnZWbl27ZpcuXJFrl+/LsvLy0ZIoyYUf2tra7KwsGDXILAQ2TjOlOPFxUW7jj9Mff0bo8PhcDgcjqcJriF1OByOPUJ8vHaSUQglJrpsIZAQScx1L1y4IEtLS1IqlWR0dFRGRkakUCjcpPUkPO4BmPDiL5rrYvp74MABOXjwoGtJHQ6Hw+FwPDVwQupwOBx7hO2EFPIJ6USjifaT8aKQUbYQT8x0h4aGbGwoExlhlsu9aEMhs2hP8Yt2lbCippSwZmZmjJC++OKLcurUKSOsxO9mvA6Hw+FwOJ5kOCF1OByOPQKPV8ggW8jk3NycmemizVxdXbV9JjJi4qITJ07ICy+8YFpPtKTx3k5ASiGk09PTcvnyZdOqQm4huRwz5vT555+XX//1X7dwGGuKBvVhCOndXhFOdh0Oh8PhcDwMnJA6HA7HLmInIomZLRpMtJoQSsx1z507Z8QSAomZ7djYmGlI46RFnYhhso1mv4QFGf3oo4/kww8/NLKLKTD3/rW/9tfk05/+9AOZ78ZXQowrHt8OhN+phb3f+BwOh8PhcDzbcELqcDgcewQIHYBAos1ES4o7e/asmd0ya+7nP/95GR8fN61oNNHdDh7Tneej+S6mumhG0bJCTGO4L7/8svzsz/6sfPGLX7xnDSlx4AgXM2BIdHTxWicIE0f40cXZf+M1h8PhcDgcjrvBCanD4XDsAXi0xrGfzIZ7/vx5OweJ/M53vmMa0VdeeUWOHz9uZHSnsZ7x8XwnckfYN27ckL/4i78wTSmz9nLfL/7iL8qv/uqv2nIxkMQ7Af8QUYgzhBYtLkQ0akhjOrYjEk/SDiFl6RniYzKm25Frh8PhcDgcjk44IXU4HI49AoSO5VoY4wnhw6QWwjg/P29azM9+9rM2+RCaRUhdJ+KjeSeS2nkO0st4VNYw/fa3vy1vv/22XX/99dflK1/5ihw7dsw0sbcDaWRMa5xwaW2tImfOdsnZc2W5cb0sG+WqelInQdsLfrX/jPyV3tOiN8paoy7lgRFpnHhRVk6+KtmevvakTJDU7flyOBwOh8Ph6ET6HymSfYfD4XDsEiJxhCziIGeMI8VhogtRnJiYaGtGdyKendvt1+NxvBfHmFIcJHf//v3mIIfEvf1+QNiQ0Xjf9blu+eBsTgPtktV6Xg5M9sipk73S1dsvR472y3OnBnR/UI4f65fDz0+IHDwqrX0HpdU3IBkNq2d1XrryBVmoB81qHA+7U9wOh8PhcDgcwDWkDofDsQfg0Ypj4iJIKCSRsZ7Xr1837eWRI0dsiZdOv9FtPxdJK/toNNmH6OEA2ldMd7///e/LW2+9ZWbBzz33nLz22mty6NAh05DupIHlPjS4zPbbPzIp3zpdlInBluwfasmbH6dk/6DY8ffOpGRSkzqp57+r+88Pb8rrB8oEIq1GQ1rNhkhT082xcs9NJaJTi0s20y8TNTkpdTgcDofDcTs4IXU4HI49AI9WxmFevXrVzHQZU8kERGhLf/mXf9m0pHFsJwSyXC4bqeS+SDbZjw7yiDYTP2g8GavJOFT2IanE9eMf/1h+8IMfGAFmLVJMgvft29cmpJ2kkHsw08XvtVklkM0D8hcfaJobLclrshbWRDLKd7PpliyXU5LTLcmdXxX56/m35W8WfiCyviGt8oZo4smEmfBKPivy6imZOnpSKvuPWj4ZW+qmuw6Hw+FwOHaCSwgOh8OxB4gkEVPYK1euGBmFTEIO46Q/EXFtUSY+wl26dMk0qRBZZud9//33Tfv5jW98Q37nd35H/vAP/9COCQ9ANAmPyZFYi5RxpZHYAvY7wTFpQzu6uropb76rnFL55PMHlHTqW+HKnMjxiabuN+XKfEuOj9YkJU1553JL3ptvynSqIPXhYakrIa5PTEht/36pHTggzcNNSR2dkdZISdJTl6WyvmZxQKa3p8HhcDgcDocD+BhSh8Ph2GVAviCkaD0//vhjI5RMGARxHBkZMXNdSGnUWEbSCvlcXFxsz3LLPUyEBEn94IMP5Ic//KF861vfMr/cy1qjaEoBx2g8uR8iO6yE8fDhw0aA44y3MT7Sh7aVyZU++LAl00sZOXSkX/7Syy1ZKYtML7fkf/WXmlKti8wui/wvv1yVjZrIm5e7ZCpVl9de6ZEv/fQhaRw/LvWTJ6X2/PNSe/FF6frcpqQ/syH1yV+R5R4lqBpdtd60CY5iGhwOh8PhcDg64RpSh8Ph2EV0agLRVEI20Y5CLFlWBa0lZBXXCY65DomFLEY/EFOIJuQRLSqEE7Nf/MYwItlkEiHMY+PMvbfTSnKecNFcnjtfsXNzKyL/z6+KfOsDCCn7XbqfkhuLKfmXX8vJ751WMiqbUqlelK43/kTy//JfSv5f/Asp/Nf/tRT/2T+T4n/1X0nmv/g9kd88Ldnf+SNJf+0/SO17X7M4iOt2aXE4HA6Hw/Fswwmpw+Fw7CIiOcTFZU8gjhCyuI3XO9F5HXSO+eQc5Daavsb78R/viY77BgYGTCsZw4guAn8xrBvXV2Wg1JTBUks+vCaS7mrKiweacuZGSrpSLXl+si5vT9WlkarK64fXpVhflFajJs1CQRrqmt3d0lDHtlY4JJvZl2W9e1DKmYyszFy/KS6Hw+FwOByO7XBC6nA4HHsAyCDmsozpZKZZxndCCpnAiGu4TsRzcUKjTgLJMSavuM79TkIKIK0cx3VA8UuY28loJ0ncWN+QyaG6vHqEyYxa8qWTDflf/0xNBors1+R/8TNlqfeuyZeOr8o//OKaTNRrUnvhNSn/xm/Ixt/+27L2d/+urP39vy9r/9l/Jqv/h38oS3//fy/T/9P/VOZ+5ldk8VOfszjimFacw+FwOBwORyeckDocDsceABKIhpSlTxjLCUmEkGF+G4ljJGqdRDQS1Xgd4hj9d95D+JFs4jiHqS+mvJzHH/sg+uncj2uTFosZuTSXkrfOp2RVvX/rw7T8q69mZWpZ5Hc/bMh/+dV1ubYwJX/wg2vyf/m3M3LjfFWyf/pt6f6n/1SK/+SfSOkf/2Pp+c3flNJ//p9Lj7r+f/KPZfzf/b+l+I0/kNa7b1kccfwozuFwOBwOh6MTTkgdDodjjwBJRFMJKYUkoh2FkDIGFPIYCRr+ItmMhBNwPZJOzkViyhaiGv2AeI7r3IP/7X4iuM54Uwjw66+PyMBgzpZ4eflgS8b68a/7h3R/IBDfLxxMyaEBJZbpjHzxZK8c0/2W5kOY5ZetuVVpra5IanlJSkuLul2UTDFoaYmLOB0Oh8PhcDi2w9chdTj2EE0jGE1p6e9OiMQjkg/H049IIJkR9/Tp0/L2228bGcV89ytf+YocP37cZsLFH0u8nDlzxmbSBfhhNl5IK5MYsZYp13EsCTMxMSE/9VM/JX/v7/09OXTokJFQZua9ePGizchLPFEzy/XOGX0BcaI9ZTbebDYn+UJRenr7pFJTwkt71eu02KZu601IcIMDbtTrLcm1auY4brWSCZp0v1arKjOuy1ghJ++ceU/KhV6ZPHRSDhw4cEsaHA6H417Ahzw+rsUPboB3ZRy6wCRuDofj6YYTUodjr6Bda2Fu3mZHNa2XvkjpbCaUI8gn++xlMlkZGh4ybVreBfdPBHi0IjytrKwYUfyjP/ojO4YoYr770ksvyXPPPWeCVVyDFEKK0EU7gKxGQsoMvYTBsjC4yclJ+fKXvyy/8Ru/Ifv37zeBDXJJW5udnZWPPvpIXnjhBXn99ddtWRi0lLSp2K5IG/HMzc3J8vycHFmbk2zfsDQvXpbW8qooW0UKlJbG34oz5KJtZZ9ztGUEw3gMEVVAZqWYk9IrJ+Xdyrpkf+KXZWRswsh1NNt1OByOewHPtc7ZxG8HnqF88HJi6nA8vfB1SB2OPcTK0rIszC/IZnnTXq4QjFqlKpXq1n6Vr79KWJkAJ5fPSSYZ2+d4uhEJIMIShG5mZsaWP+HjBOchnUx4hDlr9Mu1+MUfEgfQdkJYIaWsSwrB/PznP29a1mPHjlnYkF7Cj0vCEA+aUdY77SSCnVscaStrG+zSMLorZWldviapuXnpWliQlLquRd1qmF0afhfbBb2m19O6j+tSMts1OyNdM7qdD34ymxvSGu6R2suflez4pAwNDVl+iMvhcDjuBVh8QEbtY9hdgJ+4tBRj4x0Ox9MH15A6HHsF7VrT12/IDXVmatQKX3mVCphWtHM/o6QEM8z+gX7pLhZdeP+EAVKJye57770nN27cMBNWyCImtQcPHrSv+whUaDkhlghiXGcNU8x933zzTbsXDeinPvUp+Rt/42/Ir/zKrxiBhYRyD5pRwoaQ0pbQkJ44caJNQjsRH/vcv7y8bPfvHx9H1SBpTUdWnWh7xZ9pQ/Hf4ZpNPU97xly3UcdKV9Nf0uNNDaMszYE+WdqsydjYmJkfRw2tw+Fw3A2QUT7gPgj4+MVazA6H4+mCa0gdjj3E+uqarKnD5KiThEbE/S4V2NGYQUzi7KeOTxbQhJbLZSOAAMEJrbiZcyvJo84hpfjhHESVdgMJPXfunJw9e9ZI59GjR+WVV14xMovmFDKJ6S3+IKNoRF999VXZt2+ftadIPjvbFPvRRQ3unN7fNXNNGu+9KZvnP5LNy2elcuWsbF49p9tzUr56XtavnZfVaxdkSd2iuuXrF2V+6pLMTl2WRdyS3t/XK5V0wYgo66F6e3Y4HPeKaKb7oODZyTON56DD4Xh64ITU4dhDOCF1AOoTQgogf+vr6yY4RUf7YIswhsM/Y00hp5DQy5cvm/aU+5gMCXNctACcR4sKEYWQQnAhsvjBHDiC+9CkoqlFW0/40SG8xXa3JmlZK/ZJamFGGkpKKx/8UCqn35Xq+dNKUk/LhrpVdUsXglu98LGsTisJbbakMDYmxedfle7BURv/Gsmoa/sdDse9gmdV/Ij2oOBZyjPN4XA8PXCTXYdjr6Bdy012n13waIXwdQJhixl1v/e979l4UExZIZ6Qt1Kp1NZWQl4hnWg+P/zwQ3nrrbfkjTfeMFL6xS9+UV577TUjnpBQwoD4ER6TJHGNSZM4T1iEyUy/kFfSw5hO4oS8cl8cY4oQBwGG3Ebiyv3R7YRIanGEw0cVNKMIg26m63A47gd8jMNcdzfABzusUBwOx9MB15A6HHsI15A+u9ipDiFpkE0EJUgexA8NJ5MSQQTZ5zzklPbAxFf4QUvKLLsQUsLFH+NF4wyUCF8Q0VOnThkZJQz8ER9EE5NfiC2EOAp9kNloGhf90v4gqsRNGtjHEf52x3UcmlgINfGyT94gwd6GHQ7H/YBnE8+r3QDPn2iV4nA4nnw4IXU49hBOSB2dgKhF4oewRF1DHhk7CillJl3OocFEkwlhhIyyDikOjSlCGySVLSSQyY+YwIixpRxHrQBtiHaH5hQyC4Elbs5xP5pazkFy2Sc80hTTFvcjIY0ENLpITLlOnKSb8J2MOhyOBwEWGrezxrhfEA7PL4fD8XTA7QIdDofjEQLTVogjM+B+5jOfMc0ms+5C4iCcEFOEqfh1HyENB9FDwELLyTH+0UhCRjHjJcxofhvJIRpWSC4ElGsQR8hvnCjpz//8z+W3fuu35N/8m38jf/EXf2HEFFPdSJy5516cE1GHw/Gw4GPZ7VB+62M5/x/9w5vc1P/pv5PWZlgDeTvuFJbD4Xjy4ITU4XA4HgMgchBKNJysK/oLv/AL8vM///PtpVri5EOQUBwCFuZs+P/1X/91+bt/9+/KX/2rf9XMdPFHeJDCCPxDSNGwommFjOIHcJ5zkNUPPvhA3n33XZutt/P+CMK+k3M4HI69xNz/7Xfkxv/xv02OtrDx5mm5+rf/hTQW15IzDofjaYUTUofD4XiEiCZpkD+0oJhqs14nkxgxOy6aTsgkmkwcJBSHSS3H4+Pj8tJLLxmJPXnypE0iRJidGkqOIyFlbCr3xusQXcaQcp4laNCeAtKBmXAkrQ6Hw/EkYd8//lty7E//ibmjv/tfSvH156R2ZVbWvvGjxIfD4Xha4YTU4XA49ggQw0hAO8E5SCaEEbK4uVmReq1upraNRtPIImM/cZBGTHRreh3TWAgrkwgxdhPySDhoO+OsuBDR6LgWz0NGI0nF7JewCZc4mbGXMaisXcqxw+FwPCnIHhpN9raQKuSk/z/+SduvXZ61rcPheHrhy744HHsF7Vq+7MuzgUj4dkJ8xMbrtAXGiTJedG5uXtZW12VFCeiKEs+FxUUjoxBMyGYtMa2tVCCRa9JoNmRycr8cO3ZMDh8+3J7VFk0rEw319fW1zxEf2k9McokP4otmFNPcS5cuyUcffWTjSEnP3/ybf1N+9Vd/1bSuO+F2+btTvh8VnoQ0PHWgSWqRxZf/nUqv08+d/MdrnditWrmXdN4Ot7t3e7vZyd+T2LZum59k24no517z0RnG48g1ayXfKxg7Ov2b/72Z7Q7/7b/SJqed4OOdw+F4OuCE1OHYK2jXckL6bOB2Ah8aSbSQkEyErWgiC0Fkf3V1TQln1YhiWV1FCShtxTSbtbpJhRDTYndR8oW8FJRoFrqDmS+OWW65joOExvOMOaUNxTGkEFb8XLhwQT7++GNzzK7L5EZoW//O3/k78vrrr9vkSju1vZ3yd69CruPJBU+hdg3edLCF7QLCvdR4vOdJbx07tuvtBbHNz5OQt52qinPx/E3X7jPBjzN/90JIO4koyB4clf3/1/+tpAd77LgTTkgdjqcHTkgdjr2Cdi0npI8HtyNLe0GitofJMUSU8Z5oN9GEXrlyxTSSaCbRUHKNOsY8NpsN2syuLtbNy0tWiSPLADWVlOoFI5JoP+PyKvjLZMIMuNwXTXMBJr1xht2YJraMTWUpmTfffFO+/e1v2yRGpBNtKpMi/a2/9bdM4wpx7by3E535fJhyfJh7I3YjjGcZO5IOLVODlivlyzZe39H/TogeFTzXHqqOOsIyPGhQneHsEMb2thSfzXjmbCiW4IdrHG6VzIMnazdBHiyZmpiu1h1SdLfEhszdHne7/pC4F0LKBEcrv/c927+dZjTCCanD8fTACanDsVfQruWE9NkCj1O0khDQs2fPmkMLyZhNBNq4PAokkjYBMeWeZlNbgW7T6S6aTXtcKGGxn9H7MkY0u+yeGBYEEqLauTYo2lHIKtcB9yOY4fedd96Rb37zm3LmzBn56Z/+afnyl78sX/jCF4yMEg5pu0k418R0Hjs+WYgv/3YN0/g4CfnSk+xqiwyXzAUqhgtnt/Z5kgW0Q2tjezu6pV3ZrfqPeO1EwPaQQjx7hB2ST3EAkkqaw7Xw1N7CnqXIcLs+eNu+ub2QLKn6fFG/d0xpZ5Y46Ajb8q6wMzvFuUu4F0K6/O+/LfP/j9+1CY66P3cqObsznJA6HE8PnJA6HHsF7VpOSD/54BEK6WOSoOnpaVvLE8eSKpjLYrILAQ3a0KyRxXgfMI2kHTPzbhD28L/JrLqJCW8qxbqgXYHMajviOv6RDTMZDTeXlVwSdlodBJZwOe7uLpomlGM0tN/73vfk6tWr8mu/9mvyS7/0S2aqu52IRrQF0T0UQh1PEKy6+af1rX+2F5pAm6DSEm4hn9sOI+Jp9jrp0I7tKjboPcBWOm5J4hZ28NSZJNK8ld7oeW/SexNuUy43p+cO4H5wr2Vr3rfFqWFQ/+AutPahcD9jSO8FTkgdjqcHTkgdjr2Cdi0npJ8sbBcCIYZoLNGAYpL79ttvyw9/+EOrb8ZysiQLJJT7GCeKY3IhyCGaTDSafT29RhwJlvNdXThMcbVlWHycD+NECStXyNrkRtVK1cjuRpnxp2VLA8doVWlrkNhujWP//klbzoX40LoykdHCwoJpSJnE6LnnnrN4ydftBNzOfG8vg6cdd8vPJy2/bcQ3/05Z67zWsR92tTxu8qCOR1uyG0G5acElRzddMth10Fm2lLXtJOduuUnd9nN3QUxpJ+4YxD3EYVlL9u83PfeNe8lzzKT669gNbXeHm3nn3LVNx4DAtnD3Ck5IHY5nF05IHY69gnYtJ6RPP0yo20F4g4zeuHFDzp8/b6a5mOkiUEEyAcQwmt3il/NMIISQxD4kkLCbjTCJUUPbCOTW2or6J07GjGKKyz39/QPS19crxVJRiWnGSCukkzC4B0JK/PPzc6aZXVxckpWVVVlb25Cstq/h4WEbL8pMvMRNHJBUwmaMKQS6U1N6u3w/LPYi3L1K63Y8qngeB9qCwE551It2PTnNhuMtX/GJFp5pN8EuJL6TS5Qj6Iwn3s+eaWV3q5wtrq24tyPW6Vb8Hegoi8dW90nyO9O3m6nozNdexXGvuBsh7ZzQqO9Xvygj/7v/SXJlZzghdTieHqT/kSLZdzgcu4z11TVZU4fw30lCI+I+k9jE2VHRgj0WwcdxW3TWB+SPmXLj0imnT582Asg5rjFWMwLiF4no2NhYm4xC/CCf1SrrjzJOtC4tbSN2jxJN2kB3IS89SkYxt+3v75NebR8lJaP5fM4mPjKNaSYreY2P8Z+9PSXp7+uXIY1jcHBIRpSADg4MSjrR0JI2/EFIIaekg3aJ1hbSzHXyud3tBfYi3HaY1s06RWsQ49vh/H0mZa/K5EkAOcMx3jAeg5ZdoOziE6sTsUzDdicfAXqeS53eIUP15EOdxWH/Qgi7Ws4a1k7BafykI8TKsTrmByNJlj6Skdxr6dH06v+Arb09RUc0JMmSYkcBnAM7piZe1J1WUw8o7+RMuCOcs/P4ZT+5EqB7Owa8N+AD3h1Rb8j6t96V2rV5yZ+alOIXn08u7Ayedw6H4+mAa0gdjr2Cdi3XkN4/dlsTsZvhQeAgnowRfeONN+TixYummdy3b5/VGeSOcaQAwgfxY3ZbiCgEkqVemHWXiY7wy0y63flAKiGafJAoqBCFqS3CFOQ2jjtly/hQBMv2OFJ1fMzIZXPS09sjfb190qPElPvIM8vITM3OK3E+bRMZkVbI8cGDB+WFF16wskErwcy/pPXQoUNtstpJrJ90EtZ+jZlQzfha7VWc43h72jmvp8iT5Svpa096HvcEVj5h18Axm+ScbZJitDJjmyDxqju6R1lGj7pPu4wEyD60sK9OBY7klqR+9FyrVrd23aXtX7JprQ+NxcZSh9h4PoKHqh+LT7ekJYnX+k8jpK39tOVyVf2Sn4y6XFq36phsjDnCLAnbSd1DpOseEUqALWnV+OKJjl2QfDPQk+qTMk/yR74Zj86lrpTm1so3gHIA1CB/PMd4prSwwNB8C04v3NQm9gg8H2N6HhbkgyETDofj6YATUsdTizs13U7hZbu/RyZ4aryPgpDG/MXts0BmO/NMftnGc9Tv9jrm2sPWO3XI2Msf//jH8sEHH1h4CDwQRyYJgmBCHFnLk/MQOrSg3AMBhchyT1wvlPsgopkuJZUIf3rNhEhFSvNEWPE8zYV8cp79OJERfrhOztgi2ENcjcSqUImpbrG3X9NRN2EPIn358mUjxWheJycnZf/+/abJhayiKaUdQlq5ThpjHLtRhruJWOdm7qzOzJ01n7VkMiiOa1pnRo5CsWr6Q9miYaaMcloX3aWilRtlQBmzfZLyuefQNmekEfKSEJCkuOxaV1mPqP+stjN11tgA5c953U3xaMOb3diSzaVlWZtZkM3pBSnfmDNXnVuWdLkmmYZITmkVT6mmhrXercRh35gMH9wnhX0jkh0flPRIv7S689rQ1VeMUv9ZXOzfI/CvtS+NckXqS2tSm16U1vyq1GeWZeHCFaktrkprQ4lavSFZxm5r3S8365LpL0lpfEj6D01IRtPCGpeliWFJl7o18Rkja5TJo24m7fxvLwgaeE0LljpUAt3Y2JSK5q08NSdN8ju3IstXbkhztSxdVX0XVerh44Dmo6aku5VOSZf2gUJPUXrHR6R3QuthWPM92i9dQ33S7MlLPdel9aXPL414r94w8Rm0G+D5y3AHh8PxdMAJqeOpAs0VYhCF0E5nX7w7mrMJ6onEgKCJQ7jGIXRGAXTPhE9Ny14QUvJIXskz4eIQvmMZdOYnlkEUtGP+cbFMnhbEPBvRSBzHnfklP+QtahVjPUc8aF1DJjHL/fDDD22s6OrqqpngotEkDZBOBCC0i0ePHrV0cA+aR+5jBl7qDTIKyUMDyX4OUqnSPDPokk78xDaMJsPaCec4tvoKapq07jPRUZdpL9SLlk1T/ZE7/MWZdrO5vJT6IM1hzCqTHkGeyQOkNI4hRYtLecX4EeSYCInzkZRy/kHLL4KyiibCnf01hssx6acsSVunljYCP9xL/RMOk0Sx5bhOm4CUVmkfwQw5iaINogptJGfln9V4MtmEoGp81Av7lBdpedg8P+nYuDYr65duyOb8smT0EZVLaTtUYkNLo0Wt6X5usFeK+4eldGRC0t1Za4/6RLPrrHuZqbWkulGW6uKKtK7OyfqNWVlVMlSbXZLK1LxsTi1IVcNPV5uS1XsyaOk0EAjpZj4lvWMjSkpHpaXEL6Px5A6MSG7/iBTHh6WgxEjymholTXddumQbWhVtB5dnZP36rKyp27g8LdnFDelaWJfFC1elsbIhKSVyTSWk9pzQ/rShrLqrmJPuwT4ZUpIs/UVp9HdLQdNDmvL7R6V0YEwJc06aegtzZj/WFsJzcVP7wcq6VLSMGzcWpDa/YnVRUQKeXimLLG3IEoR0vSJdmlf6iJWkEtKq5kGr0PpEoVSUvtFhKY4OSr1XqaeS8a59Q5pvrZORAckN9UpW66hLSe9egL7M82E3EJ+xDofj6YATUsdTAZopzgTadX3xqgCKEMqYkwoOoVSF0aYKTy0lfkz2kkq0SwiVjLXL5cNYu+gQPtGUINhHv7sKTe+9ElI0WeO3IaQ3dVHdrTcCAY0v7+g4NgEcQV+9Wt61HNIqPCBg83LmJV0k/7ysNU7WtsSf5Xy389+BWH8xL50xxdxZOhJ3E/QeyBZ5hlDxFZ1xucwuS54hJ116D9oN8mmED1csSaG7YPlG2Izh3hL+HUB6Cf/ipUvy4x/9SL7zne/IyMiIzUyLFpEJjdA4Hjl6RJ5/7nkjowWN78rVK3L69MdyWe8js4zbnBifsPImH6srKixWQ9rzmS5Nc75NwGJaaQOxzDgmbzikx7oKlbU67T35EKNpxT8Osop/NIF6q6yXNyWvYQ8MDJr2lvKhDJkN+P333pMbU1OmJX3llVfMlPfjjz+2vENUyQ/ElHs6EdN0v6C+IMTkn2VtOuuOfYBgTNlSzmwjYtvBH30fwh/dVtvXvkS+dRvKRcmF9oHYnzhHP6TF2zk0RNqfIPDWP2g3yXqumE3TL0nPJwmUotVcsjP1Z2/Jld/9C1l476x0r9WkV1lWarMm2mukme2Si6WG9L54RCa/9Koc+Ms/KTkliA29eUP/U6o5JaPZ9aqsXJuWxQ/OS+1PfyTlKzNSXdswbWiqWhdBK4dprhJ/xjQ39MaG1gPP63Rd6wOtnhLO+fK6SG8gf4MvHZN9n3tJhl89KTLcI6IEsKV95a6tjnxR9xp2Y3ZZKr/3fZl994zMXLwqa0qUe1pp6evKS329rH1N+0uSnroSUTSAOW0v9UrV0lvsLspmsy7rSr+rg9o2nj8sQ59/UQ5+5fPSnBiQandaijxjQ8yPFFZ9msemktHy/JIsavkvfXRRyn/0A6krKeV8V60pPdm8dHdlbD4De65oHVDWaJ8h+PXNiobTUmKtzxjNC+/KppbH3Maq5i8r6fFBGX7uiIyfOirDzx+V1qcmJdVXDOa82n92G7thtkvfdnNdh+PpghNSxxOF2BzDa07Jmr6YEODXNwIJQZBu6DECp/0QPBFsEDR5Oet+NHuMkgtH6a60ETMT2FX4xSFoQgCMwKgQCnlBa2J3PICwfQs0mOkbSkivXb+ZkGrYMd32VV5hhHR8vE1IIdQBpD5leYZ8x2U+NpVkUC44E8RjuWnYJoh3EAby3LlPnFETBFEpFiHoydfkDgGjM4yHgoazvKgC0+KiEYkYroWtyaYeAYQMU9ae3l4jXnwkIO9VzTf1vrK6qvkuG/ngw0TMZ2d+IWOZZIkUtIeMrcwX8tLb06vl2m0mmloIBHtXEGZZy/ni5StG3s6fOyeHDx+WkoZDuV+/fs2IC2Tu1KmT0tvXG/K6MCfLS0uaXiWdmlbqDY0d7S8SIdoc6QvHgYzRHki7tWsNhw8llcqmLe9CHvJ5JawQUr3eUP/kl0mPIHPEC2kP65i2rLyIh/xjRsk10KVh9qmg1tfXr+WbVjI6LeeUVH985ixBGAk9dvRwW5NJ/k6cOCHHjh2z8CJZflBQHtfQMK+osKttgXgIFwdCvtPWD4ZHRmVgsIOQap4px3UloGioIaKEEds/jqaUFEE43obOc2b+rIAYkaeYDtoO7Y+22NvXJyXG5PJcUD/UzcPk/4kCRaFZmfujN2T6t78lK2euSGq9ItmmtkrqgbapzyG0gOnnJ6X4ky/Lvv/4Z6Q12if6BBZtWZJZr0nz2rwsfuttWTt9SapKRDPTq1Lb0H6qfaSh4be0AVqx6z9aPMQn01Lyo46PEZVUU+pKkCCEVa1fPhLm9FmQVgKaPzgmPS8oCfzCizaJTUpJoNWB/m4Bda6nm0qmW5dnZOVHZ2Xt7bOSPz0tm4srsso7RJ+daPcgxk1MXLXuSRN9MKQrEGy0v5uankoXaVbupuUAaa5Dioe0XZw6JEOffk4GXj0h6UOjkioyZjskI8LaWnLyltRSHvyzNhWwQ452BG8Rwu5SEln7+Lps/OicLL1/zsh2RfMpC2vSqtSD+a468pXWSHg/0r4hknXNlD41t+pFt+STsrAy1HP1ppYPz9FCTtLFvGRL+vwc6pPcqQPS/9oJ6XtJyemYkj4tS9JuZtu6w/33mpedwDPiYbWkrh11OJ4++Cy7jicOvDgR+CubZRU+11X4XJHlZdyyktJVqavQAkFrYHqkAm2cmMLerrxgFbxYERxNcNFzts9bUv0xoyljzHjxIQBh5gchCCSHb//hhRqF5IcBwjNpNtKUJI60mCCgx6bJ1T2+1Jdsll196Zvwq1chrZpHCNmGlgPhLC0t25fuDRX4EM4pAxv/RVhJ3i3Xen84DicRYCyPibmWkVktA3N6jmv4xV8UzsFuCd+rWncLc/NWHpBpyr6iRGtT69hI5mZFfbVMgwghx9yUpJM+8g2hXdEw8FtHM2gfHZIMG0hnKIOW1mPMX1XDrWpcjC0EkJ109t5IFaTu+vUb8paS0TlNO6RwaGjQSNDKyoqV8eTBSTl58oQMDqigrGW4vk5ayaeSUa03SxV1r+2KPGVU8M5ARPUCs+kaSdWytqarzsiQzZyLtg5NefiIQtuAjLJvZrrqOdaV7fPr+OBBe+IjB8vDoPWAYLCsTJjVV8VtTRMfIxgn2tc/YP2AJWIw48XUlbSTTwRD+gWAoJG+drwPANrfqvZl6gbtLlVIWBAT8sExeeTjRCnRcHOOPrqpbX5lZdnaAYSUdhTaAh8kYntXxC1Ikmmn8BSh8XXmgDRwf0OfJYRpzwSeLUma8Gtlr457n3rEotCsbJ6+KpvvXZSGEhnTZtK3NJ8tsqpe8kpQ0YrmDo1L6bkj0irlrcwzy1r+Z67Lyvc/krlv/UA2Pr5iJrpoF2va3u0jiAbAEy6tbRByG9qNOv1jHCYO0lpTNgPJpR1AdLM1JU9r2ga1Ta4vaXvR8Jj0qNBbVMaIVUfybCYctkSlzb+leaieuy6L331PFr/3gay+e042GcuqbcfeFeqfOHRjNxv54nZNB1pBzWp4R+hxXR9BVWnYx0xIcpd6rGu/2FzR5+/cojTXymbu29XXbWnrynUY7yab2FbiYRsd19u7ydYytO0GTrVduSr1GX0ffnRJy/60lf+y5rNyZdrGx6LtNI8KguG50EjqwvKpW95G9gzVesSigHRQDlyr6z7551xaHSa+rY2KNBbXpDanz2B9F1XWNqS6sUnl2gextD5rLDL1z5bdB0V8xsTnzv0CIrrdosPhcDz5cELqeGS4nSBrQl8C9iFamOXaZDAL87pdbGtD1IPkVGDnJUhI+EfwQUAyUhXeuypPBVKFQ9NmGlJenBAAhBn1xwsvmr8SNmRnE/MlvY52ihdjxJ3SvdO1iB0JaXxd64Y9wiGdkA5epBCJmD6IwdLioiwts6bkipYDmqWa3W5kQx1pNf8qtHGPpUePCTemEZAvmyQHYTMps7qSFLSuEBUmviFBlBN578wX/u+Uz7vBCLWWBeVN2ggrhBfSR5nklIR1KwFhtlgm2CAvaNJi/jcrYUkA09LpL+bPwrIrCJtdmq8gzFj+ND7MuyFW1EBGhVmIWBx72YnOPHLv1NSUvPf++/Ltb3/HZtH9zGc+IxfOXzCTU0jL5z//eXnhhedleHhIFubnLZ32waRWsXrnAwrEiTJG4zYw0K8EsE8Fppx9YIH48dGhgQCpwA9knJlyIb6MR4UwoqUbGx212XfJexgPquWjaVzTco0aWNpxqP8uiwvzU9oV5wD35nIFaz9LmrbFpSWzDMBMd9/EBJUi0zPT8sMf/sDCRFvKPYx/ZVImJkCKWoet+rs/BEK6bFpf2it9IoQT6pPmAJnmwwxaDoipFpIS/Q1Z0PKdn521MqW/mjaYW2gHHb+bU6VHIXgS3eHsVvPPQXxeRK08Qjz1Zh821OHPPhZoG7V7SSs+H6AMngyE9FMW5TNXZeODS1Jlgh99BkDMQ/2aB6npcW58UHqO7ZfS8UnJFPPSpW2oee6GLH7jbZn5kzdk5byS0XpVmoWsrKQaNi4RTVxO0lJQZluA1Cr7gwwygU4tk5L1rD4f01pf2gfq2kYhnVoJFK+RWEgg7YQPEDP6Hsim0jLQxyQ7PUZKAYQyyYmZGTc+uCJr3/iRXPij78japRv2YWFBqe46hFf9ZjR8NMBoQRkvy/MC01W0s2hDyxlNi6atpsdNdcRJOtCO1vQ619Aubmysy+rUvKxNz0thSPv0QEmyfZou2k+SJitDtiTOTrATYGlOrttusgXWhkPht8GzK/QW/U0rKXzvolz+vT+XuTc/sHxuav/gwyzla8RS/bENSIg3jvPadoMlUdPqOq99HBJe0zrg44B2QC2TtNTVn/VR7bM8cbOUl/rbaNVl/uoNmTtzSfJ6Qx7Lk6FeaeTCBwe0rZYj/duW7XsGz0L6WHx23St4PvHccDgcTx+ckDoeGTpfsp3CP69lXqZoTcrlDRXqg0meaUFUMEYwxGscC2b+eana6zmEYH/qyczwdMsL2F7t6sH86w+SwQsukJV4Z0gD4REPs3IiHPFiR6MV4lVfhNmRZvZBZ552wk6EdAvcy9nETLE/kAjiNbMlJeWUAeafEGU0x9yCwB5MMwNptfxoetpCdTtNpHtra2RUd0woVP9BG8S9lAsujMHDfwyn0z0MjJCus04nAkYsR40rKRLqNn7ZZuwn2qmyClmLiwtm+ko74J6QLkhnUpdoTvTYylb/jGiSXvWHUGNm2nqO6DBVZY1OZqeN5pqddRq3kJ0bN26Yme5Hp0/LyRMnzdT3+rVrMj09JfuVnL722ms2HlMDCOMhy5smpC4vL8r1q1c0vWWLB/LLMixoVyGBG0r+iXNA0wHhGxgakgP7Jy2sA/v3K/EcMzIJMSX91k71D7Nq0oCwNTI8YvcPDQ7J+NiY5ksFYo0nkkUIFBp0PjRAnLtUqC4UlNxp2ULqmaGX8EkH6SH9pVKPjXMd0LA2tNzn5+esDEgjRIy+AcFmn3M3t7N7B+GgIaWMTdjtKH/qFNAXIKLWFzQ+PkrQD2zsuLYD6p12aj+9n19sG7QF9tsuafN2nWsdxzgQNMvJMX/JNcImri3tejDltYmlkqzHMJ5aaPrvTEi1P0BeRvuk69Co9J6ctFlaN89ckat/8G0pv3NWMkqQUpW68F2lrnWYr6faBJSwePI1dCcSKsiPkSeITh1zUYtQCaySP5Z+0WObZEjry7RvuqXem2jpNqs2wQ4mpCwRo63B0ti1pu+Od8/LwjffloXvviephTUbA1pvNcw0GIeZcF7rkGzxMYe0mIk/9LfWkIxmAH8pbXNcxVqGNgORq2sZbCrh5tlT0DAiyYbUVpWgZbR/dw/0mukuBPeWdnGHZrL90vZ7tXRCnZRrUr88K7N/8SO5/rXvS/PCtKQX1qVrXd8N2ueZjKo7rc82zQek0Ex1NSzIJCa7mirNT3Dk2d5v+mxcb9ZMc4oFRl7rI6t1mdO4uvWePBYaer6ueSor4SxnNSwl/rn1muTXq1Jb0DZTDcMRsj1FSeW07Hg/kQfSbP/ukPk7IPS18EGNvngn4I93h2tGHY6nF05IHY8N7Revvmwgo0bAVDiOwidCq33FVS8IBlEIjkJoG+phS9hMXoYWdNjGeLgPAT+83BJBOPFnYeq1QMwQeKPGVV/uCEUqpETE8NrpvwNuIaQx2URtjjCCNgDNGGM7zfTT7guurOQmvJSD/3gPJ+xLd0d+Ypps3yLhKOY5nNd/4VqSGM5xHe2Vmdkl50140TKHIDwsooaUfFjwGn1IkqZbf8TDpFOMk2RSIAg5mhG0c5A9yAuEoN0GkkACCQ8aU/vT+g+p1/QbEdUrlo9A+PsHBtrnIzr3IXOMdWVpFyYrol0ytpe0QEbRVGKie+TIERPo0KqvKMGCOC8tLRp5YtxnNhPG6PJxgxlcbeyqJhDNHxpPNK6DSihJ08gIpLLfzFMj0Ya4k8e6fSBBcx3SSP4zGjYfJWgrjLU0M2/dL5aKFhf5J94ITKPpGxBR2jJpgegRF32sjLCv+4yNhWwCTHfJP2kJpu3BTJm2AClG8It1cT/AbHhNy8gIqYZNu4t1Zx9DkrpCi0yewOLCgvYHJaOaDu6PbdmeCVoOWD9YPeuPK/HDi4VrLmB7Wu2If9yE/+QEW9oRh1Yf6vBEfJQ7ZUw5mu9tYT510PTfkZCqs5Y40S/pI2PSf2i/1KbmZOn7H8rit9+T+vV500ziWWsuEB/b11OUqzrqi6q1fb3ALmFC9PCorTLco+2JNmUfG/Qe9m02ab1OuqRcFZuoh5l4+7St9/eIcl+R1bLUlJzNf+sdWXz7Y1m7NAXjbH+wjO0Ur5BbHjycJ/JYf4wjthl81S8Xzcyedqb1TVrtuobJRE8FdWntXmh2Ic4VfT5BpjM93ZId0+eLtl0Ll0hC8Ldg+2k73uafw+D0v+axoWR0/ts/loXvvS/rH16S9HJYwiWt6WCMq1JRSxd1kNHCtbrQAufTG2WYPCUNtG4cxzXNK+XCZE7xIwFjaXneNrUv1TSAqlZmRbdojXvKDSlqwWc1rurKutT0+dJUUprV5xfjTZmhWCu0HVdoSA8GnlN8nIp1SJ20+7+eg7TynGVWcPw6HI6nF05IHY8FURAw4UBfiOWNDRN4IQOQMV5yCJYIwAj+4YsrfnkhISyE23ntmbBhQigCTdha+PxxDae/cMsWcbNf3O94Z6Kd44t8eaNswgAvPV6K+Ivo3L8TdtSQJrcSRiDa+nLXOBijx7ko/DOmD61b+wZuVxdeyElYCvIB4os65AeHKJII1Qj/SIXqlfMI1qFsE9NkvdeIkJIfhCzuiVpG3MNii5AG4T7kqSO9WgaMnbVlUDRNEHFMtpnICEKQ4Qu8phO/ZJP2QLohBwitQWAhv3x0CCQiCC980GDtz5yRPiYeitpRQHidII0QsW984xtWPocOHTJz1RvXr2v5NeRnf/ZnbeZZ2uTqyrKZAq+v6z2XLpo/CC2mtkzMpIGbuTkfQdD6HjgwKfsm9smYEtwJ3UJGEaQwm+VDAGapM7Ozsri8ZJN4UToQU2aP5qNEtRaWNlnXOJlsCdKJZhPtKxrPflveJZh8W91qvVEGpAvSSb5ZxoX6hOiG/qICt+5fv3bV2sTo6IiMjY3bh4CzZ8/aeqtoRikn2gfxcy9LFJk5rWJ7Gd4J9C3qNhJS0wBbmwwfGdiaoKnkGaKJdnJ2btYm8rIxpwD/+kMrY23ABFEm8wrtNn6gCK2LNhD2khMBHftRa8q52EftQ4eWhwZj9xMujv18orklnRzfT/6fOGja72ayC7mQ/YOSUUI6MDwky++elemv/1AyF+eksVE1U9eWlkdRKU+xlZGy8hFMYBm3iKaO8ctsKVkIKeMTMdmtZbukmU1LqRnIErD5AIhb6xa/ALKF5i9d1fa3vimb2nZyI9p3Dk2ECXouTcvqGx/I9a++KWvXZqTWCibDBIkmkPUzY1haiZY/I2Maj41f1WquMakS62zqNqvElwmDWlq/mOjy5Oa+7lZaXSBitMWaPltsrOwKyxhVNM6UDJw6bJpCK7OkLZGfZM9yyT7bmCTQ3tedeJ0tT0trd1fmZfP7H8uFf/tVqX58TQqbDeu3PAcZwlLClLymz+/NiuRT2i/0Zsa8Wp/SX3g+8uwM/cHarflpmSYbM2btkPrc1JNYlehzuK71U9ayLDe0z2s+SQ0a4YGaloM+q1mqrK51UV5clvWZBSO12d6iFIYHrF41UovbMvOQoL/xgYpnTtSEss+50P8dDsfTDiekjscGXooIuGvLgXxBBjAzRFAFUdDDH+aqbAHCdljaAmen9Fr4Zz+26ngZclxPtCqRiMWXc7gPv7z2Q3wIwbxGjZwhnOkP8hFMPxNNTIz0HnALIdVbY7o16rYwjPDLy5W0UgYI7Zh9ckxeuc/uT0C6YlosDP1x3fKjQgU/4ohpDf4iYQ+CCWVqZW1loGETfHINh7DDrMN8gY7hPCg6NaSERHCRIFMfOLTQ1A9+GBtppEzrBpJK2ZAntLgQMfajqTHCUpJ0smJ5hMDGPEPMIH9oJjFtNY/bYOWhdfT+++/LW2+9ZUIOS44Qxtmz52zpE8aQMt6SsZ+LSvJI39zMjJm2Umd9SkKHh4a1zhAWG1qnGSOnZpqrYR08dFiGR0akp6fX0kR+aaWLi0tGXLEMAFxHewrZtGVHNBy0FUw+hIa3roInWk/iRBvL8i9G0FUIpG+gAWXsKWVKWdqapCq0QnrRMpJ7hLlA8LU4tHmVSkUNb8PWTEXjGsi92HhZ6g2TacKmv+LIUxQOO0E53qmtkB6bYVcFZ5tcKflgYBYOel8gydQbBLNpJBzyzUcrg/kJ/oiL8Gz5G71OGUBGQ/tFGqdVcEsQyEl/7PtW3+rH0qvnYhukXYX7k3spLf0z//Rh3eYKW+uU3imvTwU0/XcipOxrh5OekUEpDfTLyvUZWX3/ojTOTklmJXzkaObRtjckV2kYUYKsQYYgRYTDUipoMiGp+jCzZx3ms5m69tWalqnGCSCeNomOtQUNV8sawrephAhya3WiDo1kcWhA+sZHJKVpW/7+aVn46g8kc2lOI9HnAWNCtfnmNdhSVdt6Rclko8s0mxAwq1BtXyx9Ajlm8qasEt4ufRSSHoi1vV/UZflgp/4tvbqFOBMCRLbFB5Fsxgi1vmGkquR1+OikjSVljdJQgKEMrTwtl3aqDfbbxx0XrNzVdW1q376xKNPffFuu/Mn3pDizbuVMPuMERTz9mEiKODLa9yvZlGwqR9vISthXx9hYXEXPkc6anoNwVnW71p1Rvy3Z0OsN6rKQMSJe1mcFzzLqpS/fLXktg7SWD/FUNIGYS6f0mWMfVfU8kz3Rp7q6tX8M9Ukzp88LTR/9siNrDofDsSOckDoeCxDuIvliMhhmjrXxoolwYi9wfdEZojACkjebvhsNbMI+oqS9w/Ge7Cf3KAiPF2Nyh4UXnF0O1xFC7OWJMMw1hOBwHmcTCCWCyr3iVg2pvtRVkLU0IowneSTOKPBjompmuioMcAvCOdtw982wV31ykuvBE2kO5WdZNsRz4TzYKgO70wQL/JHOKHwjcO2G8I3JJSTbTC71R1gInAQZ0kT6ghkk2jPKADJCmiCHpi1De6vpIpOmBdN7LK0WTgjDiAv7WkemUdN9TIGHlCgGsy6VyHbIBuUOsYSQoiFFAwjZwXQVYfu5507Jyy+/ZJo7zMmXl5dMi4gWFw1pj5JHZoWljTAOGcIJKWRJGAgm5rgjo6NK7gMh5mMA+UFzOavklg8yVW37aFYhnpBRwmGM5/pG+DCBJpVJkaguaow2GskYsHqCfKoQTVkgTNLqMAXnowL3QO7QHtOe0RpnEaqVIJDuOuRvY0PjrFjcAIsFCCkaewChxREnY05ZKxQQXye2H0e0CamGQRy0MfugQhvXiom3kUfGNNss2JpHgJ/YhikB8s8ebYGPFt02EVJYwqnbNM/FYF6cmBhTBtQLebfeqJGEPk44MVzi1vNGXBR6ys5T5hBY/fFxhLLGce12eX0qoGm/PSHV8lYvGS0Lm1BL2c/a1SnZvDAlrZllIygQTEgRPZFJb0xjOViUzNiAdB8cl+6Tk9J9St3zh2xbPDEppSP7pbRvVLqZuVfrhvGlPBXs40RS7JSzmcpS9En7sDRp3fBBqLs/9Clm9V1567RsvH1GiivaTvQ6s+OSL5sdWNOIJjY33CfdB0YlPTkshRMHpPjCISlo2gon9kvx6AHpPbxfCiMDku3plowSKptlV9tqutEKJrF8pqTdaIHE9OrDSbLa9orKaDF7rWi8vROjktW40gO9FAoJCRtrSLZjbam9fxtYHVQ0ltkVqXzvI5l94z1ZOH1RMpt1I/sWquaRsqGcKvQRLXv6P8bKpB9C2CopDR/uldz+ESke17yeOigl6kLzntO8Z9Xl9Vzh6D4tnzGrk7TeY1ps+qc+pzD97c7kbIytdjrNp5aNlgPmvGTFLFR0p6qElNnveR53D/XrTfrMKWSV0MYycDgcjtvDCanjkQOBDwE7agIX5xdMEOYcgggCo2kz9EUWYcKIvgB5CeOPl15ywa6FrZ2wl2R46yuU0ORVgITQEC/kAqE4CPFBwCW+SN7s1an+OrUtRs5UKGGSGrRKaKtIpwUfIr0tthNS/Ntak3qMdo/bTQC28IK5ro2V0zSGPKMJCoQDv6TPfHOPujbsYvAf0ghhS4inpt1C1+uWX8sr5RXSHky/VKjQ+zgV80w5EwbpRZgP5RTuuV/wwQENICQp1g3xbKWDdAWSSv4hiHiLRJj0MAswPiGokCnTWGuaNCDb4s/GTuqWGJhdF2DSCnFCoxfbUCdIB2n7/ve/L1euXLFzmOqyf+bMGfnsZz8rr776ipLUcRsrCiFl0iAmL8KkmnAPTh7UgJo2AVNWywpN5ujYqOxTQgohBhAm0/hBMJVsQdKZ6XZRyR5miORndGzMNLmMSZuZnbd1QjFZJS+QAq6xHAz7tEfyCSmlvLa0ri0jy6wDCQGe2DdhJA3Qz1jOhg8efX09GhZr72alVt00Mkde3n3/I9PaUt+QeMySmXGYrX0sUBKN5pQyPXXqlPkDsS5xsW63g3a9poJrpUobD6Q3tEfCCO0C0Gb5OEW+CKv9TNBtbJ94hxxCPCHHODTLo/vGjfwPoZ0eGrK66O3taZcZ669aGOog53FcKum1Nm6tTAXudr8LfcaAPwi8xkufeNgPNY8dmvbthNTMbLWf8KM0CuRdiVB9fkVSs8tSmVmS6tqG9PSWrNxYhiuXz4qgWRtQkvickptPH5fBn/yUjP7C52XkF7+g7nUZ+rnPytCXX5PB11+UgZeOSa8SwbySwGqrIRv1iqxqm0yh+dM6oewhRelcxvoT6YzNo6llzoey5tqmrJ2+LJXTV6VrZkW665piSJM6noFo9tD4LY4WJPPiQen7wvNS/IkXZegXPiejf/lLmp7PyKCmZ0jTOfDpU1I6puRsfFCqxYyZqbK8SWp9U7KMqdQ2A8HDFNjWTdU0MoYUktadSpv2F5LWVSxIfmxIuidHlRbSF0L7MXQ2k4792OrtFGXPVsOWFX1OnLkuc//fr0v5wpQRz+XyOgFKUdsfZsXsNzIp2WjWjLyDfK0lOX1mZ7Vf5MYHpO/kIRn77Auy/+c+L/v+o9dlVOtj9Gc+Lf0//Snp/cmXZf9PfFr2vf4pGXvllPSODUuXkkjGzPKhAUJqbULTQ36Jbz3dtCVu0B7TjzGvpj+0NvXdpW2oOr8spf4+05JmRgfEvg+EpDkcDsdt4YTU8ciBMAkZhQRA1mqblSDo6cvOiJE5XuaIRNteZuqPFzhCNFoPBE3MMTEhRAs2okIogrK54RETSNFU8TXdxpvoSxSTMRM8NfwQJn9ByDUhlPeuXjfhV38QR4iszbKpAi3hdAqhnfvbsRMhJVwzl9VzCLTAxtLpddNqQUb1hz8cYItfI2NKsBhvSt4wAYXEmGmoHjOL7JCeY7wkZphxPCFJJA0QAshQIKkhPfzwgzMizE/Pb82CiklnKdG8aWLs3/0BLduqklJIiIUPMVRY/BZeSI8JuMkHB36kwcpE044WDM0h9c0ss3FLfql/TGYhVIEoYK7atHbC+M3BwQGbRVIjVmdRt0E7hHy++eabdi8TDl24cMGIMcT0c5/7jJU3dcnkRnOzMzKtBA3NaG9Pr5X5hu4zzpHyPnL0qOw/cMDumZudk+npaVleWTbtqk0WdOWyjevE5Jd6HVASVUBzqmCZCuqhkAtm0qSnV/PMMjCDA4NSKhYTLagKgZofHOWF6S71QtuBcH788cem1SSsPpbK0HgwY8b0mI8zmOeuLC1r+dY1biVXWraECdLZghLOa3Lu3Dk5fvy4pYF2ARElHNJFfRI316iH2CdCXYZ63Ql8MKAMw0eX8FEo3Bf6gFZ7qB49QVuIH2MA14JVQUrjg/T3W/unr0PUuxHAtW9EDTEIYdOXQt8hnTwLeHaUekr2kSASUpw2udD3tf2EtNl/yzd7OAR18k5bI8wY11MJTfuOGtKEkJI1SCnPi2a1bhowConxgyyhZOMvsympDZak9KljMvKXPieDP6tETwkey8TkICQlbduY0FvX0wDT6rqzUh3Qsp/oV38HJN1XCh8HeBdoG8FEltZozwOeSfoMQFOJtk5fDjYrbmN5XcozC1JZCjPqos5tMXZRSeh6Tuvo0Kj0ff55Gf/1n5Kxn3xF+p4/IoVDY7amahcmtRm9geeQpofZYet9eWmO9xkxRVua03ZCWfAhjDGiaCNxFIq1KXWkB3NitKbaSGzMZXFyXPo0T03Cx5+VM/8SdO53wE7zj3fBuhL0c9dk/oenpfLmadlcVqIHSdT8QRIblarNqktbtPG6SpYbGl+tlJXyi/sk/7mTMvRTr8rwz35W+rUMup87KFkl26nebklp+Vi61NlwFPo9aS1oWx4oSeHguPS+cFT6P60E/sCYZLSd1+ivzPTORz6eASSUPqNh8D7hQ1VBn2/MUswyMav1iqS1DPuScb5PdR9xOByPBE5IHY8UkXAgNCMwQ9ZsIgsFL7mbXlzqlyM7o+f5MZYTjUivCvu2qL8KopgxQkx7tpvpFbtN4DRthjqEUSOlKkSagKnvfYgPJNSE0QRBY7OVlqhV5Z6oGeElG3Gnl+0thJSfhkOYCHmkBUSB2IipbhGIY7hsSTd5gRhi1hnXpyTfCNYF8qpCNlqgaJ4Y8wuRQ2OAAEIaQlpCuFHzwzWA8BfIC+PCIOiaZhXC+vp6jVCZRjLxez+I5dBJeMkvmjFLl+4DE3zVEYP50X20uuQD4gMJgWxD9kJdY6KJxhAiiot1nLVwGTNKe8A/hMzSrn8xPuKAjH700UdGHC1c9X/x4kUjuS+99KItycIHBMxXMS+HTDIbdF5JUQ8kSOOrbJatzY2NjcmByYP2cYTz0zMzSkZXjIDRdiC/TBKEAIcgyJqikGzARFqYAJN3yA6zDRtx0jrHHJj9zvZCWRIuY43ZUncQNoTnGzeu2wzBECc0hIwFpv7Im95txBUSG8ZmtqzcbKIrrd9coUfTGCYYox0RP2VhcWjfNW2spoOyo40cO3bMwo1k9U7ADB0iHAlpqA7apfYzTRNpIYzQLkMddfZHKzPtB0xOxbjc8OGlZGVr5rg7CL92r7YhG7uo91MW1A3lyzb0u6ZpZM2cmfg1L/SV5M/uJ1jO4Yf7qA+29ix5WqGZuhMhtcxrH2QCH60xqWMvqmWINQWPKsaPdo0PSOnTz0n/F1+Svtefl5KSn8L4kGT7ikp+EuLXWSVaD628EislhSn1UxwdMtJK/TSUXLbWtV2ytIgSLkCbzrb02atkh9lj0eCKkuO6+qusM+eA1ptGwXIjjIts9Ohz4Ph+6fucpulLL8ngZ1+wCZCyg32S7i1KWp+H9vymQkkX7QOiV9Dzmh4jo70lyfV028ebqvavdSWEaF9tBluj6NzK/Vh1hPcXyVqrVY2ID546bKbC9nGjM+87IIS1BQidLK7J9Htn5Pr335XmlVlpVoLZOh+jtLHa8yiNllhvRHMK+e3W/EGECz/5spLJU6aF7nn+sBT2D0tmoEdSkHC9hwRZnPQJ8q4H7LOMTlcpr+XUKzmtv8K+Ucn263NTn7HEBfGt1muS16TY2rH0Bo2X9zea7WJa+4KGi/nyWrMmxYE+6R8Zki5IMB8KHA6H4w5wQup4pED4Q6hFMDdCqkSF13t8IUfh0EhTQhpMYFCHsIx2kFlKMcfr7+9TAtFrpCMuaWGmf7xhw40WLkIsZl+QFswdg/CdNu2bCTMmCAfBl/ORIPHShwyFNAXCaFohjc8mOUrSdScYEVtTQpqQXlJEmOQPCQaNK4gaS4OGaQJxkn80swjdCODkmy2kFGGY9IbbNB3t9AQTRwR0iA1kAZPNSCIsriQt/OmBOTNh1LphPCFmpuaXa7pFywaxteUuLI77QySkZrJrSQ1hWxlaeYQ0hbxsmWjiD+0ha20y++vA4ICNDyQvCGc27lTDM/9aJ2jOujXP3WjEtc4hrJ3EwZLOP40nCpI/+tGP5O2337blXYgTc1fMUzFHffnlT1kbsXGULP0yM2Vtl2Am1D9bzHaJ49Dhw3LixAkp9jB5UpgYCK0wprPUN+2rqUKtaeu0btCuMvYUDQzaR+LAFJb2SHjUM/VOHdLuYpvgOumj/0AauZfyM/M5MqT5Y9Ij++ih+SQc0+Zp/aGBpX4h0mhGIbMry0ttLSkkO5NTAp+MO33jjTdMq4rZMqBsiBPNsY3/1mPWZOVjAekLZWyp2BG0r0hISZ+1QUC+LL2BkFrdc03/rE9Sv7qlLdMGsAjggwxEVAvW/FnTCXftCAubn4Zv4Wn74UMNH6vo6zaTMRogDQgigf9gMaH3EUcIxIg//YM6ooxI11MLLYs7E9LwTNhIN2U9n5J6t9aLkjnGctaVJHUN9UjPy8fk6P/sl6Tn9RekuT+s88szzvq4/trtgQpi1w61jrU/ZCk77beFIW3rSgSbU0tSmdf2oQSwwPJG+FMiyiy7OUip9p9MTQPSOohjpJmcCCLKZEbrWSXPY71y/C//tIz83Gel+OkT+uzHVF/fC2hCk6QA8mC5JJ26b+lRxzMp06f9TklZsadHytqHl27MiKxVpFAXm22XfDGGskE70TAJl+fqWmVTek9MSv8LR6SW03arZZVWf6FtJlkHesKKgxPJRcilfbZUst2aWpRLb/5ILqjL6QUtUcnro5MxsbRdzIeZeAjtrNWXluGBU8fk5E+/LuO/8Lr0P3dYciN90oU21Nqu5tPyT44T6I6lIRzZlqvkp6WBdqn/TF+vaUkHDk7IZndGVjV/A7NlW+alrG2ilQuTPjFpVF63lEk1l5KaVqtSWenVlKeP6nOSdWMdDofjDnBC6nikYHbNNQTphQXbt5e/Ei4jQypkQDRMqLUXvb7geEvqS70Hjcgw5pnDtg/ZCIREPfBWD2/TWx3/2tf1dav+IVWm6VSBkjAQAvjyi6CJAMpXcYSTQJRsJJAJFgQSBW4W7Q/nomBhkd0MPQXJwAXNp/5pPtFKkW5mYTXizTW9P2i/NE5NA1oYygChd3xiQgaHBlU4Khkh71Lho028zXFb3BJxx9ZAulWoUUERIoRAWalVpUZ+iafjfsuHOtILeSG/COzcBymC2IUb7g+BmK9Z/oGRAw0nikcIVVvSEWUQ/OWVWA4OD9mYQDTekE4jB0l6cTeVfbyk6aY8+RBBXbfbinqwkNVTVQU/tKMff3xG5ufnTBPKWqJoSp977qQcP37MNMPLiwtKptHmr8iMXuODBia0EEDSiYZ2VMnpmNYTZIm4TQhtxQl8Nk2oDyQrECyIDKQKDf/s7JyRXNo/mm/qhGPKmzxEMs15HOcggxDDOOkShLNX24e2TtPWMq6P+iO+fZouqzdtV9a/rLy0jPV/QwX8mpGxqqSzLB+D6STrqGp70bJeXJjXcFT4rzbkwP5J03Ay9rW/v1fbBWN5sxYGxBlCTzrvBMqB8cRocQkrtAGqI2wh7ZY+6t/agPZNngvadktaNrakjtYJH4VCP+AuvKrfJIzbwfziodMB6+uBTDNWN7RNPU14yT30Ubxb/9c0oW3nIxjWCU8zIeUZu6mEtPy+EtKlQEhDP7QCMELI7LR1bc81vZCvtqSghJBn5Mb+Pun7mVdl/Fe+JHklHWjXMuovPCkDYv0Ytu1u+eGfOiVAXaWCrC0sytLF62YGm6k1bUwkJqkVbb+YxEL00M6ltF2UtD7ySlSp+bVcS/o+85wc+uWfksHPPSe5iWHT7LUja0cYnf5Lzt2Uzgg9x4yzaAHB6tUpyVabRo6r2ufsI2PygzRDGhlP2qPxZvcNSW60X58/+rzVcNqhh2Zq8bKNRW3HukH721xck8U/+6Gsv3teUnOrkrO1aRqmOUXDjz97Z2g7JQXpgZJM/NRrMvQzr0n+9VPSGu1V5sqHOtpvCNsQtyDZ7zwVEc4ladasW/6L+vyfGJC85m1tcUkq6xXJbNSlv5qSfF1LQD0zY281FYaFoCtlUqZ6syalFw+bqXBL69fSZOE7HA7Hzbiz9OBw7BZ48+oLFDNCJlZhFlVM9GzWWn1J2WX+87ZKHF90ESgYF4YQ2oeJnjrTiOp5I4T2xr0DYngR6h9yYmH29kgvWlYVdKOAy3veSCICLvuJoIsgauaQlYqRgboK1uZZ/0AkWncDeQzhh6QTZtDUcX8QbtiDNMdJbDBTLWlaIWeUB8JzZzlZQGwj7DiWKcf6p/eYxlCJA/lla9rZzvt1a2HrTdSNkWLu1/9hVtRgNvYgiGmx8NnvLK9k1+IyT7iQFkyRyTsOUhLvvyP0XuoLIgoRi9rFmE+rWnVo6S5fvmJEGUJHnaIhg7gePnzYNIu015qSp3Uloys2DlTrRQkpxJgJitCUMYZ3Yv8+0+JC9kMS0YiyhEvJxrb2az1CYiGgfGRAcwuJK/UEk2vOQ7YmJydN20g60JZev37dtJBBC8qHjECcyFPUfkNisRYgPNKOtg/z9cH+QRnQsHL0FYpF82xWAHxw0T5QKvZYf+rt6zdSuraxKevaL5E/e5RcjI4MyvOnTpoW68a161LqLtk6qhBP4oCYM0754sULls6g9Qxa59sDIRmhNFQEWqoIiCjOngd6vt1G1Ct1CfGnHdAvSP92EnHz0T1Cw+BZQpjUBfUZ+nq8TJq0QJITxME51uplttd77fdPJ0LeeEYzUyrLuNjSH+pY2qPvuUMy8Nop6XnpqHT1d+vzEwL7gPUAkdUwi8x6e3DMNJSMiaR8GTvKM7KmZKemjA3tG+uF8iyABNqss9qmu8eGZOj5ozLyaSWjk6NGkEOFJe5+gH+NnzGVxaP7ZUDD7eormmksVW5Pad2h/VopqX+oIjPudpX1maHkvkuvhY8reFBwY/tgCzed2axJY35FVs9elfqNRclXtM8r4QM2htX2FBpsTZ8xTBrU/6kTMvQTn5LiaydEDg6LFHiuqwfyENG5fw+I3i2YrLb/voJ0Hx6XoVdPSM8XXpDsiQlpFpXsh8KQptZFVR8w9qFAjyHu9cVVWb02I6tXpqW6vGp1GcrA4XA4boWJTg7HXsKES34qWEShHy2hnVcH6eMFiODHMV9YcZg2muZHBW7G9iHIo+HZLog+CAgDzQbhEzZxEH5cBxPyZcuMGFkM/jVppkVF88Q4OkwM7wXhFRzKwPbIM1/YVaiPsLKpaXyW75SlxUx0h4aUfERz0/vLN/6330P5ETakBzITtXYBHX51F2GKNJPWMBHS3cjG7oH8QiZJo2n3dhkQp81yWa5dvWb1zRhJ1uBkn0mNcJQVs+aikWXMMxpJzIZZpxMNJmFQR5iv7t+3386zTAl1SR2jxab+xsaVsGp4J0+clH1KXCGOjB3lgwB1wcRBL774orzwwgty5MgRI8OQU8axMraVLWNL6TsQUeqUNotGF7Ni7ie9mNtC9CAQxEs4jO8kXdRz0OSFtEFKIcJDg0O2dioaW4j5zMyMtTfu4cPFK6++amHZuFktCz5koHHFTJlGgik3a8aiqY1pvBO2N2HrEXSs8BfAPucU5JX0UE60hfhxYXu73n58r+A+HBpPTJmJy/oEwcUE6X4Mn3S1XVLPMa2fSGi2UdDRrvKptLUxW2NzqEeOvvaSjB+etHbMx0H8bFXi/YOPOYxX7B0eksHxEftomFICiBloneewBk/da8HbMxKrDaZI21AGVO3OyoHnT8ro0UOS7++x9JCUB0lO+z6tcz48dff1SM/YsHQP9EtL46zw3NdrsR1uOW4Kz5agPb0ZsQ3dBG07nWcba2WpTC3I5vyybK6uSW1jU7r0mcIHAca+QsiZzbeh+VvLtKT4wmE5+Es/IaXPnpL0vkEKyMKL7raImdyeyB0QwtL8qsvrM+Pwlz8vvZ89IevjBVkqtGRd+W9N6yl+wGRG4hTvtlpTGutVWThzSdZnFu4pLofD8ezCCanjkYCXNEQUEmDanoToIcxBeAAveBPwwoGZpyIUoz1CGIUg7DYIM2qZEHo5hpSa4GNCRhBsmIAFkopJ32ZlU12YRKYthdwj7OVu94Sv3YTPMfmOZroIfUxWRJqMNKpQFIWehwVhINTHsYlB+I6ClXrQREW5wUxjFZZ3FYoga48ClAXkgLxDvCCku5H3CILChJgJh1jGhbZJmUC6IGZHlcRhHkx+I0ljPVDKKrSBioWDNnN0dNTu5eMEbaagbRZBmXG/+Kc9UY/DSurYZ2IhtHDW7rVc2QaiKEbmOKa9sw4q+b527ZqN4/zud79rM/+inbcPOuqP+AjT2qqCnkOdoU1EQ8rEP6Y1hSxY/Wo7g0RRw0ldk3bSNzY6ZlvKYm5uXpaYgVfzzxhXCPfBg5Py8ZnTUqtV5PiJ45Zmlr5hjCxafsj6pUuXLG0RpDG628Gus9Wf1bHVc+JfN+TNJq7StkD/DO1199oCIDw+fgUiXrDyi/3+JugJy4v+8RGNstITycVPJsheNfkYpSVvWrDmgD6TDo9J9tQB6RrtM3NNtGKGh6ka7tVnXX6wV3omRoyA2SyuGjhjJe2NQd1rGyY+6q2ubbuOeepgSfpfOmFrnHaVum8iZveLzvtsyEixIJnhfskO9Zr20cx1w2VLh2n1kztoF7SRMEQjFsoWrA92nO9sy9xbmV2SjbPXbOmUVrlq2mFMpHN17e8Nva+mz2B9bvBO6B0flp4Tk5I/NWnaW9GysMa5A6yfdTj8tX83nb8zbHKi4V7pPXpQhk8dl0Z/UTbRXOszkfGtmHdntSx4ltnsuxsbsvqRPheUZNswmCQch8Ph2A4npI5HAl52mPRBRquVLVM3exHy8tY3lQnW7OpLGkGZWUshJDiOo+C9myBMBH+EXcgIAj7CqL05SRPChm55cUchtK4CAS9bCGQk1ndG54s+EIMghyCEh3PJn8VPvm29Sd1Cbkhjp+DyMCAchHoE7zAhC/m1K+aSWtE9FdIpBwUfDEwjrPneaxA/bYLxebYuZj4srbGbIL/MdHvjxg37qECd0jaZKAhSNnnggI1vpK1WNiuyMB80f8zuyjk02ZQfM+qiPWTfxj4qGYTY2AcNjYR42PKBgfZlBEYBKTWSqP5DWwh1S77Zpz1CJGn3xMc4Vxymu5DE2HdoF0ZIE0JL4dF2GZPN5E6EY2OGk/CTKg5pVWdtV48hyIxRJu/cv7i4bGNfKQM+DOzbPyGHDh9Uojoblrrp7bGlVvDLbLxoW5lgCRNjyjGm756gXnfyb+c0bYRNP8DRXtt52WVQljbBkZZFeAboSU1Dkowk3kRw1x91ibuPnD6VIK+mndR8K++QSqsuKSUkxZMHJL1/SFI9Sv6sbEK9PFR5EI72i0x/SQojg9auIYQ2gy4poTISMMsr7w0mNJLebsmMD0rh6H7JjA1og2bcaEjPw4DYLEZmEtY4sn0l3c8aQTaiSpm0GwiHuq8uas7vhO1X7Vjvqc8ty+b5G7akTVe9KRlmGta2yXU+/BAPGmtmBB46cVh6j2s9jA9ICjPd5APivWB7/EkW7g5Ni5T0+XRwQoaeO24z8ppps74jIKSYdbMOrG201urVqlQvTktzZhnzIgvC4XA4dsLuS/gOxzaYMKcvW5aZMEJa29Ki8Obi9YUfhEL2I2FCKA/mjd12bTdgAmUiLMQtcUN4cQjwCD/2hTu5Zk7jJ118mTZzML0XcmBCaRLObWF5TKBFEbU88TYTBvTY8q1CN0QEk1rGjD4sOvMYwT5Cd3SWPzsf0hJh9+jtEFHMlFua35t97AE0vZQpRAhizvi+zrTvFuYXFkz7yHIqxGfLrWg8EEy0npA/zHL58MDYUa6hcQwTVDVNi4mZr5k+axul7VCKJjQqaMe0ISv/JPnM4oqGlfaTy4axrZjXRgGWOKwPJPuY7ULEIMOxnUU/bHHUH+0GECdRQYy5ZueIv93Owr0I+qQBwknYoM+WTuq1NJHvdVtOQ9t3q6Hkc1iOHj2saajZsjfr6xty/PhJ6Sn1yuLCko1NhsxTnmhwSWsnYlp2AmmOsDzp1s4kxUb+btbm3z6shwEfB+jbRuJjeVrZkZpb4+SaWXZsJd/O2T2fIJAbTGatPrQ9lLX9ZpUADb54zJZIaSVLm8QietDaIR5zBFXSuh7sMc2rfQTU+G1pE8pX25bGqOXctOENLW3HWfXbfXBUUuP90urJS9MWKw3Y2rt3xLQYqE/aHLPJ9hRt6RRIMISU9JFf0w4nztpA2OHuHdHum/Z/a8uERo2FValempbUetUmBmJCuUp3WsrKsdFOt7SN2uRBfQUZ+/QL0n90UlpKkkmLhXOb/mF963Yu8RNycxfgRfPfvW9Ehl44LqWRQe2beU1rKkxkpCSaictYQoY1YW3dacjowpqNj9VKDOE4HA7HNjghdTwSIKRi5lqF2OjLOr4MecHZlpdxIsgiFCOIIyCjFQF7Iei1X8jqEHYhvpg6IpSyKDqTnPQN9MuAkhQ0QphR7t+/38brMXYwEmVL/30jxGvLligoH0gCkysRbnvyngcJugMxfzshaIYLej18CLAiTryaUGXbUPaYlyIQhjN7CNKreacNQM71KLmwO6CcIVtoSCGXTGwFiUJbisYTkkl+Oce4UTR+RSWtpURDx8cC/EBcIZMQsdmZGTn78cdy7epVJWxLFtaVy1eUoF2VNQ0DM1bIHeVNfrAQsDFmmhZMfSPZjOCYOqO9MUb0lVdekZdeesnaHmmI6YukOZrJWh0lYVHlse7sY44e8yFocWFR5mZnZXp6Rm5M3TASef3adSsP0hiIdSB+tAszZVUhuKe3JM8//5zNmvnhhx9oXvK2hBLJRoscx9gSHmGBzrbXmb/Yhto1awkNu23oRdJtEw5pnyBdew3SCgEmXtIb+wBpsXwkeQFctw8OHQnvzO8nBuSH9Sm1TPS/ZAo5m2m1eGRfmGRsqxYN26vxnkBZU556Nw7tn/QWQpvBaRoIl5jSuh9NZCl7JvbJDfVJ36EJSdtkPvrHPQkeJD3EE12wdAhxkvd0Xvuw9gfTRrbTQTzh14ZevrnN3wVYn6yWpTa7bGa7LX1GdGn7wkyaSaQKyoBL9ZTkdZvSPmFm00fGpWukT5+Xer+mxdyDIN57j7dbfksZaY3p+29iQNJa/l36fOTjABpuJge0mc01YWlmZS5rrc6vysbUnDQYY7+tXO6rnBwOxycWTkgdew6EZEwjEcTRyIT3D2+/8AaMQpxpl/QaQiFEKZiUBsIGduvFtV1o5Ni0kyr4muZreEiGmVhDSQcO8oFJIxor9tGKQRqj8BrDuFeEfATSgKATBQHCIEzMBu38HgMhP5BqjcuSxD/iDXF3ClhBO6HHW6f2BMRMXTCeDxfHse4WIF3Ly0s2hpQv+YQOmYJEQUghnJBQPo6gzYdwMpaZNKGRobxY2gVSSvvELxP6XL5yxZaLQYM4o2Rvembazq+trtn4WyLCVBctHPuERZ/AFHpFSSXjVxmriqaWMKkb2trRo0eNjEJMaX+0Ee6B/EF8iSOSUggnbcs0oLRL3afvJdVp9xE+aZtRhyky93OMg0zb7Ndaz9VKXUnvhvZX0s6yLt1y4uRx09gQL2lkrdXenj6Ll/g5x2y7kZDeDtbMgOaFpHUK8/ZfPXCefGC6HSca2lNYxOE50P4YdJu2bqmmbBNt+CcaVhGhAdnzqaco2eF+yUCEaMsduE1x3SMoz6QVKLHERBZNqGkfQ/RW7pBi2g3PRxzmxJjS9u0blRRrbuoN5p0qsrseDqGFshPGZpvFBu1Dj+2Zj1O027SCe+J9t3tnJaEabL/ekObCqtTml6W6vCbNuB5s4hOlbwaFvBLXrmJecmMDkhnrt2VyYmCdYe45stpP+vKSGR+QlpLjaiYllWY9zLKrpJRcdymRziiBZu3Y+sKabFyftXw5HA7HTkjevA7H3gGhmOUzEFoRxO09rufN2YudF7x5NaEkkDLG5e3uKxbhwISIBJ3CAgI8hBQCyuykhw4dNo2UjRNUcjqgBARtKeaZpunqCKdz/67QKKMWK8LEFwsDjSmmwbszBupu2CKkYaF3Kx89bzGTPHV2bGmJpGEr3XsB4iJdOFvaR8vjvsr3LuCDyNzsnJFNzLPRYK4ogYKssZwJdQvBw2TYyOLKihHJmt63qiSWNsJSKhBSNOj4YXZetKTzSu4gipBLyB3hMEsvfiBWCGo2nlTDYFF/zm9uVmRqakrOnDkj7733npw7d87uo14gx0ycFGff5UMIhBqSzD34vXz5smk80fZCJqlD8sCyKAD/VBnnayoMzs0rAZ2CkDIedN0I8/zcvFy+dNnGqc5oWMwUTF5ZH5VwIaWY5R07dkTzPWCmx+Q1l83L/gOsTRqIGWQOQkoZbMf2OrR2FXYD6A+Jsxam/sOHCSaI2t02cHsEbXLnc8dSYwlK0qzXYlo6+/AnFUaKmkwq1DRT1cxQr6T7izaWEqJKCUQHHqyW9C4LJJDSFJrI3qJkeBYSf/CkZFRJGUf6F56Taam16kqSC1IaHdI06XsEiUbrJ6bngQScjgyF3ZAIxhjbOqCa79gO2L/luUiCY6LvgJu8sNbv1KLU5vR5oc+EOAs94TKGFpNl6qDcrGn5KwGfnJAskzehlSR5j+BjYUTInvbPTE6J8aDUe/Ky3NyUlUpZKo2amTPzbNOHj+T13c6su3Ul2etXdyakj6ZvOxyOJx0P9Lx2OO4HkAC0J7ykeGcyUQngRR7eueFNCjE1MqpCO9qntqZCsRtC4PYXX+dxDNfO4dAKxP0Of1zfHs79ItyvgozGGbQCgSiHZScQwPdYG5TAhG/KOMmOCVYhaR3HkOQkz6TVBJ8Hr4O7AQEPQkU72AsYIVXCCCGkjTERz7oSPDTjkEDqxMZ6dswqjIY0asMx1e5Xh0k5JrsQVDSZB5Q44gcNpN2n5UUxRXNdSrOuYRIGS6oQz/raupFPxkgybhUTXYguYQLSCmgT3EcdxDqDrHIP/okXgs2HDus/9B38ajvimHGrxIfmnfSTH8ZzY7J78dJFuXL1iuWZMbLhY8wRDb/XiClWC7iUMhPixHKAdVXnbKKnhgwNjrTHelMmmBLHtOyE0M+S9kObio1N0b6i/0g//YDlWKzt7TmImfLt0JBqtAjebWg6SEs7Pe1sPIr0PR5YnWBOqvWGdr800Cf5ohKh5GLQ4m25+wYRJGQKjShlbNo3JbzZFPpQPdZrmOpiuhqIFzeF+NDCpfMFJbAlWyOUCX/itWT3/tFxM+a/5JHxnRktBtY8Jb327GbX/NFKkpvabaGjnVgmO0D6t59SogYhra+Xpcm43EQTy/thUyNfzosslFKy1qvPAiWkrG/c2qxKa6Niy6sYNLpkb+9Ra0mmkpLRbEmGMwXpSWWkqASVPmuTGTX02aXlxGuUDxnVtQ2pziwGQhqLJcG2onA4HM8onJA69hwI5IwdNQFbX7CMlQS8l3kdhRdSID6QMmb93K6FBHst+N0SPoe7HaWGZ+RCdxFq4iQ4nIuaQV7qpCUI73uLGINFpS4KVnaeY9KbCmQIP6bd5doegY8SuUjK9yAi2iIaUQQmyNrUjSn7WAIhJU7KnFl00UJitmtmw/qjfiB6cf1WyJ6etHYKGYOsFZTQcgyxDbO1Bg2f+aXstK6JA8JZ6C5YGjAdxi/muBBSyC3X6SuQOwgrJrCMF+WY9JFuiCVjmRnb3ElIiY/ZgKkvq7tEu8g18kVeyRvLtRA2x1wnT5QB4RJmqdRj5UW4EFqMGHJKErAWGB0d0TJE81u3exjrbQRd8xZNd+3j023aL6e5QksL/5Kq5p/dEz7QUOZmLRA97TGsvOLHF2qd7U5RJ+d4cu10+ZMEI2QQC/2xDEt3X69kbdw5F4Ofh4ZWOaTPoGG2tA4Yj4g2NAookFFIISQHkhaeQmE93TQfYLT9cU+okYdLWExKGxakxq9xp/jQgtM00L5JS7x+c3O5JZQ7ggnjavMr0tjQfqzPDSYv0izbB0CWfEFTzOROhJ9e2RS5MCsb3/1Qlr75I5n/5tuy+M13ZOnr78jqn70tS/fpFnFfD9udrkcX/S1onLPfeltmvvMjWT99Rbrm16RUS0l3SutC04kZdcqej2EyqqpWXLW8KY3F1fBxowP3V0oOh+OTDH3f8ER1OPYOCL6YMc5Oz9jLHAGamVsx30VIR/C0pSj0JYZwPq6C+cjYmL3dY+PcetHfP2jiQch8cMRucr/hTN24ITeuXTeCgRkWIgVmX5ARxhBiDgoQ5vsH+mVYyUD/4GDI+wPEeT95hTSwvMe1y5elvBHIjo1x1GhNc5sQKBwzso5PjBsJSvOxQIWNe4aGBfFj7CGE0GbH1LIIxDwJh7wSf1bJlpKyISVo/f19Rvp2E2gw/+iP/sTqA4L2+7//e0oA8/LiSy/Kl7/8ZenTODfLG3L12jUrH7SgGZWWIZcQL8ZysiQPH03Q5G+srZsZLCa0EFH8sFbt+sa6NvWWHDgwGSbAUpJoa5Wq0Eatoh2dmp6SFS3/A5MHjdhFzSjkEVKH6StkFAJJHaARxUXiafWiZTmt4czOzlh6xpQsjihptLajRRvM4VM2HhQz3XfeedvGjUIcia+3p9dIJmuNRjP57lzB/MzOTUsmm5Kx8REZHRnVlKXkwsXL8tYPfix//Idfk2PHTtqES9enrshmJcyui3v99dflS1/6kpF00tgJJkC6ru0tjK2tmn/SSpnwDAga2UCkKRMbxz06bObVewrSoGmhXMykeXra0kZfwiFIW0ulb6njuZXX+j753Ckj408dKGQ2mpfF3/+ezP3bb8rqhevSXN80Aop2zrKqrAgSBvHLDfdLz8+8In0//xnp+dypUBYJtvbuEyQDjqLl2dB+Vk+npLa6LuX3LsnKP/4fZfPKjNS0CbPUSqahxFj9rudE8g2xZUY2ilnZ9zd/WQ78z39Rqj08W7W/wuT0L8mh7j5w6pIwNP6ZJVn5N1+X+e+8J0vnrlreaS/mIdMluWZKsnoIsc5/6Xnp+aXPydCXX7XxrRZ7R1l1oh3+9KKs/us/kxtvfSDzV64bCc3WtJ/rtqfeJQ3GaKpjvDbkPKv9qqvYLWVlgOVWQ9IacaGuZaKuogTwfj4bUlwRpP924BKkv5nLykaqJpuNquSb2k+VH/dWKIYuWWvVZT3dlFx/j7SqDWmgxdX6Y9bk0qeOyuG/99el++C4PWdimODBa8jhcHxSsLvSnsOxAxDmWkpoeAkhB0Fu+PLOMQI/sFlH9RxCMsJ2BC+qh31Z3S+J3AlRMH1YIHpDTHgRt2fY5awGjdBtY/+SaB4kzvvxj180Qiab6m02HkoP7DAJBqEc0hMFh70GwiNlQFpM+2CJ2x2gYYTgVasVm9CoVq8qeVRJSvPabNblg/fflWtXLml+q9KolpWINqWYR0+jwqGmCeJhs+1mc6atQSDlAwoaRUxdDxw4YIRx/8SEHDl8RI4dPSqD/f2SU5LdUqFRI9G+gClbXcNTQa6nJP29JVlZXpSFuVndLilZr+tDGc2PCtfaNxr1mmysryuRK2t8DRO4cyoQkoeFhXkl+ddlQ8kmS+Qw2RJbZXNafmkl3A2bVfeD996V77/xhvzonR/auoAH9u2TV5VIfvq1V+WFF56Tyf37g4CL0M8HCY2j1Ncjg8PDmp6m1DZr0lDyTj/uLZVkYmxY48EUeEPWNpYly5IYWj44tLx8aIDQ1rGI2A7alTYuarVBW2OfxqYu9gN7K+kxpNQ+kNhNjwIaJwReQT+IfcnM1Nna/wSW5keXsscFy5/mldlsN5UNMqEOmlJ7NiXXH6oMuJki1/bO5yl6W0brABPdqp7nyWNmugrIal1JGYTM2o/+79I2zuKXze60ZDUErsUEPXTaFO0w9F9d2zlmwZZzbR/s8Q6DJPOsYkIfHG0HbappdBW26dzvQEwf70fWIM0sl6Wk3QZNI5rihsZXzqds2ZeKRlTrzkol3yUVfTa1qjXJlWtSLNclV+E53ZQypcL7td68Z9elxDe6na5Hx7qoXdW6pDcqUlyvS/9mSkqVkM+qdtOy7rS0jnKYWmu60lo3vMlzEPX1TakvrkqqUrf6vLkctpeKw+F4FhHevg7HHsI0J0pqggiDmZO+oRRBqAmvZF7iXIuan08sNJtxjVOb3RZo3jmDhvi+NI+7ANOgJQJBELTYC8eAeqH+HhkQ8JSIsCUVWyl5eKB1ZJIeAkVDHWeRRSuHZuzihfMyMzOlRK6qJKSu5E+FK8Zy6Q+yxWREmORCTiFdpkHTLZpRTG4x52VdU7SkQ4ODNjNzQQmraQPwq2VJrnDZbFp6eorS19tj5Hh1bVWWFhdkeWnJCCZrXObzWSPAvUpaWY4or0SAtDL+c3VtRRaXFmRpadHSwfI1aG5pQ0zUhEb6woWLcvbMWbl48aLMTE8pqd20SYn27ZuQA/v32YRdkGnOMat1NCXOFfI2eRfaU1oFH5AgprQU0jM0MCDMutts1aS8GUyO47hfyoB+zWRQfMjYEVa34ReOwwaEOtcTnFN/UVO3p+hsZElk4Xmk+7phPxzfjPjs+qSDXPKxAC0lYxu7lCTtKpJiZGMkTx1tCI0p8dJvrM3osxGz1Rg7TyUjq1RTVokq991STbtVR5qeJH47siQFQmrpU0da7dNdSFI7LfaR5Q6wy3z4WdmQVLkquUZoWfaxJonT+or+2bNRnY1d1X7fpfelKQN1NY0QjSmTIHF9L5xlSeNNa+GjFeYDAOcrSpg3NW4+GvBxIVo/Wfq5V9PZqtTCWqRKVJMiCwFaoA6H41nHLr9ZHI5bEUjNDm8eeyPxQk5+vNwT53h2sRdtgDYYxzfm8nnT3kGa7GOJOsZKzi8s2DlMdSFCfBixMZgqVEG2WPIEAs9yF10qmEO4CIexpmh1jaQihCVxsmOCmBI6tGyEw0y7jK9Cy4TGFdLHlnDm5uZtkqXZmVlLD+uf7j+wX06eOGnLv/Qp2SMPLA/DTMGY+5JW0tXf2ydFJcZ1PZ66fl2+//3vyze+/nX59re/bWbK3Iu5MTP2Mpsw5QvxxT9kEiI5qESTLaa2kGw0sZiXW1Y0j2jwIeWlnjBmljAoT0x9GV9LeVFOsaxNs570cYfj6QbtWN225qw9OtnrgJ7a8bzitk817Sf0xe0fcRDQ8kpQMcct1FrSrXyuYErhLiO6dfUQtJNN2VAHIYUcsgzLk+Aq2ZSs5ZWD5vWZqc+G5samTcakD0bNWSjM3X7WOxyOpxNOSB17jkBIt4TT+LK2V3wUWPWlZONITSPiL6hnFdQ8pC+2g91sC0FDum5aDQgTy54wIRFkivYJuYskymJNosYUrlgoyuDgsLXRoDFsKQHLWFo5DrPyNvWWjvYb27sSUfJDgNbezXFdBUslt2hXJw8cMPIJOazVqrK8tCyXLl2SaxDUudkwTpVxuNdvmOkxacY8+NDhw6aRXVpYlO9+57vyta9+Vb733e/K+tqqjI2NyksvvSgnT560sb+R+JIGJmAaHkY7OmjkkzSH1Cag7KkDddwDQea+qClmfCd+NjbKNgaX9JBH0o8/ytry6nA8xbhjC9aLbS3/NnAWwhifIe3tNsS7+WBLn4GU0m9i16nrffOFlsx1t2Qx35LVbEuJp/pN6TPH3qmQ05TkmykpKnHtaXRJFsKqz6c9cZpONLL36nKalqFaWno2GpJer7B2js0iTPY6i8fhcDickDr2HJgZooVqC6g7vIWQ4aPg/qwS0mc02zdDyyDOdLrb7QCBr7yxYQUN+eTYJhxSokb7RMPH5C0xbvvpFhLKovh5JWLcG6RNTScaVPOvj1EVCiMZDQKlemAbRS8LM9zXeY0wIIpoMIcGh2xiK5aFASagMh5MfxBl055oGMVit5nYsj4ns/RCWj/++LScP3fWTHOrlU3TYI6Pj8kBJbnMihsnTaJ/maZTw4DIknebCZh+Z7Fa0oy0Ux7MeEx6magpTkSFhpnw0J4yyQokFL/4ixpSytfy6XA8xaAFh1ZM7wg9ZGuPfmw7d8WdvFkcmOJrH7MPRuGMOcxdGbu7qY+YWgbzXT2rz0fMeZWOmh/G2zKOlWVpcIw/ZVznnjgN39xO13ZySkqzmgnGn7LkCxMuodW9CerP4XA4nJA69hx8/TXTxURARcDuRJsAdGjGnk0kYs4zLciHjxJ70Q4gSay3CeIHEsxXIW9MSmKmqkrUIFexTUYCpjtSRViELOs+fjjHrMBcZ9Zd9jln46fQomochLtlxJu0fD1nQif5U0c6cJC5fRP7bGIgtKZjRigPyMGDB9vLwhyxdUIPSbHULfNzs/Ln3/qG/MHv/558U7cQ0SNHjsjnP/+6PHfqlIyOjNh4V/oeeUGLaUvUqIMEEx/pIW4mFwuTbJGeQDzxD2ElrwjK9GPCgYBCSMk3psiEAyDM3Ed4lLXD8TSDXhvIIb0idNfQge+CpD8Hl5xK3O2A32q9ZjOvd3pmjGy20pBCvSXFZlqKLXWptBS6MkpEVXzTRDHGVHun1LTf1lr63OF2TedeuXsqgwQQ6tUUM++2ZEPdcn1Tys3wHLXJzBSxjB0Ox7MNJ6SORwAVypM3s4nk+hdf2AGYSEIAkuuOZxbUfiSDuwnCgyBCmoxMJmDdT0xQWQLGZnhmGR5tl5AsyBXIJmMpOUIIZMwo4y9Xl1dks7wpzHg7NT0t169ek1mWC1ECyNhT06Dekhdt8/pHOyd80hJJnGlAFcSNFnSgf8Cu2bIvzJqrpPDGjSn5sz/7mvzxH/2xvPHGG7KxviGTk5Pyuc981kxzR4aGLa1EaZrdbM60wDjTiHZ3m7aX+Fl2pby5GdYlXVsz7eq1K1ds4icEY9IdySamhJg1A9JEOGGSJ9bODWsGk3625IW0sr057w7Hk4/4brrVJR7ugp286d32f3sg7SO7FHy1oQf0npz243wqIzmeR/WmfQTCX1XJZ033IH2MTc/oMyKnRNX63BPieP4VREm0pquUzkmxoXnRBLcnoFJv5tfhcDzzcELq2HPYOzi+iHlP2Vso4JaXsF1/tnBT/h2KvWsBtDdMXU17qQ6ShiaQ85iuYjbOx5MtrR/r5gbShUOLiCntwuKSra3LJEiQQtYhvXZdCenMbFs7iGBo4zDtCAShlhZPfBGkg0YQyBzaSTpBmKn2ihLE06dPy7lz5+Sjjz6UH7/7Y/nwgw/l+rVrUt0MJseMPz186JBpRHt6SqbBZKIhSGNvT4/mscc0opzHQViJf219zZZnIe0z0zOa/utyXfNQVpIdyilMUgQgqFuzQ4exokEzzPjRYLIbEcvW4XhqYR019NPOvvog4G5zcQd07PM8ANs/XnEW0pZvdUlBHWNDmanW1sTN6DNMn2MN7XbMRgzogcx+y/uVUJ4EBzDdNdKp6c2ryGnrxDocDsc2OCF1PAKYCK7b5FW5w/vIrof36rOJ2wg9DysMOW4GAp9NTKQEi4mNIKFG0pR4cQ0ixTVIKGWPH9b0zCuh6y6VTOu5srYuN6am5eqNGzI3vyBLy6syPT0rU0rq5hYXpayEFS0q7Rk6GsTD0AMw3zUzXsZVazws+VJRYslV0kF148obZXn77bfl61//uvzhH/6h/PZv/7b8u3/3W/K1r33NNJvMuvv6F16X1159VcZGRy3NaHnRpGJ6zLIzo2NjMqwkFXIayG7SlnSftXAh1CwJA8E9e+6skd9ZJaiNBuGo4KhlEssl3Bvu5xhH2aFVZmytkfnEH84JqeOTgPs1Ub0d+JZj33MIMOmG7HS+92wdaiVtneCo22bZDaa7zFJr4zILSu2KeWnlMkpIw0egFmuy6jMgpYS1HeFjdq1Gy0x0MdtdhS3zsU0d419vKgqHw/HMI6XCgz8THHuKGRXep6/fkEq1YscmuOpLMzY9tEi89BHIx8fGpX9wQApKAHZDEHjcmFLScuPa9WDCmJAUg+bNBHv9NZScIPhP7NsnA5p31oCMwr151f29AGlaV3J16fx5m0U1ECdFsomkwtKpJG5iYtxma01rPaFJvGdoPmyGWC0LiBNELE6Q046TvKpD47bv0KRN8oPmcrdAWX7wwQfy4Ycfalnn5P3331MydkE+97nPyfr6mszMTEshn5XDhw/JwYOTmsZ6MuOlCoTFXhkbmzCCx4yyaEGvXr0i07OzRgZHR0aN3FGGaAtPnjhma3vmc3nLneWQMtT8mghKoFp+pthAdoS2qiBqprsqxBEOWstvfOMbpsHkmKVbGP/JREWTk/tlIFmepVQqWjyYGhtBZAkWTGkjQdSfLTdjCQlmwsQN0b5+/boszM3bbMMQS7Y1FWgnDx8xQssarPMzU7Y+KsT56LGj0tPbJ+tKlr/zvTc1/3NWlq+++poR2wsXLsjLL7/cntDoy1/+smlwO4F2+fqVq7KyvGz71D9p5A/Yvp5DMOdeCHXfQL8tq7NnsLg1Zi17+sQNLRf6bZisKqkvdaEfaEGq48MCMxWfPHXSxtk+dSBPbDQvi7//PZn7t9+U1QvXpbmuzwEtB9Psa1a7lDWwziZrXKbG+uXAr/6UDHzlFSm8dMTu3zVAYChrrffa2oasv39Rrv2T/0HqF6dNw1ZlZlaKnmRTF+qf82gJx37jV2Xif/OrkuVxRTu/mdM9GOiX5FsjwbxUZldk5j/8uSz9+Y9l48PL7fKL7Zd0ETVtqfcLL8jgL35O+r/yqqQHeizdyidtsqGMulY6lClhMIsu99XOT8ml3/zXUjl91bSgVTKnF2yyIr2ZpaYa+bSUsyIjL52Q0VdPSX2oJK1CRlr0aZ6nekunPcaTAp71mBVLb7f0vnxMMoM9tp6taUr1T5P9BKba4XA8auzGo9vhuDuQbu702rH3cxD+TAB8hvEs55+ck/29KgMIBSaxEDMc5IkthAwCEq5vbW0hem23CJ1xtmg+HkD8aM0QuLqSV8gzH1SMsMQ2nDR5y1PyHwEWDS3+zGla0ipsot1cWlyydUghdmgrw1Ir4aMAwBx3DK3n0FAwzVXSSZwQVQgwY057entsbGeGCZY0/FCOpIV4k/5nh4mGs7tg9+Mw8SVvLGFTU2JmWhe8kx/b2wL347+/v6+tHQX4ZT+WocPx1KHd1JMOjNO2HE8nFrK3hbX6pO3HLgD3il3RjnVrx3aAv5StJxzX/Q0IzwiAWS7rjVaKWUkfGZOBL7wooz//ORn95S/KyF/+ooz+lZ+Q4V/7SRn6Nd3+lS89UW5E0zX2l39CRr/8acmN9Bu5Tool5D3ZdTgczzackDr2HLxTzSXHO8EEXvuLb2nHs4vQBnaTlBqpUoeAx3hHiBxEqq7ECwQyqQ9EJYtxPKQRz0K3ZPM5JV79QXs/MCBjE+Ny+NhROX7suGlI0VAyw26XClrhnoIR1HAuY9pPWj8aODQZ5M8EzcSRrqWlJTlz5ox87c++ZprRDz/60OJE28m6oxDQuBwMWmbiGB4ZNoKKNrNULOq5oCkNFgeB6GY0X2G91DA2Fk0nJBfyTVohjsTPecIFkFTGnhJ/f1+/9Pb12cy83Ro/5cR9OMalci2Gsb2MHY6nETx1dnzy3PbCreBdF8hkcHab7loQ7b4SPvgAPlRZf9zWb9B4FlMZyfOYKldlc3XdLDcgdZLTvq7+oXdossNTRsPnmbKHjmfLfTuegRnNDR/5SCfPQqCXHA6HA/BscDj2FEwEYyZ3+lIKQrEKvrynMCVUF19KNq4OrYz66Xzzh+NHh72KD6Gj/YJWmFCS5LNtVtkBBJog1DxrCHnezbzHsChzzEGZHRZyVa2qcKcCX3d3j25ZjzMr2XTOmh+a1HQ6JbVKWaqbZSWvFSWVdb0vLYMDfXLo8KRMTu6T8YlROXxwUk6dOCYnjx+T3lKPpFMqMKrQxfIv1p40+nqzYeO9oH3rSjKvT9+Qd977sfyH3/0d+cM//gN550c/1DiqFt7zz52UEyePyfPPn5IXX3pejh8/KvsPTCgJHVQSOipDA4NGEgtKhhFkEUwxxbWii/aDdpgIv/QrddYG9TJrF/b19MqEkuyDk5NmLn7k8BGbqXdcSW4un5VKZVM21UFWQ4B6o/6xzwRHhTyTJvVb+PTb2F6j+8TCylVBvVIetk3cJwwhe/Eppfm2jH+C6xa0s2e5N8cvZh1t563gZLhg2lDzaEfmIlm0rmlGD5A7fR/qHuaszaz66ClIoycnm4V0e61OlkdZzek7U59DpUaXFJV+llfWZGp6SuqNWoxya6vo2N11WNiWr/amDXvObT8JuEkdm1AOHJB/LjocDkeAE1LHnoOvomhrgI0nwQwRycakm/BWsneZCrnMampjF3d6sX1CcNN7WPMZjrfK4lnHXpWCmZGqgIdmAsJVLJZMK5hJZ4xYdRdKSkZZ9gU/KlJCSPUexpPWahWpMQa6pf71XKGQC2ay6vr7e2V4aECJ3KiSxRElrPnQtCGBtHWFaS01PHQilVpVbqhA+f6HH8qbb31f3nvvXbl65bKUy+sW1sT4mI3XHR4alAMH9ilJPC4nThxX4nhARkaGTSNqS7jkC20tZyAKJD0Iz9awrFNFhxioP/wmPzSe/f0DMjI8Yua+o6Ojsm9iQvr6ei3cuhJRxprSH23mX73HoMFBSJl1uLu7aGWIo8yiqa4Jp59QUHZhm4CsUsRsYr4/MdnX1hTbkKGd6082Oio3/u6a9Xada/u3LeVmO4rYanTPgtIj7StGXrmg78eu3m5pduekrq9Ku03LnLKv6DEfsui5OWWvtZV1WZ1Z0P4ZLBp2AkHuhbsj7upBYXnf5rVdRg6H41mGE1LHniOM2WOpiaD93Ho18y7St1F4+7ZNCqNwG19Uj1rb0hlfW8BUdO4/CCyvMVOORwrqFJKFSevmZllySqaGlPBRpazLyQQ6NpGP7sdJebgnLH2iJFUBQcOkVy/YMXUZx6NC2szpfdqS7X7Cxr+RtHSXxQNYv/TD99+Xb33zm/Ld73zHzG1PnTghn3rpZTlx7Lj0K9kMa4RqOpXc7pvYJ8ePHZPDBw/J+PCo+Y+ms4RtsKal/5QoWjvVrST9DfHP1kTVPDNjcHjsQ5DTmi7MirNJOtWPHpM/8k7eTKtqZad+NA/sW5jqiJvyYRwtxJV+Gwmpw+HYGWg96SLJvEVGUG1W676S9tGMpKp1mwDJ+rKSTiY14kPWZldTGlh0rG5K1/KGpJkpKfw9WiTd+9Zers+Gnbp+ksZEMWzAX9vrTvc4HI5nDk5IHXuOINRnTJDlxRQF1kSutXNhv2lkIC7CH3w/HpBW09Qm+/E4ngPxHFvHkw9IHBPxYKbLbL7DwyyJEsaHHjhwQParY3ZfTHoD2cpY24VoQbhom1b/tAfd8mGFlkx7xiQd0tcmbJxH8NSw7P7Nin1s4XqxVJRDhw7JZz/zWfmpn/xJOXb0mKZlOEwqpGEw/hQN6MjgkLpBGWQspzq0sQNKopndlfGvNk6TvmTdyXqROQTc0GY5TzoSEs0JO087DkvO2IzHei7mFZBH0oyLM2PnkrVGuQYxJyjSQPlB8Cmb2K8jUXU4HLfCTHTZ0U5k2lIcwwjGByXb0y1dSjRzKX1nan9KaX/LVBvmF7NdiGpzYVUqV+ektaF9k9Eves6CS9xe43bx0PvDE2Ab9ORN18iX/h7n+93hcDx5cELq2HOwNmJWBfY2THDF6QsJyTZ5xWGyi2DLDJ+Y7j6O9xUC98b6uqysrJjbWN+QzXLZXGVz02YgZQwswnokJ8BJ6ZMPiB6kr1avGfEz01QlYsXuohHCkZERm222PdsugpOSykjCaJvUO2SUtsnDk3rnumkPlYiZhkBdaNHsB4IK8WuyoL0eMyHR/v0H5FOfelk+/7nPy+TkpAwyMRFjQjV9pWRCIbS2EFMmD7K06xaHdtcIn6bNECOzCEPPajv6Gi5JgxFVPb+VJvKjZzT95i+5hqvrNYg4sImbNH+UQ1n7ga1VqmmAyK5rH+E8hJ/7IKTsR4J6E5I0OhzPKjC0xZICVprSBwaEksnPcvuGTUua1mtZfQZlsFrQ6+mGeqBPan/Kaq9urei76PqcNBfXRDarRm4fR7e6U5xca/AMaTXDmqN6bE+DjpvYvVMYDofj2YITUseeg/GjmCvaun6KKCMDezEnQJiFLATBv568xvYexBsB4WR9xssXL8qVS5dsTcKZ6RmZn5uX5aVlWV9bM3JaZUkOJRiYOTqeDkDqWLcT8gTQ8NH+IE7smymsbml3kExaBc2UtmoETe/DcY17IKBMWlSrVI3UBc2jXkuIaQPiqkBzaua1BKT+uJdZbJm1F83s4NCgzd47NDhkxHhwaEj69DjfU5R0PhfIIojtFCJKwjjknDq7Qpq4QDz40XQkibePKCwtQz5In83+q9dCEPbf0g7hjtpNNKiY43LMDL70X5aiYQ1RiCr34VZWlm0LoaZ8IKSQ6J21pJZSh+OZhD0X6JL0Uz3gmaC90czmc/tHJTPYZ/3TTHjRktJX1Rlp1WdHPqX9tlyV2sySNK8tSHV1Q8qpjmeVxbK3iPHgwpMjgFTEY0hopVWXjUZNt/rsxINd1H/JDZor2yaHDofjGYcTUseeA9KWZSFsFYLRlrZhb6LwggqCtL7UlOQh1KIlDYLy3iNqcoiv0URwr0lVSQbCd9SWsizH4uKizM7MyPVr12y9yLm5OSmXN0yQvyNC1hyPCbEdBZPdou0j5DEpDwRsfWNd1tbW2ma31Cdkqr1up4L2sLGxYR9LYnhsTXhUv/GckTA9x8RdtGPaE5Vv5rwIlrQF9YrAidVAQUnyEBMLKQmFmLKOKORYEyGtmt6rQiiCm7VRjaOFRpMt0dk2CIHAUhuTbCfDFUubElSWoSEBeCE8I6WkVf1Fsko62VYqlbbmM2g887pN2fmNctnIPQ7QP0CPkmz6DP77+vpuIaSWDofDYT2Tz0HtPptJS3qwZC5VKtjHrIY+Q1ral1rZsG5nWp8HzI7N86C+XpapH3wg6xdv2ERHqUfZt4iqrs+MxTVZ/vb7cuW//xP5+P/+72TqX/+pLP2H78j6V9+W8l+8L/U3zkjX+1clt7IpmXJNZLNm66k21T3S9DocjqcCTkgdew4EVCZFgRDE2XYN+pZFPDaRmn192UIGEPohANHE8FEBckLczF4IkeAYTZARUyUjG0pcllX4nl9YkIWFRTsHgb47TOzo2DoeFTrbD0Svu7tg7RGyxEcS2tz6+rp9cOCckSi9hy3XuJ37aA/42zLZDWSQsDDrpS1UNivWdhh3uabHK6srbVJnZBStJW2A8HWbTkFKs9JT6gnmusyam9Y0qS/isHGqmNOGuywtlh87lRBRjnXPWpam1xA8ctq2CLcVbcermv7V1TVLE1r+VSXhONJOvrg/mihDPPnYQpDkn2VyCG5Tz3MvpsMQeiZfgswD8kB/oUwwNd5OSI1UOxzPMrQT8UHKugKOTgVYo7OUl8xQr7oeqUlT6s26EbgGhg76y2Dry7300WpNZt8/Kxtnr0p2cQNzjBDOIwBJblb0HT2zLItvfijTf/iGTP/2N2X599+QlT96S1a++kNZ/toPZfXr78jaN38sa9/9QNbeOSvr569Ltbypz5ck0zHvDofDoXBC6thzoGnKKBHF7A8taQQvWV6u9kMYVgEdMRtSyEQpVd3eVfu4S4hEGEEcs2FemqQLk06u4SADYYsGjaU/CmaaiAB+LwgyiAvljwu0PTR9pqlPyGc+l1PiVTZtN8doLWmHsZ1S32j+uMaHCftIoufN6TXzo8LgzPS0zGsYq2ur9sFiampKrl6/JtPTU0ZkAxfTfwlZjJpVS0shZ+PDWFamomTRZtJU31w3EqttEZNg6yPaj+yc7ps8xzl8hwgseGuz5tCy0GZbMje/IGfPnpNzFy7ItevXZWp6Vs6eOSfnz13QtM5oWBDmtMq1gcBCLJn8iTG3aJVJJ3m38dRKvCHRRMkHGsqPtNIfILb4pcx27BdJOh2OZxG0fubsTrOj/1LGTrV/01Wy+jwY7pP85IjUMi2pNJT0NfWdhAGs9nnGvdcadZsUic6/fmVGqh9dFTkzJalKGIaw1+CZU9X01tY2pHptThbPXZHNS1PSdW1RWuemZfPH52Xx2+/K9Nfekit/8B05/z9+VT74p/9azvzL35brf/I9qU0tir5gNZQkEw6Hw5HACalj76FCKKa6CKwm6PMe6ngXJboek1URqBGG0eIg6KJd2mtANBGkIRzra+s2LpDXpWl0SJAK6bbVv2BqmZXufLeNN7wfrY/e3s6r49EgfOgIdcQWTR9kCrKGZpBZdSFa00oo0fRBxtDi45e2V61Vrc1yTLtEo0g7MU2lnmOLNn9+fl5mZ2dlXt2C7i8uLcrS8rLM6DFaSdOka5yEE2fjNVlU21YTAU3DSWt7yvLRRrc2NlmvEz4tBv92graYwE7ZTrLdAdyHqW4+XzALBfJImqY0v5gqr66uyoIS6Nm5WetvRAGBxh/5pawK3YWQTz3mgw0z9PYP9FufgciTALSo0WHKe9tJjRyOZxzW57Wf1ZMuTY9u6T4fpfITQ1J67rB09ZWkpf0Wk10Uo2hJG2nd12cIN2d1062ufPGGzLz5rtQuz0hrrRyeS3sJDT7TaMnq1Jxc/+isrM8u2HFJ34ctnpflTXOpzZqkcesVycyvSUFFzeJQv6RLBfuoFp5Z/nxwOBxbcELq2HMgl6ItidopRGwTs/X8ltDKFhc0pBtlzAo3bTznXsGE/cS1CakK6RAUUsJYHb2ITyMP7KON4ks15NpmDt7h/R/DdDxZoA1iZjo4OGD1COlidlva4MzMjJntQkIhU/iN2nFmkuWYNsKEPkbcFNyHf4gt90JILZzED+TNCGxFCSw/FSSJ1yb3StqHtX7O6znGsKZtvU9MXZO2p3/mx44DiU2OOqBH7X6UgEM9hzYVcmvaVj3GdJdZckkTEx1Vq5UwhlZJKBpR8kt+cPVG3Wb8ZZwrs15jrhsIadOIKv00aJYp16z17Ti2lGPg/cDhuBkpOKV27BrPBLoH3Tzpr/nRQSmdOCjpvh7p4jmkzx7OQ0irXfqeUs9MbpTTMPLNlGzemJXZdz6SpXfPSXl6wWa15VmzV0jpM6NrZkXWP74iC++fk+bcsuSUkBYYj6/PhRpWGRo/2dEnjmRb+mxQBxntO7JfMqVuW+ImBBY2DofDAZyQOh4JEIYRUhGMI4JwHt5KyfvY9hDyWWKlqkIz+w9L8O7lXsgGwjYmiXi3dPGnW34gmOuGcYM2Hpa88MX6NsG3023xx1AcjwK3q3Pa4Pj4uGkhIV0jI8NGUpmwCk0h7Q0zVfzxwQFtOObmHFPvmKjy4YJ9I3jaZpZXlk3TiMnu1FTQPBJ/uAdCyEyZaVueAc2sNMNyK9ZuupSEavxYEKRQhdS1jakTlnrQTYoJS8wlLcjIbLj1lhzSVjtcSGMgv4wHJe2Q31J3UQb6+1XY7bKmSbh5TQPHLPVC/tCGEgHjQskH5JTzOMoom8sa6SbPXI8knrKDkLLfidvVh8PxrIH+RnewIaF0C3UtGKm67GCfdB+akEx/j6Tto6f2LX0OoU1dY2SpktKM7qMh5RlSWVqV5TNX5OLX35SZs5eERWD2sqe11rX/v3VWat/7SBrvXpLuuXUpbNSlqxbmXWjq8y6VyyiBToYUkNt8VvIHRqXn5KQNkdAstME7EedwOBxOSB2PAPpSYgypCqtFFXDzuq0rueNrrkquQWhWILSqHG1msazPhvnsytKyrC2v2BIUtl7iA75tdxKIEQzQEpWVmNiSLqv6yq8yi2ozmFPiiW0i3Id9TR+aoMS0ktlLOYefCCMEbBMXEOPfOuPYO3TWRyfQ4g0Pj9oEQpAuJjYq9XRr28zJ9My0rK6vaf3mtH1qG+zK635BNpVgZrX6B/p6VAisGwm7dvWaEtqyaTAGhobl+Zc+Jcefe1H2Tx6SQwcOSn9Pn96TkYmxcVvihfZr7SI0FhuviQwqLSZJom2jV1ARVRteColNGSg/Y6JoRlp8mEGEZTwzZJa+kjICaSRXw6LdoqXgmDGqgHBrtWpYQ1fJc1b7Ybe23aIKu91KHHt7SkpO+5REZi2fs9NTsjw/r2lPy+gwZF3beCotlWpDrly9oWlOy9i+fbK8vCxz83NSqW3KxIQK0FquzLbLsjXMsBvzavlVxO0nAVEDFXs0sLrsxBOeXdIeyFDQ0t2S/scEknFTUkhbZ0F3gDSbX/1nXm7n8T5hadCg2Jquj3acRGLn1VlMtGk8KWgT7fRoOqBjdo9dS67bTbrV/swY0rweM2sC3rhXHznSwtpgoEf2feEVyRwek4VmRZ85Tck2WqYR7dJ3ZVXfOeWMEtpc2t5LXRv6zjo7JZU/fUc2fuvbUj1zXRpL69JKhgJEhHQEF2CpSvYTJIfts/pokZr+26jKysUbcu1778r1P3lTyh9elpw+E/iQ1tRy4F1uM3ZrHiq6X+MZpelmfHzt04eleXxCUqVue99Tbjenw+FwOHgeOhx7DX3Z8uLM5XNSKKrwrw4ix7dc+57LCzl61ZeVvWR1WylvyqqS0eWlJRWWy9KoBbL4MIIHxDQ6+8Ksgvra6mrbFLOtuSKOIOdbmsJEMprsdFhT1cbDJstomNuO5FwiyrSxg0/HIwRabQgTmj/20YyzNunAQL/ML8zJIma7SuogYdKV1WagAqC2EQTIYndB20VTVldXZGZ2xkxfU0pIe/sG5Mix43L02AmZPHhY9u/bb2RusH9A9o1PKOnrVZKo7Qln7QWyG4QyGxNGe7SeABnVk7Q1hFOVfFkiIVxThyTMnvnXdqVhsc9ERNamyaD5QAPDuRAlVxg729fbI4Oaz37Nf6/uDw0NytjYqIyOjpjWlBlzF5WMrmgZsP7h0MCgJiUttXpTNspVmZ6d11SkpF/Po1GmX1IeQ0NDRlzRnmICzYRG4JNEQm+ClakiZq8jm09TnrdazBOE2yTptindXty7miUNXOvTfndj7HY5RM5uTIa9O/THcTzHBEY8TzBqt+aSBK1PAtMwZvT9OPTycek+tk8aPTnJ6I05fS1l9EbGlNbUDxMLEbbN1K3XUwtrUvnhOVn8w+/Lje/+WBY+uiiVG4si69VAKPmYuw23ngG0itAyWkqCW+tKiGeXpXJ+ShZ+cFqu//nbsvDjM1KbXlSSrPFqepr6qKzz0UzzESdTi6F3FXOSe/WYZI6OKwMPH3AdDodjJzghdTxSILhi1geh44XK+oeYwm69HsNXYAR2G89W3jDhd3FhwUws+VqMsL0dO52LiEIifuI+RAQzRrQ6aEcJu9EIay7iJQj6DXvhhnPcx6Q4ubBEh+aBpWzujBAXAgnYetU7HheoR7R5kNKBgQEztcXEdP/+/bbPmEjaBOcAa25C8KxRaNVxP+MpGW9JG4LxYeqa13bd198rIyMjSkD7lJQekJMnTsrwyKgUS6wtmpO6ErsGprjavmnyzH4buG9aT6UtnhaMFKfHaF85B+HkmPOWFntsk54wWRjhVKt1PcM4VMziM1KthOWLaLuYyR2YPCAvv/IpOXHypBw4cMDMlo8dOyZHjx6VA5p3CDljo9Eah8mNlMRqGUCFOaZsmLyJvNdrDSPumCuTL/p0NNtl1mm2sZ89S3ga80yan6Rkw/tuekLqMem7XRLtsU+X4uBOHncZFk0S93bYM94StgV7B+gfExftBM7aJyn85LSvj/RK37FJ2XfiqAyI9jEUjpmUVHJh3eBstSn5zYbkeQZo32tm07Ku77PrZy/Im//+j+Wj3/2mLL15Wuo3lkXWatKqkaYQT0xBoMpb6SHFjGtlZm4eTK3NitRuzMn6j87K/J+8KbO/921Z+NY7eqmujyB9BlX0/cj7WPNUy6akLA29pulqpqSUyUmX5qPRk9c8HJH+faPSzPMMC/F1psMidjgczzyckDoeGRB+EFwhdHFsmpnHJtfDezC81NiPpBTNy/LyiiwtLsmqkgUmZqknY0sjdhIG7Xrixa6q4N5QAsxkSasrzC66aJPRrCBsJ2Pm0JoZISY8/eN2vvgi9KMRZf1F0661Zwq8FcQb0hYidxL6ZIG6xbQUEspERNT5oUOHrK3RHvgAQvsyv9oGc3kWqm9JpVbT+0akp6dkE/rgjw8ZLPJOc0FbwQQ/hI85d67A7LRa/3ovgh9tBoJIe8C0FhA38UazWwuow9kHEb0PM3FaESa6tC3Sx7JIXGesKyQ7amGJ3yZIgsTqqdC2W0pM85LXNDHrLmGh7bf49dqsEnFmCiZflMuwEmvGiUI4FzSfl69clh4l8WEyo6rMTM+QfCXgo5YWwunv77ePTex/okE9fQKw0zPzseIJSQ59oxP2PE/O8l85YIJwrpPWha3+1z/8xbA4H65xbuuNEMPC+MGqg3uUXKaGeqT31EEZ+dRJafUUpKqSWh37BE1LVm9iDGlGHc8WPpzWMZHV50h3pSkTN8pSeOeSLP3xG3Lpf/hDufxbX5XZr35fNt8+L41rSyJl9auPBA1QWW4IQ+rqNvTk1QWpvnNBVv7sbZn9D9+W6//+m3Lt978t82+8L63Lc1IqN6WmRJWhAFmWqdFnRE27+2arITmGA6hImVfyW9MwCwfHZez1l6T36D7J9pdCe4uF0ImdzjkcjmcOTkgdjxRRQwqpC5OfhNk/w1sJjdGWyQ/CO+e3tJnLbVNBzGw31tdNS2Na1qg55U3Phn12NSzG7zE2tFLZtHsgtYTBODhmWg0zh+qbWdPR1oaa0/g1nECQVaDX9KIB6i52GxFIotoZHWm5s0fH4wDkaXR0NGgDFWhL0ZpC3iCpnKfOTQuubaFugl/LzFGZeZaJjuxjhrYh2o+RTpUqsUhD3ITI0pYQFrluM9murtmWsGl37POxBXJqzUPjoe1xf+gDNMFASm1mSg2btmjQtLEOKqIwmlDGQaPFRKPLzNQVFRo3NHyWT+IjDP2KlMUlbUJf0TzRt/Re8kya6J8TE/tkcGjICCtaUbNQWFyyMkNrurq2bmutUjaUIfkLY3OHkz4dXiuxD37S0ElAHLsE6zcPV6q739pCnwlIttuTGI/1slnUK8Kpmz12HsUQI7jG28R6DQcZ3VMSWjg0Ln0vHZWuY+PSHCyZJjKnZK+gr6p8KoxBx+Sf5wdLyUBQC42UjKyrHyWeGz8+K9Nff0um/vQNmf2zt2T+G+/I4nffl6UffCzL6lZ+cEaWf3hGFnFvh/3l77wvi998Rxa++gNZ+JPvy4Les/T9j2TzzDXJLm5IX1OfH1XGvWtkmsyGprWm27qmv9CVkUKryyYtqubTkj85KcNfelny+/RZUshtKxGHw+G4GUFycDgeEdCeRNM+M30t5E1A5jUdBNjkda0bzuMfE0QEcbRR83PzcvXKVXNTN6ZkcX5B1lWQZvkK1g+NY0zti7M6XpxlFcohs2hEEbxxzKgKOY1muoGIhth50WOGSdykyQiDnmNCJhxCeUhzSOOO4Ly55NjxRAHiBAGFYNbrdSOJJ0+etDZ5/fp1I2G0OdoqBKyqpC6Tzclmtab3FmysZFkJ3/z8nJmTN+o1bUOQ0EAoaUeR+GECfOXyFfnwww/lwoULtubp1WtX5dKly3Lt+jUbt5zp0nbOBxBFq6FCpsZH22Vf2ak1TG2hZlaLYwkl8gBxZXKhc+fPy8WLF61tM5su4Z/XuK5evWKElnv4aAOVom3bDLvaNhkHyzI1fKBBGzo+MSG9Wi6FQrfGL3r/VbNOQLPa19cvFc0/MwlvlDetD2OiTNmRlji5UcRt+8YnCNQzeBbyutfYjSK0vrcbH0KMXSZO9+krOz7L9XLs7yHucPomJOfi7fZBw8LTf+pC0PquU2dPAD3RymofHeqRzKkDUvr5T0vxpcM2B0P3RkN66l1SzOalmlbip2nj/r5WRrob+oTQPl5Lp9SxZmlKGmtVqV6dV7L5sVz43a/L6X/1W3L6n/x38tH/+V/JR/8I99/Iu//FfyPv/+Z/Kx/8s/+PvPf/+vdy7v/3DZn57rtSPn9DZH5Vcht1KWw2pFhpSammcaWy0tVoyXqlIiuNitTRjmoqupWspolTSWpjtEe6Xj4kuc8/J81SIRZBUk5b2H7scDieXTghdTxyQP4YQ4rw39Pba+aNvJB5mSPYRWemjOp4ZZnAp9chkGhkIKdMLgOxZO3HG0oirly5IpcuXpKLKogj+OMQ+rm+MLcgS0oyVlS4RiNUT0x0Mc9lAheLXwV/yIHFqy92tKYIImiNiqWiprXHZtftTONOsGv6a79q2VUXzu18j+PRAqEVsgkJpb4gXoythGBhtkq7QmNIW2BMFRpSNJFhAqHQhnu17UJEp6dvyMz0lGyofybjok3FOCBomHoTDkSXcNGKTk1NyZTeg5a1kozNNOsACKg2urD2KdpMJY5w0hq2dXq+K2PpDcIvGlltv5jnKuEk3DklpJe1zeMwwWXt0LB8UpgQjP5jGdD70aBCqOfmZo2g9vSWbLIjwqMMIKoXNRzGyw4ODplpLzMRX9N8jI2NS3expGGUrR93ThT1SYeVfbIPOvcdjx7xicqzeldxx/DiM74Teqx/29PBofHbBOG1ETzZO8ScHQa/6niCtNCUDmqffP15GfzJT8nAKyela6TPxmquat+l73fn8kZO48dXPl4xyVFO93P6vMrrcyO/WZfcek0yK5uSXliT1PSKyMyyubTu982sS+/0mvTcWJHi7LrkF8qSXq1I16beo0HaR6ZCVuq5LqlmlHAq4WUpl7QS5LQS06IS4Z5WVsq1qmz0KTV9YVImf/knpP+1k1IrxfHkW30myaqhc9/hcDzbcELqeOTgBWUkr1g0oR4TXoT28KLmJaU7+hcJaRS8MV8M1/WaEkfMCdfX10y7g+YU4jmNoK+OLZqoWT2HBgvTSjSpzKqLSSNhEl8kEFBSBHUjpbpFK4oz8lzsDgJ3D5PT3G0iowQhqQm2Dm467XisgJAePnzYPo5gvs0W012IFUQxkMWKtjtm421KWfchjbbUim5pE7SH8roSOyV1K0uLUt1UcZEPGQiIGgekEj98dKE9bZopbdkIH/tr6xumpawlZrXcR8OEiHYe0yZNoNPzbI286jn6UiSuhEFY6xuEWZZyedO0l5tKSCGitPdISukHS5peHObwRW3jkFG2mOqual+hH6FtRcPK2OnV1TUlsBD1dRkfnzAtLaSdWXYpt87JjOhfn1h0Zk2zG/P8NOFpTPOd0M7NLuUr9LWEdN5jUybq7V5JDZ+PQrL0XxKmHd4C7k6uhV1Jdedstt3+z5ySgS+9KNnnJ6Uy1C1rzZqSUCWf+ubig2qNfs1N+o5sKmls8a7UPwQ8ZunNqt+cMmUmHMrX9T51OXXsF5RUFmpNdS3pqaeUYKZsVt90nTGrmhTMcnNpKSsh3VC2W2HJGY2Dse0FjaHQZKZfJatFfTceH5fST74oY1/5tJSO7rMZhclPzHH4fzN2OudwOJ49OCF1PBZELSlLYrBIP+QU7YoJ2pBQE8Z5K0ehXP9U6M6kM5LL5tSpkK/+20RSCYOZN+o+LzhMILNc13vQQFVrVQs7muKa5kn9BsFe71NBgTRhcgk0NNtiqtjf129j6grJ+LhOYfuugrddV3cXb45HC+oRM1OIFFpRTHdv3Lhh59CaMh6TDxyYq9oMudq2lldWjVTWkwmFaLODNva0x8x3Z2emZXrqhpmz2sy42sZMo6otstBdlGMnTtgESUwStG//pAwMDlk4kNKKtk+In01epE2Q88yaWdO4EPyYPASiSFslLQTPjLzacmWzWg1hVGtS0v40efCQHDx0RLJKGBn7Sfu3POv99BnI6ML8vMxOT8umEtZid7eN/+TjEOSZcaZTmvez585Lf/+AWTGgab1y9aqR6KGhYSOhlCETjO3ff8BMmDv7wieN8NwOT3MuPyl1RC4QZGJ2LF+79LztDPdmhA9E9FWLakc/CTQALmt34ZFwB683XyHuaACfOzwuPV95VYq/+BnJvHpU6kNFezZUtP9uaH/eUILK5EJNJbBrPTlZ6cnKaneXrBdEiaRInXVmePfxXsRpQrBlaKaaMi9VmeuqyYoNQs2GycxIaK1hcZQ17HWpy1pXQ/20ZF0Txbm6PrNKXTlbKnlD/2VP7peRn/+c7Pu1n5bWwRFpFXJKmPngG/J/+3w7HA5HeOY5HI8MUWhFaIAYQgB6+/ukT0kp5DSfzxlpNDGeF5k6XmgBnNWfhhEJq4VHkOrFXnz6IkVQRgjgJP+jFjSNwM91znIvJBZtloZFRwh+wsyjpAsT3T5NW09f0OIi0INOQa5z/1botXidKHWjsYZjx2NFbFtM6gMhZfkTSCjHkDOIKvs21lgJJnXP2FHMWCF+aAMxkWVWXdb1ZI3STSWQU0pImTQLzSQTJKHFxNQXTStkDu0r2kXipp1BamlrmMXRbiGcaB0hx6c/Om1m5+wzBvX8hfNy+fJli9ealv6YxAj/mLDTFyCqTHSCNQGTb/UPKqHswZS2ywRIzHTRii4szFma0IiOjo0qqe7VPGX13KaZud+4fsPSSzlAUpeXIeizVgYHDx40LSyz9e7bv19Ja5/lgTzF/v1s4E5933F/oCzvXp7hGaquw6s9YhNn+7uA+Fy3wRxJZGgLo+lt2ISPn3eLlKttH51ed7jtplPEl+ymchnJjvTLwGeek/Gf/axM/KXPSurwqGz26nNICSKTBqEVZShKerMuGVy1JZm6Pmea4T2ItrKmhBKCuqHbVcilvtJyXRklvvp84NmjxHM5BfFsKplNSTWvN/FBDK5aF+lm+Rh9nmX0nmwmJ0u1stRGe6T3iy/IxF/5aen9/AvSGukNS9dopKZhfaaeCQ6H40HhhNTx2MBLH0G8u7to5o/9A/2mqUIDyrXoeOG3iSebJhqiMOaO822SF+8Jr1/ehLbtJKL2grewcLwwlaxyK07PsSVNEAW0QxBl9u/ZVDeCqNuwWBU3nXQ8AaD9QLomJyeNINbrmLambDwpJItxmJBQTHYxu2XWWrSFaPGNcGobhJxi7ko7w3w3zEq7mIxBDWOS0ayyPAua9n379tk6tr1KAlk2BZIa21cMd2V1Ra5cvWLjTpmoiO3Vq9fkxtSUEUU+oph/TRcfUSCffDyBYNJ+TbOv+WL5lkI3kx81zLzdJmFaXEgmIspp3vtlaGhQ+2DBxpmivWUyJMxzS0pkSSf5XViYN00raR1Swg4BxsLh4ORB67/B6iC28y1Y/6SvfcJgzwvL7q15djwArEDD7v0gNrkHvH1HxHDCu+RmIakzjkiK7yXe+/FDb7F3WsdNpCWtpLN0ZEKGP/+ijCkh7f3885I/vl/SQ72S0b5Mals1JYvVuuSqTZuRN6eElDVMu/R5wUy8WP7UlSXWlbwy+RHjQfP6/LC79XpNn1fVlD6DlE/Wsl1mrpvWuDPM7KuO8aKY8+ZSacnrezE1PiCFV4/K4F/6tAz89KtSOLafSReszJhtN3nj3hmfvMeDw+F4ADghdTwyRMH0JsFVdzlGoEZYxxQQQRihuv0yS4Ta+JK2PYKK5xOXnEyuB1PcOM6OKIO5IxPTNPFmpomMXbVJldRDNMdEuIYYD6qgjhkjhAPEdFtcER27ESE9xEGa7IyddzxZoD4hgmY6rvV85MgR04pC/k6dOmWaUoglpruLS0tKzIJZLWORZ5QkotFkPCbkjvvHx0bN/HxmZtrMW1nbk/CsPSmRe/GlF+XwoUO2fMpRjevUqefk2PFjZiGAH8io9QUlgX29fWaezjkbb6qksKaEkfGpmJ9zDsR0v/bqa/LSiy9puEflwL79cujgQdsO9g/YskgsOTOn6YFskqeCElBIN8u2kH/aPtrgSxcvytVr16SkBPvkc88ZCb127bqWyQ3TJEN6SQP9ClP2ffuYWTfMRg1iHwGd527qMw7HLsGalTme+nF399qaWdPsgEhG7zU+vHeGFNN6E5IT5MT6jO7rW6SNcL8S09F+6f3sKTn+135Ojv3CT8j4c0ft+QEBxCQfTSnLROX0+ZTVUNLat7vq6ip1yW6yVqnYWNHBRlr6mxmbMbdLI8qLPqeaaVvahfP9zOZb1fekktuWvhebmgCGD/S0lIxqyeSVCL/waz8nx//GL0r/z39WqkPdFretRarho1UlN53PhB1xl8sOh+PZgBNSxyMDL6YdX06cZ1yLEj8W3x9UIjA0OiKl/l7J5vP2kuPLLrOdYo6IAADhM0Gg/VbXcHd6sel1hGfu3/Ia/Np5wtJfGmKC1mqgX8Ymxo2MsvTFds3PLXlgtx1wgF1Xx2nMpBg8xLu57bhHzwkmVpoPm4xCz4W0hPsfhQBveUF40bRArsyRX/2hgYv5NG1cTI/lLezeOxifG5zNBKlhxTG8/EI6KA91BE+aHmUZqEMbun+/ErjBQSOBkDc0py+++KJNiDU3O2fjLdFGUhxMTDQztyCrG5tan2mpqlCX1vYyoKRtbGRUitqW1/W+sx+dlmmWdlEymVeCmdU8ZjSPOS3nAppMdWnLL4nR0qA9KMlFo1ksdds5m4yrUpZatWJr6kZNPo46Q/PKmGrGOOc1XoTSLLP0aqC1atXMb3Gry6tSKhQ1feMyPrpPit0sVp9WslvT/C3IxUtX5fK1G8LyLrhGvWEElsmdsGCYnDxgWmDK49jRI0pGx0P/oN52QCzbuN+G7rOmIv2A9m9ya1rPaTmEPqL5w2yf65jUc30vYUnT+PUH2TeTZ0ycm3XRmrC0pVQQJ71okHAtzXM6w4csC+GpBWVbz3ZJpTsj6+mgGSOvLB+SrTMZTkrWcylZK2WkUsqadg2TTaloGehuu27YaR88GLid4sxUG9Klbr03K2vFtJRT2iI0zjST8VAd6ngXbKRbstafk6qmXWvI7g1O/+9ivaQ0r6m1qqZP+1M2I9Vs2p7ZkLicNoo8a2/qfk3PbRYzUqODa/ndqTx2TF5yMuQkYCd/1E9XqSDpSX1Hvv68DP/6T8n4f/oL0vfXvyxdX3lZWgMlqWk9bWgqq8pSmxml1cz0TZ/jmQtB1f209n1mYWhpW9eObZExWaDlS89nNG8c8wEqq8+i7sE+KRwZl9QvvSal/+RnZOQ/+TkpanzZE/sk01eUPB93NVyeBjyXbBLCp72DOByOR4b0P1Ik+w7H4wHvLN5d+gJDW2mTKqhgzQQvJrzq5bYzYVx/vOiS+25G8jrvOI+gaSfiPZxLPDG2jslfMMvFHJE1GDFzDGNG9aV6Dy/USKq2A40spo2Mt7OZVzlp+VH/ycsazRQCvZkuF7tNW7VdI3u/iETuXu5H07a8uGiaYdLDOFoj6ggtbaKhZarpZZZhNMdGWu8zbYxdZHbWhsbHvQhElA/gGEe6CbtfSSFlYELNfcZzP7C2lIRPXJBSyoE6g4SRV7SC01PTNjMzfmknbNF8MpmIHkhG0wrB4qNGXklpMd9tZm5VTF2V2EIKmWDLtBdarkEgtASo0zKwJLBPvalQyyQlWl5bM+OGdEIGSePo8Ki1T8Kz9Ot1/OAQIIkPre26hsF4VpaCqWxWrI0xIdHw8IiZo1PWG0qo5+YX5KoS0anpGSlvVpVoHjDNMRrTM2fO2P7+/ftMs0t7IcoXX3xBhrSeSNP91BNpRNtLnomffo55MY51FjnmGcCsvjj6A3neaot7BE0P7Z7JpJjIhZogfcTNhyrSx8RS4fmUs/LHkgOiDinvbEtPE3gWVZbWpLJRNmJaGOmX0viw5Id1OzYo+YkhqUxqWzmkz8QjE9J/fFK6J0aUgPQoWw0fDUB4SrPzAGXArTEc3U9t1qSxvilL66uSKuUlP9ArxZFB6R4bksK4pmlU0zM+IK0DQ9J1YkIGXjspfccOhACSZBBeR7APByXHrY2KVNZYcEX7a7e22eE+KWp6SqRJ05MZG5DUvkFJHRmV0olJ6T08IfnJUenK336ox+3SFs+z3e6nfU4fIIzTTA/2SG7/qOS1blKTw9IcKkl6s6Fp1Hj79B3WW5RMr57rzith5uMPzwnC0FC08iijOqRVHfvM1ptRv3m9J9VTkGZvQVrDvVI6vl9Kx/ZL4flDkvryi9L3xRdk8JUTktZ60AeevR945vFcJ+g2GdU/h8PhuBek9EXKc8jheGJAk8RBirbWHF2V9fX1IFjri45Wy/U4Rg8XJRBetkHrZ3t2mhvi12HACzObSdYX7elVwbLXhF+Eb75AP5Bg1QHSD7lB04YjHzFfQahHYxi0hAi0CL5o5xD6jfTdh5C/HYQJ7nY/ZUaZnj97Vsu4bOcwv7SxuXoNc2YIKmVBmJiwjo2NqoBeVGH9PgiCJocZaFlGhDUtNTBzRoIVpDOWTb67IEeOHjXyC4HaayLSWVbs09ZYLuitt96y+KkTcFbLiMmFXnjhBa2jPms/aEz50JDLZWT/PhXYeoqmoSxkc0rU0lbPmPuurq3afiEfTIOp48HBAa13PriobIlGKqkr8ktbZ3ZcSCkgHXikvtCG7lfCSFjcY/fpH2mnjVGf3I+JLku/0F+qlbJpe8dGR21mXyP72uZwZ8+dkw8++FDzPCMjoyNyYHJSrxds8iQmVIIcP//887Y8zocffigTExN2TFuIHw3uB6QTMt/us4p2PhScww/hdrp4fa9B/KQPRzqItzOPnAPx/HYLiqcCZKEjyY1KVRplfT5VWaM2uUTe2dO/BifY1T7Px5cuJeYp2mRyvg29x4K+3/IIRboF2oempc5Y6XrDxjYCC5VdPWfadNbp1DSliwV1Sorsl/jRHbsrqcP7Qax320/+teraLitK6fT5hbWDtVHi061pQ9U/aWqltV3oOyStZcREQ+HL0+5hp7SlGvqvpm1W09bYrIpoOqvLq1KZX5LKzKLUZ5elOrUgy5euS3V2SVpLG0paa5KuaX3pvRVsa7PajvU51tJnPiS798CYZCcGpTnSK6mxfuk9st8mVUqXCmYanC3kJaOOfIdCdzgcjoeDE1LHEw0EQ4R5JnpB4EbrVEeAUqGk3qjrNRVc9DrkxrSQNGdatL4oeXHzxdY0kCo4onFF+4ogDfHEsY+DELbND3dBiCAdCLcQHFwUvgH7pC0KFmwjKcWRrk4h+H4Ru3QM/3bAH+XKOq5b5JB4AznsFLYJEsKOFtdI+13C3o4NJUrra+uhHJL0xTIhrJhm6qhvoL9dBvcbz8OCcmAyIsgYBBpN4z4lm0xudO3aVWuLw8NDpjnlYwjHbPmwwUcNZtztUVJN+skTBLFWq2q4geTgn/NoWmPbKylJpazJL7PYMtMtbQZ/1AdafK7R5gFxADShjCslbMIlrWW9zzSQCj4usGQN5rulYsk+dHTrFs002mrGijJzblhrNGWTIDFBEeSUiZTobydOnDBtIGkhDsadQk5JfyDKD45Y5511HM+BR133ndgpbZ8YbBWxZjBsOHVfOb3vG+6A7WFZ+vQfZW/7uum4jjmxXYMAJucC4tGW585g7wed4e4YBh7iBXuOBUIK2v4TP7emandAuBYFwyvYsQ+J6jQiZtttbGxKfV2fI+sVaa5tSnlhWZrrm5JSwppijVGSrfc10noP75uE4GOem0Or2tMtUspLl7pcf690deeCOTfjUfGffJTcq/w5HI5nC05IHU8E7kUAhMAwQcumCt1GQhHwEcohpUz4wpd19bPVpAPpQ6DH1C6a3wUzwJyez4T4iLKzF+wSISVs0oNjv9PthHjPw+Jew8Ffp1+2HEfsFMaDptHCRdOht3J3Rw3FnfhPgb+4/2hhbUxJKeTu9OnTcvHiRRkeGjGCuVFel48++sjaEYS0F7M2TSf+a/WqEbd+SKme747adr0OcQsa1U1ZWl6S1ZVVOw8JhZD29Aazz66utJmNkwbaMtcAZcd1m0xIz2dVKGSsI9pLNKAQRYhpDQ2J+iHsohJLZv7tKfVqWro17EAe6xo28U/PTMvpj89oPE1bZ5Qx041GS5aXl+XSpUsmcJJHNMKcw4T5+PHjMjY2Zhpe0vYg7eCTgM4+EPvL9rJ40H7yyGDJ5p+mUf9ifwSWastXuGaH9u82ecLvw+RV78fkvROdR1bGej2mMdCggEAFE/+Ew0YP4nOlM5z7QYyrfX880QYnLKL2Luaw7HDKCKKlWzdJ3sL/3YNFYf8pkxA6RzxmOc94dNJh4/f1erOuzwa9bikkTW0X7uTeW9p1uHgrktPBV8BtfDocDsc9wQmp44lA+wWYvBA7wbWbXpQqVJt3/WdmuBywDT7sf/tVqv/07uTdq1sVtG2buAiLg52Oc7uFmLeIW+LdgzjvBTFdxN+5/6jQWS6POt47xcd1HKa758+fl/fe+0DGx8dt/U2WPznz8cdG6E6dOmkmvazfibYezSoa/JGhXhkdGbblUSCGaCqJLxBNZnpGq1+3ZVjW0KBWmTm3bnEyGy9+cRBcyCZa7EhuETIhv/YBRokw90B4c7m8+i+YhhMtNoSYcY+YpbcaXRp3S8qVTZm6cUPOnb8g167fMGINGYUQs49J8rVr14z8ohlFG4rpLsBE96WXXjKT473WXN+tfp40kF7wtKSZ1FpKdSeQN/a1zcf0U/6cjYdhEw8NN9VREuBO/u4JD3zjFiwJnemgTjR9DxSk1afeGW8OAQbyG8PsiCt64zrgGFPeUJ7qQ//2om1Yu9NgYy5Jy80IcQPib7fTxP8W2p7C9j7QjlPDjnl82vqvw+F4MuCE1PF043at19+H94y2oPIYhQhLQxL/46460oLWE5PV5eUVuXDhYjBrbjRsLOba2qrMzc2a1rBUKtpSRT29PUY4q0r66tV1JaIFm/AGAoepbFGJ5hapDIQX7T5javU2vS9o+hm3i3YU81wm+SlvlKVc3jDCiJYfbYdI0IJCDFm6CNLJ2r34R3OJWTqkEnNf1ildWy3bmFTGMk/Pzmp4YTImJjhiQi9IL2QU82K0tExgRJoJAy0sZDQuEUMeHE836O039bH4DNWT26/d4nc7kmdH7LsPi9vGl1y45fpON3Q8Sx4UBAsslOQA8s5nTwjdTmmI93Ri637999BpijHcSintUkca4vV7erabl47Q7yOd2+NzOByOB4UTUsczC5r+oyBhjyqeB8VOQsv2NO91HiwNSfiPo6Q68wexhKRByMDa2oZN6HPh/PlgqtvXa6TxRz/6kfqrKnkrGSllDCna0KWFGb1eE9YRzRfyer7fzFwxx7VlWZTUsUxL0DQyRjRr8eGAjZVWskr8cQwy2lLIINrQTCaVENGwhq5tk2VeMBskbYTBWFII7fw8M+3OyfzCgpQ3KzaTNOllRuBNPWZd0qtXr5o5+9jomK0tyjhWyCiTGE1OTpqGuBM7tRnH04EdSQQnt1Vl298O1yJoB1y22VUfAjGuiHZo7Qu6o3HEpMTTt8SatEv8PijaUSoslCRSNuFamNCojY5nV0RyS4DdlJy52dt9wcragtiBEHeEb4fhyO7ZqY92+on3t889ZF06HA7Hg8AJqeOJRWfT3I2X5O1ezo6tsu4sn70or53CfNT1ci/x4QdnZrb1ppnWzkzPyNvvvG1aSGYbhmReuHBePv74Y9Oo7tu3z9bq7O0pKKGs2Gy3q6srZqYLUYWYQmhHhoeNFNrYUo3LBExNj2k8lYQSFhpStKUQU4gq455tmZcu/AbSjOO+LOv/2ZqYKSOvaG6ZkAmN6MLCoqysrptJL/EPDg7ZciosN3T58hUlotdMY/ryK58yDShxXL9+zUyHWZeVCYwg0qR1e7lxDO5Wls8i7qWNPW60CUiy1UTrPz3anuzk9E6IYXDvg+b3lnTcBbdLjpU5O5qO+w3zQUGcnWNEMdWNsRrF67hmuF3i74QHuGfH/MeTQC+0DzvK7WHwNLR5h8Px5MIJqeOpgL/sHi28vEMZBCdGEFlP9poSuKnpKVlZWZG+3l4V6lg3tGzkD40iJrXjYyM2aRZL5lCGTDTEmFGIJppNyCWz3mKGC7nFvLdQCDMsQ/wgpjg0otyDi+a+SJGkKcwwXTNNqGlDNW7IKGa3G+sblibW1MRvLt9tY0uZwRciurS8bCa83FfUdDC7LmRVIyBw9Zs30gx5ZozsTmTU8ckAL/92rZokkJy536q+KaD7wy1pSA4sOQk6g+70H/3YsR7sSAIfFjdFsgX6RIgLQpdcjH4VLTvFiW0azV2AxQ12Ia8dSb4Ju51mh8PhuBOckDqeCuy2QLzb4d0JjzKu3UB8JOyU5ichL486DRSHOSVzGrFpRJltF0LH+MqhoQEze2VCIJZL6e0pJcusKNnrHzAyydIwKyurNh6UcaMQU8x2bWKhUkGJYZj9GQ0lS7VAVLfGk9bDZFxJWupMjKTnmFUXErqyumIz59qkSrWqegpL9OBYnqW3v9+ETkjr/MKipXF1dc3I5uEjR2V8YsK0quVyRePNyvPPnZQhvcb90WwZPE1t2PFgoJ3QyDrr2s4pdqx9Lu5WswiRhyA1/hgv2B5FvIZvrnVSvnDuIRJFJ4v5T9Jk6Gz/N/nh+q3xBULKzsM/r0IytsKJz+iYhnsJPbnD0Om/83wnbvJD3Jy5l4gUT8J7wuFwPF1wQupwONqIjwMXJm4GxcJMtWglTVu6vibnzp0389b1jXU5eHDSTFuZnOjsmbNGUPELMR0ZHTFz2J5Sjwp/TGZUs3sgtEyCVN5YUTmvZVpRlm+xSYqUkKJtZaIjziEMQg7xU601TdNpZrtKWKM2lYmTMLW1NU6V6DKur6bEdX5pUdN5XWZmZrReu+TQoUNy+PBR05qyDA0aU5aH2T85aZMX9RaVGCthjm2A7aNuDy7QPnrcCzHZCdvvu99ai/fH++7lGWQ+kjZCn+K4Pa6Tg/tNRCeS+9l0El6L0/YVHX5AO7pt5wHXHqY93xLHDrDwo48Oj/dy746wG5PM3PfNDofDcf9wQupwOBx3gj4h40MSjSXyGTPuLi4syMzsrCzotsFSLkr+mNWWJypjSBmbieks5xFGMZlFE8q6oBDILsaEasi12qZpX3kUY2ZrAXClFdYjhXxCLo2QquMyxBIiyhq7rKfLNRxhEB/xEn95U9OgpBez26AxLdk2mABrGHo/6RodGZWhYSZmYmyrxoOgb+kgLpdInwXENr4dd6v97ffdb2sJrf3BEePf7VbamS/C3imdt4t7N9O0U7z3ioe59+FudjgcjvuDE1KHw+G4A7YTMzSTnIMQouXE3PXs2bMyPz9vWlFmpIXwsY+mlPGl+OE+ZstlSRWIH/uQQ5vcKCGAcbKi6DrjJj62uEhAOYefQELDOFJMd5lQqVwOZJg4mC2XSYrQnjL+dXl52e6Ns+hiehwJbYzH4XA4HA6H41HACanD4XDcBZ3EEMRjtpF4Qgghe3HWXQinLfWSzxvZ4zr+IK74ww/kL/rBQR5xNoZUiWpEJKhoTJl5l3txkE6byEiJKOchwoTHsi6smQrxJVxIKqSYtDI7MKSZWYEhx8QVCS/O4XA4HA6H41HCCanD4XA8BCCKkMG4/ueNGzeMJHKO405NJyQSUsi1SDI57iS4EezvpKnkHs5HF4kkpBcSi4OYso3noj9IMkQV19vLuqnhGojhORwOh8PhcDxKOCF1OByOXQYms2hCp6enzTwWTSaEEO0npBDCCCCoaEttgiMlqWhR2YekQnAjKeXeuI0kE81mNAGOWlb8cB/xER7h4JcZdcfGxmxyJdKAP4htBOECJ6QOh8PhcDgeNZyQOhwOx0MgksbO/agJhfRBMDGpZfIjzGYhq5BF/OAfghi1mZFsdmo28UM4EE22nUQymvDi2OceSCpmuZjrogXFRRNgXCSfnY/+GE/cdzgcDofD4XhUcELqcDgcD4ntZI5jHMcQSMgpZryd4z05BymNxBSH3xhWJI4R8TxhdmpM4xYSC/GE4DJ5EcQUh+Z0e1gOh8PhcDgcTwqckDocDsdDgsdoJKN3Av5wkYiiPUVrGk1245ZrURNKuNFBLOP4UBxkE/IZCWjUhN5LWhwOh8PhcDieBDghdTgcjkcMHrvRBDeS1J1c9Nu5hZRGF0nqdtJ6v4SUsO/3HofD4XA4HI7dgBNSh8PheAzg0dtJBG9HCOMjOm7xt91v52PciaXD4XA4HI6nCU5IHQ6H4y7oJIOd+5243fm7Ybtp7qPCg6bX4XA4HA6HYzfhhNThcDgcDofD4XA4HI8FPvWiw+FwOBwOh8PhcDgeC5yQOhwOh8PhcDgcDofjscAJqcPhcDgcDofD4XA4HguckDocDofD4XA4HA6H47HACanD4XA4HA6Hw+FwOB4LnJA6HA6Hw+FwOBwOh+OxwAmpw+FwOBwOh8PhcDgeC5yQOhwOh8PhcDgcDofjscAJqcPhcDgcDofD4XA4HguckDocDofD4XA4HA6H47HACanD4XA4HA6Hw+FwOB4LnJA6HA6Hw+FwOBwOh+OxwAmpw+FwOBwOh8PhcDgeC5yQOhwOh8PhcDgcDofjscAJqcPhcDgcDofD4XA4HguckDocDofD4XA4HA6H47HACanD4XA4HA6Hw+FwOB4LnJA6HA6Hw+FwOBwOh+OxwAmpw+FwOBwOh8PhcDgeC5yQOhwOh8PhcDgcDofjscAJqcPhcDgcDofD4XA4HguckDocDofD4XA4HA6H47HACanD4XA4HA6Hw+FwOB4LnJA6HA6Hw+FwOBwOh+OxwAmpw+FwOBwOh8PhcDgeC5yQOhwOh8PhcDgcDofjscAJqcPhcDgcDofD4XA4HguckDocDofD4XA4HA6H47HACanD4XA4HA6Hw+FwOB4LnJA6HA6Hw+FwOBwOh+OxwAmpw+FwOBwOh8PhcDgeC5yQOhwOh8PhcDgcDofjscAJqcPhcDgcDofD4XA4HguckDocDofD4XA4HA6H47HACanD4XA4HA6Hw+FwOB4LnJA6HA6Hw+FwOBwOh+OxwAmpw+FwOBwOh8PhcDgeC5yQOhwOh8PhcDgcDofjscAJqcPhcDgcDofD4XA4HguckDocDofD4XA4HA6H47HACanD4XA4HA6Hw+FwOB4LUi1Fsv/I8Oabb8q3vvUtmZ2dTc44HI57wejoqHz5y1+W119/PTlz/6hWq3L16lWZmZmRpaUl2djYkEajkVx1OBwOx+2QTqelWCzKwMCAjI2NyeTkpORyueTq/cPlIYfjwbAb8pDjycEjJ6Tx4fuLv/iLcvDgweSsw+G4F1y5ckX++I//+IEewuVyWT788EM5d+6cHDp0SCYmJmRwcNCEq0wmk/hyOBwOx+1Qr9ftI97i4qJMTU3J5cuX5fjx4/LCCy9Id3d34uve4PKQw/HgeBh5yPHk4ZET0n/+z/+5P3wdjodAfAj/g3/wD5Izd8f58+flnXfekZMnT8qpU6ckn88nVxwOh8PxoKhUKv//9s4DSooqbcMfDEGGHAUEQUAR14ARRUVREXEV1oQBw4piwpwTKiKKCXNCxKzoGjGgKCuyRkw/poMgIDlnGMIMzD/Pna6xaTpU93Sa5n3O6TM91V2hb1Xduu+Xrk2ePNmmTJliHTt2tDZt2gQ+iY3GQ0KUj0TGQyI7SXsOKWEp6nyFSBzun3jCuyZOnOi8ooceeqjttttuEqNCCJEk6E/pV+lf6Wfpb/2i8ZAQ5SPe8ZDIXlTUSIgchsHRihUrrGvXrtagQYPAUiGEEMmE/pV+lv42HlEqhBBCglSInIUwXQoXde7cWTmiQgiRYuhn6W/pd+l/hRBC+EOCVIgchAJG5IzuvffeEqNCCJEm6G/pd+l/6YeFEELERoJUiByEaroUMFKYrhBCpBf6Xfpf+mEhhBCxkSAVIsdgnlGKa1BNVwghRPqh/6Ufpj8WQggRHQlSIXKM2bNnu3lGVU1XCCEyA/0v/TD9sRBCiOhIkAqRY1BQo2nTpoH/hBBCZAL6YfpjIYQQ0ZEgFSLHWL58udWvXz/wnxBCiExAP0x/LIQQIjoSpELkGAUFBZafnx/4TwghRCagH6Y/FkIIER0JUiFyjI0bN2qqFyGEyDD0w/THQgghoiNBKoTIKOvXr7c333zTevToYXXq1LFKlSrZoYceao8++qgtWbIk8K3EWbNmjT3xxBNum2ybfbCvV155xX2WzRQXF9vEiRPt3HPPtdatW7vj33nnne2qq65yU0rweTLZtGmT/frrrzZo0CA74ogjys4H++YYfvnll8A3Mw/nbuTIkda7d29r2LBhWdtcdtll9vXXX7vfUh6Kiorsyy+/dNtju2yf/bA/9puN1w7Hy3H6ffG7mC/TL1wX4bYT6XXmmWfaypUrA2v7pyK2vRBCiMSRIBVCZIwFCxbYGWecYSeeeKITWI0bN3bLP//8c7vkkkvs8MMPd+IiUf744w/r3r27XXTRRTZr1ixr1aqVrVq1yj766CPr06ePHX/88TZlypTAt7MLBuX33XefHXzwwfb66687cQj8pqFDh1qnTp3ssccec98rLwjbH3/80Xr16mW77bab3XLLLTZ27FjXVjBjxgx75pln7KWXXsr4NBYcK+dv7733tlNPPdX+85//2NKlS91ntM3DDz9snTt3tn79+tmiRYvc8nhAyH722Wd2zDHH2EEHHeS2x3aB/bA/9st1RZuJ5KG2F0KIrRMJUiFERli2bJkTnZMnT7YxY8bYtGnT3Lx9CA68pt9++61tu+22dsUVVyQ0wfxff/1l55xzjtWsWdN++OEH+/PPP90ytk9e1+jRo50gvuaaa9zfbIJjRGzikUIczps3z37++We3nBDAmTNn2vnnn2833nijE6ssTxRE58033+w8yBgCGPC///77rjoo+2Lb3uvuu++2atWqBdZMPxzDq6++6jxliM2BAwe681pYWOg+o4DMp59+6gTNiBEjnCiN59wi7u+//34nzCdNmmS33367M1hwPbJ9/uKxvvDCC50HD0NHItdmqsFw4J2zaC9+Y8eOHQNr+WOPPfZw64XbXujrhRdeKDOkxCJX2l4IIUT8SJAKIdIOg89hw4bZhAkT7KGHHrJu3bpZ5cp/d0eInv3228955Ro1auS+s3bt2sCnsSGk795773X7efDBB22vvfZyYX8eNWrUsKOOOspefPFFJ1IRL9mU6zV+/Hh74IEH7KabbrLLL7/ciWoP2qlly5Z2xx13ODF9zz33OFGfCIi6/v3725133mmHHHKIjRs3zl5++WX75z//6bzVweckG8CwgAjfZZddnBEDsd62bduynOm6des6rzoi/bbbbrN3333XtZPfa+eDDz4oC1dGnA8YMMDatWtXJsL5u/vuu7twcq6d33//3YYMGZJQWKrYHLW9EEJsvUiQxoBJrRkM/+tf/3KDQMq481Ds27evvfXWWzldQY8H/b///W+74IILbPXq1YGlsSHs6rvvvrPrr7/eDXJpM168ZxmflTe/S1RsyFsjr/PSSy+1Ll26BJZuSYsWLZyX6+2337avvvoqsDQ2eMkYtF577bXWoUOHwNIt2XXXXe3ss89238Urkw3gOcY7iog+77zzIhaoYuJ9wp1r1arlRGS8ghrRjmh75513nBBAxIUK92yC46VdgD6ZkN1IYHC4+uqrnRft+eef933tzJ071wkirk3CuyOBUD/llFPc9cW1SZ8myofaXoSyYeo8++uE223qEddFfU078gab0WeILbrvDSucvTiwthCiIiFBGgE8K3hNGCwzaMNi64kyctF4EBIOSA4aYUThQHR98803Lnwq3SCUGaTGU7AiFH4nBU4Q4Ax6/bB48WJXiOLII4+0p556yoUZevCeZXzGYIKBdziScewie0E4jRo1yk0af9xxx8UUQAceeKATSqxD2F4sEC6ILAa3Xbt2DSwND/vGU4r35eOPP3ahgZmG3DhyJE8//fSY88kycOf48RYSxusXfidFnR5//HHnhcVQhIjLZjAYcI4olLPPPvsElkYGr/JZZ53l+i7ykP2cW8JBMTQSKh4LDAUUx2L7wf2cSAy1vUiU4pKxVtGCZbbyo+9s1vkP2srR39HJBT6tgBCiPmWOLX12jG1al9mcfSHShQRpBBj83nrrrS43CWssVUAprkCOG0KJMEDCxshzwxIfLmSOQTEPTfK/0gmDdkLZLr74Yl8D+EgQEkX+VTRPRDDr1q1z4YMIcLzJhNZRoII248V7wg8ZZBOKOXjw4C08zMk6dpG9YIjAq9G5c2fbbrvtAksjQ3VNRClGIcJrY0FUw08//eSKAcUSdLD99tvb/vvvb5988klSqvqWB0QT4onCQn7uOwQ1opt7NR4PMv0V3kY8iNxrkbyw2UReXp41adLEevbs6d77gXBeDGpcE/RPyQZBxDHFE0EikoPafuui2ZBzrO2nd4d97fD+IGs2+Gyr2rKxFa8vtKXDR9uGafMDa1Y81v7fVJvT/1Fb/+ecwBIhch8J0jAgwgjh40HH9AqPPPKIHXbYYe7h16BBA+eVwPJOxT+8fd9//7298cYbW4TMZSonjUFteUNiqaSJ8KbgRbTwqWAQ5xQcQYwSdkV+G+vTZrx4j9jE84wV/LXXXtsi3CoZxy6yG0LzMFBwPXj5YdFAdCEqiETwKm5GA08h3/VrSMEz2L59e7cO1WTjhWsW4xPH6B0rnp5ErmP6HMQixi6v4nAsCGtGwJJf6acCLsdLvh4QMh2cn5oKKExDJAltg3GBPsCr3hsPXC/0SX68ox6cg1T2wxjNMKohjkR6UdsLj8rbVLP8Tjvbtjeeanl1a9rGFWtszTe/Bz6teBRv3OS8vkJsTUiQhgGPJtX7yC+juEck70Hz5s1dWB3g1UhkioFshRL7hEIxuEZM+uG3335zA2pCJSOJAQalBxxwgMvJ5bt4vTIl3EVmoBIqIgXvlV8wBtWuXdtXtAHfoRKon9A/D+5l1vOmD4kHhCCef2+OTv7idcRQFS948TgOvLb5+fmBpdGhiimeYMLl/UQV4AXGG3z00Ue7ojGpBG84IcGkOADtS77q008/7YRxqpk+fbrrlzCqJTskmeMn6mP+/PmunxTpQ20vwoGHtPrOLd17ckkRdkKIioEEaRT8eDiYtJsHIoMdz+rPYJtwQQqSABUsGTAy12LwgJeHKt4QplwILf5DOGu4nDDWZztsnzA9vI3sv02bNm56DEJhmzVrZs8++6z7PvllbJOKo/GAp8jzkPrxYgWDwIw22KQYC9vFk0qurjeIxuPs59jZNrmt5L1RiZXv0AZ4eyIVTMJ7y/euvPJKd57ee+89J4q9dWk7zkW04xbJgdzkeOE8cY0zFUksEvFy4mUEP9sPBa9t6D4RlfQD8cL9Ha9ha5tttnHHz7H78ZByrHiDCVP2G/qaKBxTuHQGlqUihDYYKusS6VKvXj1nWEwm9BPk+VIJmTzofffdN/BJdkAfx9QoiH/6UTzTnof62GOPdfnD5FonAv0r1zdpLVRoxsDItnnxPKQIGQbaRCIE/JDtbS8yCI/vgAitVK2KVaq8ZX2C4g1FtnrcRJt98aM27agbXVGkGScPdvmaG5dFDv9G4C4Y9LL9deKg0kJKJevO6veArXjnS9tUENkQyGd8Z9Y5Q13xJdadedY9Yddj/7P63m/zrn/G/V/w7SSbfswAV9iJAk9C5DISpGFAFFGZE8FH7mhonmMwO+64o/PyUaGS935BiBEKzBQF5HKFFv9hQnzm0mNQEQ4e9lSaJKSYAT6eCDwkyRpg4vXBw0TooF/+8Y9/uPApLNf/+9//og5IyMvldzLXnF9PEDCIZa46cnMpkOQN+mkDBp+EBg4dOjTiYBfxy7QB5M5x3oB1n3vuOTdww5MjUSrigXDf0LB2+pB4+oN0wrydEJy/i9eU+4K5SBEWeF25x8ojXADP9k477RT4729YhpBOFdzD3MtU2KWKMn1TMqBPY75c6gucfPLJrjAXhjG/c22mCwoEHXTQQS48mkJQniGUv8wx26dPH5d7TNG9eCECgHWZL5SiWMHbwDgzfPhwlx+OME1m1FBFaXuROTb8Nd/WTSo1eFZr3ZSQLPfeY+PSVSVib7gtuOMVW1/yveKi0uisoiUrbdnLY232BQ/Z2p+nu2XBIGAplrT6859t4/JS0cq6G6bPt8WPjrK5VzxpRYtWuOXBcDyz+z/ivrNhxoKyMNzCOUvcsjmXPl7yXlWBhQAJ0jAwiOKBjbhiIng8Ccxlh0jzMzhjIIogY55FoLgPgpE8Uy/8laqYeP7w/CCs5syZ477DA3zs2LEuZxWhxIAwnCBGLH/44Yf28MMPu7AlLNZ4VZmmhfcMwgBLMtsln9MvhNIiFglZxovpFyzVDBQ4bv56k9PjkfHjuTnppJOiHjueV9qU31m1alUnPAnJ4zt4k/mf5XzO98KFAtOeFF5iH1TtZF3+XnLJJe49FZWZG1MIvxCeTpEz8jiBv4i7eHId0wk5vPRx9G+ecKNoFPeAZ6TBw8b9Rz+IkScRby/Qv3E/4skC+j/ml0SsIHxTAb+JXHamq2JaHIxP5THUIWoRPRwv2yHUHM8jnkEMWdGmFUo35APz/CH644UXXnDPCULkEXO0C0X6MEgMHDjQ5XFjGPTOuR84nxhfuFZGjx7t+nqeT2ybF+959p166qmu7+c8U5MhUSpS24sMUXLdkTO6euxPNv/WF2zT6rVWfcftrNYhm4dyU6120YNvOcFJnmmT6062Nh/cYW0/GWKtXrreanXdwwnThUNGWuGsvw0pRQuX29LnxpSoyI3WoG9322HUQFdIqc1Hd1rze/tZlSb1bP3Uubbi7S/dsXggfhfe/brbFqHEze7s69Zhfy2HX2Hb7NraCdYFd410xw959WtZyxFXuQJOQF4sBZtav3mLVWvbzC0TIleRIA0DDz8e6IQEIch46OKVIzeS0DgvpNZvEZFQeGhTVMQrmoQQ87yE5KsyxQUiFg8lQivSxN8MFnv37u1CYPE2kHeWDBCF5F0hSMnb8wu/gXwxBitA2Ba/j/BcBhL8TgYptGc072kkGBQjKBlIIyoR34TjAcfJ/yznc74XaRDNdD1Y1r0cQ/7S3gxcOTYG6H5y8YQAr7/AiMOgnL+IOOZLzEbodzwoLHbuuec6kUq1cEQKhhxeGMm4n8iFRdiRV58ICCSKPNE2eGKJioinX4kH9sH9y/3MOcHAlIqiTTwDMFKG8/5mEvpawqFpA84Zgq1u3bruGgWeL/TFeE4RongZMeT5DVUnN5pK1xhCiSjheRicm8t7PLNUWidi5b///a/r88MZBxMlW9tepBbCWL15Rzd7dbvehbQ6YVciAhGj2958muU12LyPWfv9ZCv4ZpJVql7VmlxzktXutpd7X3JzWJWm9a3xFcdbzQM6OAEaPG0MHsyiuUtLBGQrq9urs1XOL43sqFQlz2rs2c4aXnCM5dWrZYVzl9imNX9HZq0a84ObuqVKwzq27U2nWf5+7d067A/vLcuqt23uPLVrvqq4BZiESBYSpBHgwU2u5rhx4+zJJ590YhShA15ILct4+BLWSwiuX1asWOG+j0cRL4o3WAgGqzBVNrFuR6pIyeADMZps8BiSo4nnJ9yxRQMLOtZ3vIyIU6/gBIPgTz/91AlUlp122mllRWD8wvcJCSOskLYPPTb+p+oxoYZ8D0EcCuGVDMBDw4QR9IgIxClThiSSSyhERYHrm2lihgwZ4voZUg4Qn+TpIqR5UeiJ6ATyshs1auRSBMjLzFY8MUqeOLnlRKD4rVQcDSqqYxTEu4jBCs8jBjX2QaQFyyoiGBwxDpBi8cUXXwSWJgeuH7yvGCfffffduObIDSZX214kl7w6+Vbn2P2t+f3n23aP9Leq2zUKfFIKxY3WfPmbC5mt1WU3q7Fv+8Anf4PQrNPzAKtUcu2Su1mWT0p0RZXKtmHGQlv/59zSZUGwvdZvDLCmt51hlWuVGmcQpgUTJrn3dXrub9XbNXfvg6nSuK7VPqo0imbNF79qvlGx1SNBGgNCzAg/peAOHjce3hQpwkoLLEPgEKLnV5SSX0aYLmG7Xm4TOY8MEhkYMJDCW4cojMYOO+wQeJc88PiSE4TQTjQcCmGIVwSPC4IerwuincJBXl4deU14eCPlyIbCYJPtAG2G1T8cCHnvuAlNC/VgU3SDgXY4CEVjXcQ0HiMhchWiIPr27ev6HPIA8XZFMj4hUvGoEcL7448/BpZmF4iUl19+2UVJdOnSxeXlexEQyQIjJR5BPI/0a+RiUiyN8FQvL7eigSjF8MhzJ5Fon2jQXhgPaaN4jY+h5GLbi/gInYeUcNtGFx3rvJwUB8JLuU2H7Uu9kCEUF6yzDTNLjczVd2phlfLCD32rNm9oeQ3rWNGi5Va4YJlbVq1VE6vWppkLq513zdMuz5R8U0JxvRzUUMgzLZxXun719pHTnqq1be6KLxWWHNumQNiuEFsrEqRxgBcNryQFI5h3kIcswhEI6fUrrgCBFVwpFpGK944KiAjeRKaMSAYUvcADjBfT73Qv0WCQy3bIiWVQi9gl98jLkcXT7CfHiBBaz2vZunXriINnYOACeHNCQ4M5lkhVg7Hqe7lm0QpZCZEr0H8h4GJB30REx/jx4wNLsgcMgYhqfgteOfJ5k+EZjQZ9BZV7MSzOnj3bRdFUxDB/Ilo4t4T5lqd4VSRII2EKJlJAkkWutL0oHwjRuscdaA379TDbVGzLXvzUlgwfHVYkFhdtsuK1pQaXxY+NCh/6W/Kaeda9TowicL3wW5dvevWJVm2Hps7DipeUirwzz77Ppve61VXeXf/HbAZ17vtQvK7QijcUuvcRQ41LXnOvfNJV/XX7W53aquNCZDsSpOUA4UNYKmFF8cypiRjFY+hVisVbQZEGpi0hN4eiRnhisV6nm/JM9+IHBhMUibrrrrvc78PaTeGNbCMVodCiFK9QFvmEfuH+wiBBMZ5Y4Onmu8G5krHwjsXP9lMJBhPEFAW2/Hqs+B7Hz7H7uWe93DsKGTGPMt6nWLBdpgyhf8imsF2ECBElhIbiHcUwmAxDml+IJDn//PNdgbmK7KlD1CeS1++XeFJa/JIrbS/KQaVKVueY/Utendy/K9/5yoXmJhtyPlsOu9xaPHGp1TvhYJcXCsXrC13l3TmXPGZLnvogosdUCBEbCdIQyNlkcIOHEFEYC3IRsQAD65LrEgvyG/EMAtZ8wn55qJJ7SUgSRY1SUYjDD4lM9wKIWCba79mzp6v6GwvCZr1wZaariQUC0RMLFNVA1EeCz4GCR1TdDQaDQaR1GZDxObnCqRDjohTOC6HbXgi2Hyiwg+GG8NFYEG3Ad1nHLxwLx5TsMM94IQqD4yd6wK/wo98hxBwDmZ8plNq1a+f2wQsPmR9IKcAblU3g0SMHkgJGFC+iInqqiiVFgogKhD0Fn2KlWIjkorYXQIhuvd6HuHBbPJjLXhzrvJybwXyklUuHu80Gn71Z6G+kV/4+IUWzSsQvBZMaXniMtXrtJlf5dtsbTrHqO7d0+10x6mtb93sgV5qQ4JJ9ktva4qnLwm4/+KUqukJIkG4BVQIRPwwIyXOMFQqEgPEKK4QTQOHwivMwBynTIYSbj4/BX7ofsniUEpnuBcjdZABNyX+KoMSCfXmCgYIpsSBEl+qQQPgXhaHCweCc3wD8Bi8E1wNvrBf6GwreHwY3eIe9sF+RfDBGcC65B/yILgwInFMMP34qSXthgqwTzXDhwTFwLBxTpPzidIExBA8mRio/hh2gr6BPwcATer2Hgzzq7t27u/vIr8ikj+KeYPvRwuXTBakF5KQzlzPFmIhUCa72mk68Nk+FFzDV4In3rv1UGEEpZjRx4sSUVcStyG0vkgdVcuv3OcwVJGIqlZWjvtkshLZyfnWXCwprJ07b7LNYrHjrC5vRZ4gtfuTdzdYjlLfW4Xs6gYtQJfR2w9TS2hNVGtZ208FsXFlg6yf7N4wKsTUjQRoCYpT8RgaGFMmg+mQkUcpgl7xR5hfl+xQ6CjcgZMAbLpSXZeHCpBBr5Kgmg3hyIROd7gWYZJ8QKiDsmOInkcQA7ck8gRTSoOhFJG9s6LEzvyP5ToT5UrE3dPv8z3I+53uEQYdCbi6VOEMHMOyLYyKflfVSnYO2NUPoZ7du3Vw+IhPdxwJhRjj8nnvu6ctQQI4x9yLr+BF1HAPHQo6kX49hqkDsUSkao4mfyqf0IRjOaBcMKX5AeJCrjvGFSrt+RLsnXIgcCWdASycYjs4880yX9oAgRZj6CTtOBbQdxXXoL7nuKhoYPYmKScV5pY+lLybyIBXzhVb0thfJpebBu1qNvUuLJq547xtbN+nvCsyVqlaxmp13cYKV+UrXT50X+GRzmH5l+nEDbfZFDzthC1TOLVqwzAq++6Pkb4jnNYTKNUvvocq18y1/n9JKvoQRFy0KY0AvuX4Ru+ShzrtuuJuyJpTitSVjz42pC6UXIpuQIA0DIonKughD8jrxYiJWKPyAZZ4QUx6EhIqRt4SHlGp/nTqV5jF4eOKU9YI9eoQdEhpIpUAKMuDVA3LBGCBStZfy9onCoJZcTcBL5Dc3iDwcBiiJTPeCkCfcmGlsEH29evVyRUbIhyWckHbjL7+ZnFtC7RDxrBMcJhnt2BnYMF0M5+Xaa6+1J554oqztmBqHidJZzucUNyE0MRzkmbEu6zCoQYgz/cUzzzzjjp/pfsIZFkRy4BxTlISwaMRUNEHEZ15FTeaV9OPF4Vo84YQTnHEl3NQ/wTBoZs5aDBKEmydy3jlGDEgM6vlt/GXezURz8jC8cCzMVYwQjAa/EYMY4fKRrvdwYDxiH88//7wTeNHg9zGfJMYaz+gUD3h7mVKJtsEYQXGzSFNZxYLfS3Vu+inmukSYJkOM0vded911bnt+PdPAFFn01V27di2rIB4PixYtsvPOO89FmNA+tBPtFS9e3j/V4P1ed5xPikFhzIh1Xqkij1ed3+sXjLUYdQmr9aJbwpGpthe5BdO21Dv10NKqu6vX2vJXP9tsKpX8AzpYfqf2VrRkpc27cYTL/SwuLDVMbypY58Thwrtfs02rCqzaDs2saotSo3SNvdq5cFrmGV0wZGSpUOWZVfIqmr/MFj/6rptvlJDhGrv/nVJCXqubZ3TqXLe/tf83tSzHlIq9FGBaMuxDVzxpmz3aWF790mkFgSrAiOfCOUu2DD8WIkeRIA0DeVjkJDGfHaKJQS3iCsHJg5WHH9MkICbJGeV7DLJCLcx8j7BRBpasx4MTbwweSKZcAPKemL4FzwzCjIE633nggQfce/IhI4WnRoIBOR5C4HcwCGQKlmjhx3haCLWl4m88A9tgCMtigMPABVE4cuRIJ+4IJeT38xcBigihbRjkIDKCiXbsiAUGb4Tn0e789dqOME3OA8v5Pt8LN1DF+8mAlvPFOhRAwUOLp4VjIo9XE66nHtqYeQQZUEarKI0AwVDAdcPcs37hXsV4MWzYsLKc4lAQWnhGGTRTOduvhzEUPEyXX3552dQW/L344osTrpRN6ClGKaIMEJuRwhERdfRBiJlzzjnH3Tt+IR+bPgijDyGvkQQibcR0LzfffLMzzHn3pl8Q1NynRCUAhqlBgwbZ008/7bbtF76Ltw1DA30LBkKKwiHiokG/QX+A4IlWJIq+hfZ78cUXnVAn0iKasON4EFwYIumvact4C2JxbPT/tIXX/rQT7RXLEBEKfSAvrgMMpQjdaCD8mGOWOUK5DwnjjgaFwrie6a8x4ER7lnhtc9lll7n/uZajGZIy0fYiN9lml1ZWp3vp3J4F30xy84l6IFgbXXqcy/nEG0l13Gk9bnLVbqf3vNUWP/6eE4c1S4QrlXu96WOqNKprDfse5byf6379y2ad+4BN7Xa9e804fYit/myi+6xR/54udNiDeUabXNvbhe5umD7f5l49zKYddaPb318n3G7LX/vcVQeu2/MAVyippDMLrFmybpP6bj3EM/ubduQNtvYnFe4SuU1eyaD/tsD7tMDD5uCDS26+LAfvDdMhIKgQLvzPQ5hJuoHwPga8DCgYqIUbDPKQ5EFOHg3eQR6khMphkcYThyeEwRXheQyWsCRTUIlpXxCGeFa98FP2x+CL8N/33nvPpk+f7ipkRgphJESKY8b7wTHzGwgFjDRoZQA0YsQIJ0YZFCTqdUBAMmghP5awV44ZLya/jwEToZQM1hmUEoIZbkAZ7dg5Lqr0Ik4Q0Rw330FMnnTSSa56L4NW1g+GfFU8KrQl3lnal3XZB+vS7pzLeAfcmYJwTsJew0GerFcwKlvhvGOkYGCJaCT/GuMNRh0+o2ANnlGqaDZt2tSJJj+5xh5cJxgrEC6E3XMfYvDxrgvOPd7BCy64wHkXGcT7KQgUDoqfPfvss4H/SuG+JtICb2kicKxc34gTxAoCnkE90QMIVIQkoar0p0OHDg0bnh4L7nXaiegARDR9CYWOEAjsA2PAHXfc4cQo1xP3FucpHuj7qCSONy4Yzg33sJ+ce6DoFEYm+gKEi98K5BjzEO2IfPqQSPujXekT+IsBcfjw4c4ggEGS6471uS45r3gj6SsQdFxHGA/pe7zIDr94xxZa3Itj5JqM53rnvGDwxLvKsXPNc93QH/OZd055DnHd9+/f33m9MbRy7Ud6Lnhw/ZGXjXGC+5VweK4d+niuS9qGZxNh4IMHD96sbfgtfB6JTLR9OonWH1eU8VCm2Lhsta365EdXzbb2EXs5L2Q08CrynTVf/+68pIVzFjuBiRgFhCPbYQqXooXLbdPyNU4U4lWtsdsOJaKyl9U/7bCy73tUbdHIah+5twuf3bh4hZumxS1v2sDqHL2vE57V2285FstrUNvq9NjP5ZQS7rtp1VosKu448jvtbI2vON55UkPnTqUYEse47vcZZevU2LOd87iKLYk2HhIVh0olIsm/mToJYKm+4YYbAv8JkR4I+cSrjVBmQJXOqSFSAeKAgVk4CNtjkFYRYACNgWLMmDGBJZuDkQZBk6jAJroB7yeFVcJBOzGoJQc6UfAcYbgKDn1F2BHGy0A7URDlGKd4hYNrGM8+4emJDsgREUQ1EBkQyUuKkCOaAcNNvCAaMCpwTQZD2DyCOppQCYb8VdIoIp3HWHAMnOdYhY/wzJE2wb2FQSQaGAkR8whBv78jGAycGBxoi2C4JrnmMeDFC+eT1IWHHnrItVkkuHYwNGCQidUmwZCegnEIURvpeoFE2iadbZ9OovXHGg8JUX6ijYdExUEhu0KIjIHIId+SsFkMBl4xLTzpiC1CCsvj7cVzSB4z22KbwD7YF/vEs1keMQrkXDN9ExEPwF8EHFEQ5QHPE5EEDNIJxcTLC3jxCU/HKkzYYnm8Q4gRtoXnCYFC1AIEtxHnJxExCogqPGZEkQBCaMCAAdavX7+sFBK0JfmUXHd4jWkTIjI8aHvqBpB2gJeQAniJ/g68kggS2sK77mkn2isRMQqcTwwwEyZMcNEBvXv3Lrtu2AcGOQZuP/30kzMIxCNGgSgGitbhoWc7bM87dvbD/tgvUQPxtk06214IIUR2IQ+p2CqQh1QIIUS6kYdUiNQiD2luIA+pEEIIIYQQQoiMIEEqhBBCCCGEECIjSJCKrQKmAaHACtNoVPRwXSGEEEIIIXIFCVIhhBBCCCGEEBlBglSIHMObc1AIIUTmoB+mPxZCCBEdCVIhcoz8/HwrKCgI/CeEECIT0A/THwshhIiOBKkQOUa9evVcvqwQQojMQT9MfyyEECI6EqRC5BhNmjSx+fPnB/4TQgiRCeiH6Y+FEEJER4JUiByjRYsWNnPmTFu/fn1giRBCiHRC/0s/TH8shBAiOhKkQuQY1apVs7Zt29rkyZMDS4QQQqQT+l/6YfpjIYQQ0ZEgFSIH6dChg02ZMsWWLl0aWCKEECId0O/S/9IPCyGEiI0EqRA5SI0aNaxjx472ww8/aAoYIYRIE/S39Lv0v/TDQgghYiNBKkSO0qZNG1dQ46uvvpIoFUKIFEM/S39Lv0v/K4QQwh8SpELkMHvssYfVrVvXPvvsM4XvCiFEiqB/pZ+lv6XfFUII4R8JUiFyHAZHFNcYN26c/fLLL6q+K4QQSYL+lH6V/pV+VmJUCCHiJ+2CtHHjxjZr1qzAf0KIeOH+4T6KB8LHevToYYWFhTZq1Cj79ttvbcaMGbZy5UqF8wohhE/oL+k36T/pR+lP6VfpX+MN09V4SIjykch4SGQnlYpLCLxPCxMmTLDx48db9+7drWXLloGlQgg/0Pl+/PHH1qVLF9tvv/0CS+Njw4YNNnv2bFu4cKEtX77cCgoKbOPGjYFPhRBCRCIvL8/y8/OtXr16LleUeUYTndpF4yEhEicZ4yGRPaRdkILXCS9atCiwRAjhByyB6nyFECI30HhIiMTQeCi3yIggFUIIIYQQQgghVNRICCGEEEIIIURGkCAVQgghhBBCCJERJEiFEEIIIYQQQmQECVIhhBBCCCGEEBlBglQIIYQQQgghREaQIBVCCCGEEEIIkREkSIUQQgghhBBCZAQJUiGEEEIIIYQQGUGCVAghhBBCCCFERpAgFUIIIYQQQgiRESRIhRBCCCGEEEJkBAlSIYQQQgghhBAZQYJUCCGEEEIIIURGkCAVQgghhBBCCJERJEiFEEIIIYQQQmQECVIhhBBCCCGEEBlBglQIIYQQQgghREaQIBVCCCGEEEIIkREkSIUQQgghhBBCZAQJUiGEEEIIIYQQGcDs/wH+SlY313YgggAAAABJRU5ErkJggg==)\n"
      ],
      "metadata": {
        "id": "hwyOTx08xLcs"
      }
    },
    {
      "cell_type": "markdown",
      "source": [
        "**Haciéndolo ahora con código**"
      ],
      "metadata": {
        "id": "fkY9GWx1x8kc"
      }
    },
    {
      "cell_type": "code",
      "source": [
        "import numpy as np\n",
        "import time\n",
        "\n",
        "def det(matrix):\n",
        "    # Base case: determinante de una matriz 1x1\n",
        "    if len(matrix) == 1:\n",
        "        return matrix[0, 0]\n",
        "\n",
        "    # Base case: determinante de una matriz 2x2\n",
        "    if len(matrix) == 2:\n",
        "        return matrix[0, 0] * matrix[1, 1] - matrix[0, 1] * matrix[1, 0]\n",
        "\n",
        "    determinant = 0\n",
        "    for j in range(len(matrix)):\n",
        "        sub_matrix = np.delete(matrix, 0, axis=0)  # Elimina la primera fila\n",
        "        sub_matrix = np.delete(sub_matrix, j, axis=1)  # Elimina la columna j\n",
        "        determinant += (-1) ** j * matrix[0, j] * det(sub_matrix)\n",
        "    return determinant\n",
        "\n",
        "# Definir la matriz\n",
        "A = np.array([[8, 1, 2],\n",
        "              [3, 4, 5],\n",
        "              [6, 7, 9]])\n",
        "\n",
        "# Calcular el determinante\n",
        "start_time = time.time()\n",
        "determinante = det(A)\n",
        "end_time = time.time()\n",
        "\n",
        "# Imprimir el determinante y el tiempo de ejecución\n",
        "print(\"El determinante de la matriz es:\", determinante)\n",
        "print(\"Tiempo de ejecución:\", end_time - start_time, \"segundos\")\n",
        "\n"
      ],
      "metadata": {
        "colab": {
          "base_uri": "https://localhost:8080/"
        },
        "id": "18nmkqsDxYJv",
        "outputId": "dbb82c59-de63-41da-deb7-1d805d17d07f"
      },
      "execution_count": null,
      "outputs": [
        {
          "output_type": "stream",
          "name": "stdout",
          "text": [
            "El determinante de la matriz es: 5\n",
            "Tiempo de ejecución: 0.001392364501953125 segundos\n"
          ]
        }
      ]
    }
  ]
}