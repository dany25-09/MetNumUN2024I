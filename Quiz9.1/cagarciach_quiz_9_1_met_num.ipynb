{
  "nbformat": 4,
  "nbformat_minor": 0,
  "metadata": {
    "colab": {
      "provenance": [],
      "authorship_tag": "ABX9TyMB7g9zwMG4Db832pTh/1nZ",
      "include_colab_link": true
    },
    "kernelspec": {
      "name": "python3",
      "display_name": "Python 3"
    },
    "language_info": {
      "name": "python"
    }
  },
  "cells": [
    {
      "cell_type": "markdown",
      "metadata": {
        "id": "view-in-github",
        "colab_type": "text"
      },
      "source": [
        "<a href=\"https://colab.research.google.com/github/dany25-09/MetNumUN2024I/blob/main/Quiz9.1/cagarciach_quiz_9_1_met_num.ipynb\" target=\"_parent\"><img src=\"https://colab.research.google.com/assets/colab-badge.svg\" alt=\"Open In Colab\"/></a>"
      ]
    },
    {
      "cell_type": "markdown",
      "source": [
        "# 1. Solve the using *LUsolve* from sympy the   2 $\\times$ 2 system $Ax=b$, inside the function *LUsolve_2_by_2_lin_sys* with\n",
        "\n",
        "$$A = \\left[\n",
        "  \\begin{array}{cc}\n",
        "e & i\\\\\n",
        " \\sqrt{2}& \\pi\n",
        "\\end{array}\n",
        "\\right]\n",
        "$$\n",
        "\n",
        "$$b  = \\left[\n",
        "  \\begin{array}{c}\n",
        "\\sqrt{3} \\\\\n",
        "1\n",
        "\\end{array}\n",
        "\\right]\n",
        "$$\n"
      ],
      "metadata": {
        "id": "zmiPUUA1Uhnx"
      }
    },
    {
      "cell_type": "code",
      "execution_count": 3,
      "metadata": {
        "id": "HGTwf_kYbeQS"
      },
      "outputs": [],
      "source": [
        "from sympy import *\n",
        "init_printing()\n",
        "\n",
        "def LUsolve_2_by_2_lin_sys():\n",
        "\n",
        "  A = Matrix([[E,I],\n",
        "            [sqrt(2),pi]])\n",
        "  b = Matrix(2,1,[sqrt(3),1])\n",
        "\n",
        "  x = A.LUsolve(b)\n",
        "\n",
        "  return x\n",
        "\n"
      ]
    },
    {
      "cell_type": "code",
      "source": [
        "LUsolve_2_by_2_lin_sys()"
      ],
      "metadata": {
        "colab": {
          "base_uri": "https://localhost:8080/",
          "height": 102
        },
        "id": "GDjaLyiTUrXi",
        "outputId": "04eb4697-b86b-4752-876b-67712b22e829"
      },
      "execution_count": 4,
      "outputs": [
        {
          "output_type": "execute_result",
          "data": {
            "text/plain": [
              "⎡⎛       ⎛      -1    ⎞⎞    ⎤\n",
              "⎢⎜     ⅈ⋅⎝- √6⋅ℯ   + 1⎠⎟  -1⎥\n",
              "⎢⎜√3 - ────────────────⎟⋅ℯ  ⎥\n",
              "⎢⎜                 -1  ⎟    ⎥\n",
              "⎢⎝       π - √2⋅ⅈ⋅ℯ    ⎠    ⎥\n",
              "⎢                           ⎥\n",
              "⎢             -1            ⎥\n",
              "⎢       - √6⋅ℯ   + 1        ⎥\n",
              "⎢       ────────────        ⎥\n",
              "⎢                 -1        ⎥\n",
              "⎣       π - √2⋅ⅈ⋅ℯ          ⎦"
            ],
            "text/latex": "$\\displaystyle \\left[\\begin{matrix}\\frac{\\sqrt{3} - \\frac{i \\left(- \\frac{\\sqrt{6}}{e} + 1\\right)}{\\pi - \\frac{\\sqrt{2} i}{e}}}{e}\\\\\\frac{- \\frac{\\sqrt{6}}{e} + 1}{\\pi - \\frac{\\sqrt{2} i}{e}}\\end{matrix}\\right]$"
          },
          "metadata": {},
          "execution_count": 4
        }
      ]
    },
    {
      "cell_type": "markdown",
      "source": [
        "# 2. Solve the using *solve* from sympy the   2 $\\times$ 2 system $Ax=b$, inside the function *solve_2_by_2_lin_sys* with\n",
        "\n",
        "$$A = \\left[\n",
        "  \\begin{array}{cc}\n",
        "e & i\\\\\n",
        " \\sqrt{2}& \\pi\n",
        "\\end{array}\n",
        "\\right]\n",
        "$$\n",
        "\n",
        "$$b  = \\left[\n",
        "  \\begin{array}{c}\n",
        "\\sqrt{3} \\\\\n",
        "1\n",
        "\\end{array}\n",
        "\\right]\n",
        "$$"
      ],
      "metadata": {
        "id": "nFlXFUvoUvm7"
      }
    },
    {
      "cell_type": "code",
      "source": [
        "from sympy import *\n",
        "init_printing()\n",
        "\n",
        "def solve_2_by_2_lin_sys():\n",
        "\n",
        "  A = Matrix([[E,I],\n",
        "            [sqrt(2),pi]])\n",
        "  b = Matrix(2,1,[sqrt(3),1])\n",
        "\n",
        "  x = Matrix(2,1,symbols('x1:3'))\n",
        "\n",
        "  list(A@x-b)\n",
        "  list(x)\n",
        "\n",
        "  sol=linsolve(list(A@x-b),list(x))\n",
        "\n",
        "  return sol"
      ],
      "metadata": {
        "id": "rzAgMGZkeNYr"
      },
      "execution_count": 5,
      "outputs": []
    },
    {
      "cell_type": "code",
      "source": [
        "solve_2_by_2_lin_sys()"
      ],
      "metadata": {
        "colab": {
          "base_uri": "https://localhost:8080/",
          "height": 68
        },
        "id": "tok13bE3U6Pf",
        "outputId": "7373d465-8955-4ec4-d762-6ee19d8507c4"
      },
      "execution_count": 6,
      "outputs": [
        {
          "output_type": "execute_result",
          "data": {
            "text/plain": [
              "⎧⎛      √2⋅ⅈ           √6⋅π            2⋅√3           √2⋅ℯ    ⎞⎫\n",
              "⎨⎜- ──────────── + ────────────, - ──────────── + ────────────⎟⎬\n",
              "⎩⎝  √2⋅ℯ⋅π - 2⋅ⅈ   √2⋅ℯ⋅π - 2⋅ⅈ    √2⋅ℯ⋅π - 2⋅ⅈ   √2⋅ℯ⋅π - 2⋅ⅈ⎠⎭"
            ],
            "text/latex": "$\\displaystyle \\left\\{\\left( - \\frac{\\sqrt{2} i}{\\sqrt{2} e \\pi - 2 i} + \\frac{\\sqrt{6} \\pi}{\\sqrt{2} e \\pi - 2 i}, \\  - \\frac{2 \\sqrt{3}}{\\sqrt{2} e \\pi - 2 i} + \\frac{\\sqrt{2} e}{\\sqrt{2} e \\pi - 2 i}\\right)\\right\\}$"
          },
          "metadata": {},
          "execution_count": 6
        }
      ]
    }
  ]
}